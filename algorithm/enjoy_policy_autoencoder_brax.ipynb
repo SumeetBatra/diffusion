{
 "cells": [
  {
   "cell_type": "code",
   "execution_count": null,
   "outputs": [],
   "source": [
    "import os\n",
    "from pathlib import Path\n",
    "project_root = os.path.join(str(Path.home()), 'diffusion_models')\n",
    "os.chdir(project_root)\n",
    "%pwd # should be PPGA root dir"
   ],
   "metadata": {
    "collapsed": false,
    "ExecuteTime": {
     "start_time": "2023-03-31T17:49:23.929128Z",
     "end_time": "2023-03-31T17:49:23.929520Z"
    }
   }
  },
  {
   "cell_type": "code",
   "execution_count": null,
   "outputs": [],
   "source": [
    "import pickle\n",
    "import torch\n",
    "import numpy as np\n",
    "\n",
    "from autoencoders.policy.resnet3d import ResNet3DAutoEncoder\n",
    "from autoencoders.policy.hypernet import HypernetAutoEncoder\n",
    "from attrdict import AttrDict\n",
    "from RL.actor_critic import Actor\n",
    "from envs.brax_custom.brax_env import make_vec_env_brax\n",
    "from IPython.display import HTML, Image\n",
    "from IPython.display import display\n",
    "from brax.io import html, image\n",
    "from dataset.policy_dataset import preprocess_model, postprocess_model"
   ],
   "metadata": {
    "collapsed": false,
    "ExecuteTime": {
     "start_time": "2023-03-31T17:49:23.929244Z",
     "end_time": "2023-03-31T17:49:26.398302Z"
    }
   }
  },
  {
   "cell_type": "code",
   "execution_count": null,
   "outputs": [],
   "source": [
    "# params to config\n",
    "device = torch.device('cuda')\n",
    "env_name = 'halfcheetah'\n",
    "seed = 1111\n",
    "normalize_obs = True\n",
    "normalize_rewards = False\n",
    "obs_shape = 18\n",
    "action_shape = 6\n",
    "mlp_shape = (128, 128, 6)\n",
    "\n",
    "env_cfg = AttrDict({\n",
    "    'env_name': env_name,\n",
    "    'env_batch_size': None,\n",
    "    'num_dims': 2,\n",
    "    'seed': seed,\n",
    "    'num_envs': 1\n",
    "})"
   ],
   "metadata": {
    "collapsed": false,
    "ExecuteTime": {
     "start_time": "2023-03-31T17:49:26.399803Z",
     "end_time": "2023-03-31T17:49:26.401307Z"
    }
   }
  },
  {
   "cell_type": "code",
   "execution_count": null,
   "outputs": [],
   "source": [
    "archive_df_path = '/home/sumeet/QDPPO/experiments/ppga_halfcheetah_adaptive_stddev/1111/checkpoints/cp_00001990/archive_df_00001990.pkl'\n",
    "with open(archive_df_path, 'rb') as f:\n",
    "    archive_df = pickle.load(f)\n",
    "\n",
    "scheduler_path = '/home/sumeet/QDPPO/experiments/ppga_halfcheetah_adaptive_stddev/1111/checkpoints/cp_00001990/scheduler_00001990.pkl'\n",
    "with open(scheduler_path, 'rb') as f:\n",
    "    scheduler = pickle.load(f)"
   ],
   "metadata": {
    "collapsed": false,
    "ExecuteTime": {
     "start_time": "2023-03-31T17:49:26.402390Z",
     "end_time": "2023-03-31T17:49:28.180807Z"
    }
   }
  },
  {
   "cell_type": "code",
   "execution_count": null,
   "outputs": [],
   "source": [
    "# make the env\n",
    "env = make_vec_env_brax(env_cfg)"
   ],
   "metadata": {
    "collapsed": false,
    "ExecuteTime": {
     "start_time": "2023-03-31T17:49:28.187911Z",
     "end_time": "2023-03-31T17:49:28.470491Z"
    }
   }
  },
  {
   "cell_type": "code",
   "execution_count": null,
   "outputs": [],
   "source": [
    "def get_best_elite():\n",
    "    best_elite = scheduler.archive.best_elite\n",
    "    agent = Actor(obs_shape, action_shape, True, True).deserialize(best_elite.solution).to(device)\n",
    "    if normalize_obs:\n",
    "        agent.obs_normalizer = best_elite.metadata['obs_normalizer']\n",
    "    return agent"
   ],
   "metadata": {
    "collapsed": false,
    "ExecuteTime": {
     "start_time": "2023-03-31T17:49:28.470817Z",
     "end_time": "2023-03-31T17:49:28.471922Z"
    }
   }
  },
  {
   "cell_type": "code",
   "execution_count": null,
   "outputs": [],
   "source": [
    "def get_random_elite():\n",
    "    elite = scheduler.archive.sample_elites(1)\n",
    "    agent = Actor(obs_shape, action_shape, True, True).deserialize(elite.solution_batch.flatten()).to(device)\n",
    "    if normalize_obs:\n",
    "        agent.obs_normalizer = elite.metadata_batch[0]['obs_normalizer']\n",
    "    return agent"
   ],
   "metadata": {
    "collapsed": false,
    "ExecuteTime": {
     "start_time": "2023-03-31T17:49:28.472912Z",
     "end_time": "2023-03-31T17:49:28.504438Z"
    }
   }
  },
  {
   "cell_type": "code",
   "execution_count": null,
   "outputs": [],
   "source": [
    "def integrate_obs_normalizer(agent: Actor):\n",
    "    assert agent.obs_normalizer is not None\n",
    "    w_in = agent.actor_mean[0].weight.data\n",
    "    b_in = agent.actor_mean[0].bias.data\n",
    "    mean, var = agent.obs_normalizer.obs_rms.mean, agent.obs_normalizer.obs_rms.var\n",
    "    w_new = w_in / torch.sqrt(var + 1e-8)\n",
    "    b_new = b_in - (mean / torch.sqrt(var + 1e-8)) @ w_in.T\n",
    "    agent.actor_mean[0].weight.data = w_new\n",
    "    agent.actor_mean[0].bias.data = b_new\n",
    "    return agent\n"
   ],
   "metadata": {
    "collapsed": false,
    "ExecuteTime": {
     "start_time": "2023-03-31T17:49:28.493975Z",
     "end_time": "2023-03-31T17:49:28.508244Z"
    }
   }
  },
  {
   "cell_type": "code",
   "execution_count": null,
   "outputs": [],
   "source": [
    "def enjoy_brax(agent, render=True, deterministic=True):\n",
    "    if normalize_obs:\n",
    "        obs_mean, obs_var = agent.obs_normalizer.obs_rms.mean, agent.obs_normalizer.obs_rms.var\n",
    "        print(f'{obs_mean=}, {obs_var=}')\n",
    "\n",
    "    obs = env.reset()\n",
    "    rollout = [env.unwrapped._state]\n",
    "    total_reward = 0\n",
    "    measures = torch.zeros(env_cfg.num_dims).to(device)\n",
    "    done = False\n",
    "    while not done:\n",
    "        with torch.no_grad():\n",
    "            obs = obs.unsqueeze(dim=0).to(device)\n",
    "            if normalize_obs:\n",
    "                obs = (obs - obs_mean) / torch.sqrt(obs_var + 1e-8)\n",
    "\n",
    "            if deterministic:\n",
    "                act = agent.actor_mean(obs)\n",
    "            else:\n",
    "                act, _, _ = agent.get_action(obs)\n",
    "            act = act.squeeze()\n",
    "            obs, rew, done, info = env.step(act.cpu())\n",
    "            measures += info['measures']\n",
    "            rollout.append(env.unwrapped._state)\n",
    "            total_reward += rew\n",
    "    if render:\n",
    "        i = HTML(html.render(env.unwrapped._env.sys, [s.qp for s in rollout]))\n",
    "        display(i)\n",
    "    print(f'{total_reward=}')\n",
    "    print(f' Rollout length: {len(rollout)}')\n",
    "    measures /= len(rollout)\n",
    "    print(f'Measures: {measures.cpu().numpy()}')\n",
    "    return total_reward.detach().cpu().numpy()"
   ],
   "metadata": {
    "collapsed": false,
    "ExecuteTime": {
     "start_time": "2023-03-31T17:49:28.510198Z",
     "end_time": "2023-03-31T17:49:28.552990Z"
    }
   }
  },
  {
   "cell_type": "code",
   "execution_count": null,
   "outputs": [],
   "source": [
    "agent = get_random_elite()\n",
    "# make sure pre and post-processing are working correctly. This should return\n",
    "# the exact same agent as the previous line\n",
    "# agent = postprocess_model(agent, preprocess_model(agent, mlp_shape), mlp_shape, deterministic=False).to(device)\n",
    "# if normalize_obs:\n",
    "#     agent = integrate_obs_normalizer(agent)\n",
    "enjoy_brax(agent, render=False)"
   ],
   "metadata": {
    "collapsed": false,
    "ExecuteTime": {
     "start_time": "2023-03-31T17:51:10.376217Z",
     "end_time": "2023-03-31T17:51:10.986052Z"
    }
   }
  },
  {
   "cell_type": "code",
   "execution_count": null,
   "outputs": [],
   "source": [
    "# load the VAE model\n",
    "autoencoder_cp_path = 'checkpoints/autoencoder.pt'\n",
    "vae_model = HypernetAutoEncoder(emb_channels=8, z_channels=4)\n",
    "vae_model.load_state_dict(torch.load(autoencoder_cp_path))\n",
    "vae_model.to(device)"
   ],
   "metadata": {
    "collapsed": false,
    "ExecuteTime": {
     "start_time": "2023-03-31T17:51:14.696545Z",
     "end_time": "2023-03-31T17:51:14.776116Z"
    }
   }
  },
  {
   "cell_type": "code",
   "execution_count": null,
   "outputs": [],
   "source": [
    "# get the policy input tensor\n",
    "policy_tensor = preprocess_model(agent, (128, 128, 6)).to(device).unsqueeze(dim=0)\n",
    "policy_tensor.shape"
   ],
   "metadata": {
    "collapsed": false,
    "ExecuteTime": {
     "start_time": "2023-03-31T17:51:14.920417Z",
     "end_time": "2023-03-31T17:51:14.924151Z"
    }
   }
  },
  {
   "cell_type": "code",
   "execution_count": null,
   "outputs": [],
   "source": [
    "# get the policy weights dict for shank's ghn based VAE\n",
    "input_weights_dict = {}\n",
    "for key, param in agent.named_parameters():\n",
    "    if 'weight' in key or 'bias' in key or 'logstd' in key:\n",
    "        input_weights_dict[key] = param.unsqueeze(0)"
   ],
   "metadata": {
    "collapsed": false,
    "ExecuteTime": {
     "start_time": "2023-03-31T17:51:15.111992Z",
     "end_time": "2023-03-31T17:51:15.117116Z"
    }
   }
  },
  {
   "cell_type": "code",
   "execution_count": null,
   "outputs": [],
   "source": [
    "# get the reconstructed model\n",
    "out, _ = vae_model(input_weights_dict)\n",
    "\n",
    "# this is the 'policy as a tensor' way of doing reconstruction\n",
    "# model_in = Actor(obs_shape, action_shape, True, True).to(device)\n",
    "# rec_agent = postprocess_model(model_in, out, (128, 128, 6), deterministic=False)\n",
    "# rec_agent.obs_normalizer = agent.obs_normalizer\n",
    "# rec_agent.to(device)\n",
    "\n",
    "# this is the 'weights dict -> Actor' method of reconstruction i.e. out is already an Actor object\n",
    "rec_agent = out[0]\n",
    "rec_agent.obs_normalizer = agent.obs_normalizer\n",
    "rec_agent.to(device)"
   ],
   "metadata": {
    "collapsed": false,
    "ExecuteTime": {
     "start_time": "2023-03-31T17:51:15.342613Z",
     "end_time": "2023-03-31T17:51:15.358169Z"
    }
   }
  },
  {
   "cell_type": "code",
   "execution_count": null,
   "outputs": [],
   "source": [
    "# if normalize_obs:\n",
    "#     rec_agent = integrate_obs_normalizer(rec_agent)"
   ],
   "metadata": {
    "collapsed": false,
    "ExecuteTime": {
     "start_time": "2023-03-31T17:51:15.922273Z",
     "end_time": "2023-03-31T17:51:15.928644Z"
    }
   }
  },
  {
   "cell_type": "code",
   "execution_count": null,
   "outputs": [],
   "source": [
    "\n",
    "enjoy_brax(rec_agent, render=True, deterministic=True)"
   ],
   "metadata": {
    "collapsed": false,
    "ExecuteTime": {
     "start_time": "2023-03-31T17:51:19.632824Z",
     "end_time": "2023-03-31T17:51:20.230053Z"
    }
   }
  },
  {
   "cell_type": "code",
   "execution_count": null,
   "outputs": [],
   "source": [],
   "metadata": {
    "collapsed": false,
    "ExecuteTime": {
     "start_time": "2023-03-31T17:49:35.212374Z",
     "end_time": "2023-03-31T17:49:35.214188Z"
    }
   }
  }
 ],
 "metadata": {
  "kernelspec": {
   "display_name": "Python 3",
   "language": "python",
   "name": "python3"
  },
  "language_info": {
   "codemirror_mode": {
    "name": "ipython",
    "version": 2
   },
   "file_extension": ".py",
   "mimetype": "text/x-python",
   "name": "python",
   "nbconvert_exporter": "python",
   "pygments_lexer": "ipython2",
   "version": "2.7.6"
  }
 },
 "nbformat": 4,
 "nbformat_minor": 0
}
