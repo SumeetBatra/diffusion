{
 "cells": [
  {
   "cell_type": "code",
   "execution_count": 1,
   "metadata": {},
   "outputs": [
    {
     "data": {
      "text/plain": [
       "'/home/shashank/research/qd/diffusion_models'"
      ]
     },
     "execution_count": 1,
     "metadata": {},
     "output_type": "execute_result"
    }
   ],
   "source": [
    "import os\n",
    "from pathlib import Path\n",
    "project_root = os.path.join(str(Path.home()), 'research/qd/diffusion_models')\n",
    "os.chdir(project_root)\n",
    "%pwd # should be PPGA root dir"
   ]
  },
  {
   "cell_type": "code",
   "execution_count": 2,
   "metadata": {},
   "outputs": [
    {
     "name": "stderr",
     "output_type": "stream",
     "text": [
      "/home/shashank/miniconda3/envs/qd/lib/python3.9/site-packages/tqdm/auto.py:22: TqdmWarning: IProgress not found. Please update jupyter and ipywidgets. See https://ipywidgets.readthedocs.io/en/stable/user_install.html\n",
      "  from .autonotebook import tqdm as notebook_tqdm\n",
      "WARNING:evotorch:The logger is already configured. The default configuration will not be applied. Call `set_default_logger_config` with `override=True` to override the current configuration.\n",
      "100%|██████████| 7115/7115 [00:15<00:00, 455.07it/s]\n",
      "100%|██████████| 791/791 [00:01<00:00, 427.92it/s]\n"
     ]
    }
   ],
   "source": [
    "from autoencoders.policy_hyperautoencoder import HyperAutoEncoder\n",
    "from envs.brax_custom.brax_env import make_vec_env_brax\n",
    "\n",
    "from dataset.policy_dataset import e_data_loader_test, e_data_loader_train, env_cfg, actor_cfg"
   ]
  },
  {
   "cell_type": "code",
   "execution_count": 39,
   "metadata": {},
   "outputs": [],
   "source": [
    "from dataset.policy_dataset import actor_cfg, Actor, test_elites, scheduler\n",
    "import torch\n",
    "from IPython.display import HTML, Image\n",
    "from brax.io import html, image\n",
    "import torch.nn.functional as F\n"
   ]
  },
  {
   "cell_type": "code",
   "execution_count": 40,
   "metadata": {},
   "outputs": [],
   "source": [
    "env = make_vec_env_brax(env_cfg)"
   ]
  },
  {
   "cell_type": "code",
   "execution_count": 183,
   "metadata": {},
   "outputs": [
    {
     "data": {
      "text/plain": [
       "HyperAutoEncoder(\n",
       "  (encoder): ModelEncoder(\n",
       "    (cnns): ModuleDict(\n",
       "      (actor_logstd): Sequential(\n",
       "        (fc1): Linear(in_features=6, out_features=256, bias=True)\n",
       "        (relu1): ReLU(inplace=True)\n",
       "        (fc2): Linear(in_features=256, out_features=256, bias=True)\n",
       "        (relu2): ReLU(inplace=True)\n",
       "        (fc3): Linear(in_features=256, out_features=256, bias=True)\n",
       "        (relu3): ReLU(inplace=True)\n",
       "      )\n",
       "      (actor_mean_0_weight): Sequential(\n",
       "        (cnn_block_0): Sequential(\n",
       "          (conv0): Conv2d(1, 32, kernel_size=(3, 3), stride=(1, 1), padding=(1, 1))\n",
       "          (batchnorm0): BatchNorm2d(32, eps=1e-05, momentum=0.1, affine=True, track_running_stats=True)\n",
       "          (relu0): ReLU(inplace=True)\n",
       "          (maxpool_0): MaxPool2d(kernel_size=2, stride=2, padding=0, dilation=1, ceil_mode=False)\n",
       "        )\n",
       "        (cnn_block_1): Sequential(\n",
       "          (conv1): Conv2d(32, 64, kernel_size=(3, 3), stride=(1, 1), padding=(1, 1))\n",
       "          (batchnorm1): BatchNorm2d(64, eps=1e-05, momentum=0.1, affine=True, track_running_stats=True)\n",
       "          (relu1): ReLU(inplace=True)\n",
       "          (maxpool_1): MaxPool2d(kernel_size=2, stride=2, padding=0, dilation=1, ceil_mode=False)\n",
       "        )\n",
       "        (cnn_block_2): Sequential(\n",
       "          (conv2): Conv2d(64, 64, kernel_size=(3, 3), stride=(1, 1), padding=(1, 1))\n",
       "          (batchnorm2): BatchNorm2d(64, eps=1e-05, momentum=0.1, affine=True, track_running_stats=True)\n",
       "          (relu2): ReLU(inplace=True)\n",
       "          (maxpool_2): MaxPool2d(kernel_size=2, stride=2, padding=0, dilation=1, ceil_mode=False)\n",
       "        )\n",
       "        (cnn_block_3): Sequential(\n",
       "          (conv3): Conv2d(64, 128, kernel_size=(3, 3), stride=(1, 1), padding=(1, 1))\n",
       "          (batchnorm3): BatchNorm2d(128, eps=1e-05, momentum=0.1, affine=True, track_running_stats=True)\n",
       "          (relu3): ReLU(inplace=True)\n",
       "          (maxpool_3): MaxPool2d(kernel_size=2, stride=2, padding=0, dilation=1, ceil_mode=False)\n",
       "        )\n",
       "      )\n",
       "      (actor_mean_0_bias): Sequential(\n",
       "        (fc1): Linear(in_features=128, out_features=256, bias=True)\n",
       "        (relu1): ReLU(inplace=True)\n",
       "        (fc2): Linear(in_features=256, out_features=256, bias=True)\n",
       "        (relu2): ReLU(inplace=True)\n",
       "        (fc3): Linear(in_features=256, out_features=256, bias=True)\n",
       "        (relu3): ReLU(inplace=True)\n",
       "      )\n",
       "      (actor_mean_2_weight): Sequential(\n",
       "        (cnn_block_0): Sequential(\n",
       "          (conv0): Conv2d(1, 32, kernel_size=(3, 3), stride=(1, 1), padding=(1, 1))\n",
       "          (batchnorm0): BatchNorm2d(32, eps=1e-05, momentum=0.1, affine=True, track_running_stats=True)\n",
       "          (relu0): ReLU(inplace=True)\n",
       "          (maxpool_0): MaxPool2d(kernel_size=2, stride=2, padding=0, dilation=1, ceil_mode=False)\n",
       "        )\n",
       "        (cnn_block_1): Sequential(\n",
       "          (conv1): Conv2d(32, 64, kernel_size=(3, 3), stride=(1, 1), padding=(1, 1))\n",
       "          (batchnorm1): BatchNorm2d(64, eps=1e-05, momentum=0.1, affine=True, track_running_stats=True)\n",
       "          (relu1): ReLU(inplace=True)\n",
       "          (maxpool_1): MaxPool2d(kernel_size=2, stride=2, padding=0, dilation=1, ceil_mode=False)\n",
       "        )\n",
       "        (cnn_block_2): Sequential(\n",
       "          (conv2): Conv2d(64, 64, kernel_size=(3, 3), stride=(1, 1), padding=(1, 1))\n",
       "          (batchnorm2): BatchNorm2d(64, eps=1e-05, momentum=0.1, affine=True, track_running_stats=True)\n",
       "          (relu2): ReLU(inplace=True)\n",
       "          (maxpool_2): MaxPool2d(kernel_size=2, stride=2, padding=0, dilation=1, ceil_mode=False)\n",
       "        )\n",
       "        (cnn_block_3): Sequential(\n",
       "          (conv3): Conv2d(64, 128, kernel_size=(3, 3), stride=(1, 1), padding=(1, 1))\n",
       "          (batchnorm3): BatchNorm2d(128, eps=1e-05, momentum=0.1, affine=True, track_running_stats=True)\n",
       "          (relu3): ReLU(inplace=True)\n",
       "          (maxpool_3): MaxPool2d(kernel_size=2, stride=2, padding=0, dilation=1, ceil_mode=False)\n",
       "        )\n",
       "        (cnn_block_4): Sequential(\n",
       "          (conv4): Conv2d(128, 256, kernel_size=(3, 3), stride=(1, 1), padding=(1, 1))\n",
       "          (batchnorm4): BatchNorm2d(256, eps=1e-05, momentum=0.1, affine=True, track_running_stats=True)\n",
       "          (relu4): ReLU(inplace=True)\n",
       "          (maxpool_4): MaxPool2d(kernel_size=2, stride=2, padding=0, dilation=1, ceil_mode=False)\n",
       "        )\n",
       "        (cnn_block_5): Sequential(\n",
       "          (conv5): Conv2d(256, 256, kernel_size=(3, 3), stride=(1, 1), padding=(1, 1))\n",
       "          (batchnorm5): BatchNorm2d(256, eps=1e-05, momentum=0.1, affine=True, track_running_stats=True)\n",
       "          (relu5): ReLU(inplace=True)\n",
       "          (maxpool_5): MaxPool2d(kernel_size=2, stride=2, padding=0, dilation=1, ceil_mode=False)\n",
       "        )\n",
       "        (cnn_block_6): Sequential(\n",
       "          (conv6): Conv2d(256, 512, kernel_size=(3, 3), stride=(1, 1), padding=(1, 1))\n",
       "          (batchnorm6): BatchNorm2d(512, eps=1e-05, momentum=0.1, affine=True, track_running_stats=True)\n",
       "          (relu6): ReLU(inplace=True)\n",
       "          (maxpool_6): MaxPool2d(kernel_size=2, stride=2, padding=0, dilation=1, ceil_mode=False)\n",
       "        )\n",
       "      )\n",
       "      (actor_mean_2_bias): Sequential(\n",
       "        (fc1): Linear(in_features=128, out_features=256, bias=True)\n",
       "        (relu1): ReLU(inplace=True)\n",
       "        (fc2): Linear(in_features=256, out_features=256, bias=True)\n",
       "        (relu2): ReLU(inplace=True)\n",
       "        (fc3): Linear(in_features=256, out_features=256, bias=True)\n",
       "        (relu3): ReLU(inplace=True)\n",
       "      )\n",
       "      (actor_mean_4_weight): Sequential(\n",
       "        (cnn_block_0): Sequential(\n",
       "          (conv0): Conv2d(1, 32, kernel_size=(3, 3), stride=(1, 1), padding=(1, 1))\n",
       "          (batchnorm0): BatchNorm2d(32, eps=1e-05, momentum=0.1, affine=True, track_running_stats=True)\n",
       "          (relu0): ReLU(inplace=True)\n",
       "          (maxpool_0): MaxPool2d(kernel_size=2, stride=2, padding=0, dilation=1, ceil_mode=False)\n",
       "        )\n",
       "        (cnn_block_1): Sequential(\n",
       "          (conv1): Conv2d(32, 64, kernel_size=(3, 3), stride=(1, 1), padding=(1, 1))\n",
       "          (batchnorm1): BatchNorm2d(64, eps=1e-05, momentum=0.1, affine=True, track_running_stats=True)\n",
       "          (relu1): ReLU(inplace=True)\n",
       "          (maxpool_1): MaxPool2d(kernel_size=2, stride=2, padding=0, dilation=1, ceil_mode=False)\n",
       "        )\n",
       "      )\n",
       "      (actor_mean_4_bias): Sequential(\n",
       "        (fc1): Linear(in_features=6, out_features=256, bias=True)\n",
       "        (relu1): ReLU(inplace=True)\n",
       "        (fc2): Linear(in_features=256, out_features=256, bias=True)\n",
       "        (relu2): ReLU(inplace=True)\n",
       "        (fc3): Linear(in_features=256, out_features=256, bias=True)\n",
       "        (relu3): ReLU(inplace=True)\n",
       "      )\n",
       "    )\n",
       "    (out): Linear(in_features=4608, out_features=128, bias=True)\n",
       "  )\n",
       "  (decoder): MLP_GHN(\n",
       "    (ln): LayerNorm((16,), eps=1e-05, elementwise_affine=True)\n",
       "    (embed): Embedding(3, 16)\n",
       "    (shape_enc3): Linear(in_features=1, out_features=16, bias=True)\n",
       "    (measure_enc): Linear(in_features=64, out_features=7, bias=True)\n",
       "    (gnn): GatedGNN(\n",
       "      (mlp): MLP(\n",
       "        (fc): Sequential(\n",
       "          (0): Linear(in_features=16, out_features=16, bias=True)\n",
       "          (1): ReLU(inplace=True)\n",
       "          (2): Linear(in_features=16, out_features=16, bias=True)\n",
       "          (3): ReLU(inplace=True)\n",
       "        )\n",
       "      )\n",
       "      (gru): GRUCell(16, 16)\n",
       "    )\n",
       "    (decoder): ConvDecoder(\n",
       "      (fc): Sequential(\n",
       "        (0): Linear(in_features=16, out_features=64, bias=True)\n",
       "        (1): ReLU()\n",
       "      )\n",
       "      (conv): Sequential(\n",
       "        (0): Conv2d(64, 128, kernel_size=(1, 1), stride=(1, 1))\n",
       "        (1): ReLU(inplace=True)\n",
       "        (2): Conv2d(128, 65536, kernel_size=(1, 1), stride=(1, 1))\n",
       "        (3): Identity()\n",
       "      )\n",
       "      (class_layer_predictor): Sequential(\n",
       "        (0): ReLU()\n",
       "        (1): Conv2d(256, 12, kernel_size=(1, 1), stride=(1, 1))\n",
       "      )\n",
       "    )\n",
       "    (decoder_1d): MLP(\n",
       "      (fc): Sequential(\n",
       "        (0): Linear(in_features=16, out_features=32, bias=True)\n",
       "        (1): ReLU(inplace=True)\n",
       "        (2): Linear(in_features=32, out_features=512, bias=True)\n",
       "        (3): Identity()\n",
       "      )\n",
       "    )\n",
       "    (bias_class): Sequential(\n",
       "      (0): ReLU()\n",
       "      (1): Linear(in_features=256, out_features=12, bias=True)\n",
       "    )\n",
       "  )\n",
       "  (quant_conv): Conv2d(8, 16, kernel_size=(1, 1), stride=(1, 1))\n",
       "  (post_quant_conv): Conv2d(8, 4, kernel_size=(1, 1), stride=(1, 1))\n",
       ")"
      ]
     },
     "execution_count": 183,
     "metadata": {},
     "output_type": "execute_result"
    }
   ],
   "source": [
    "model = HyperAutoEncoder(actor_cfg, emb_channels=8, z_channels=4)\n",
    "model_cp = './checkpoints_kl/autoencoder.pt'\n",
    "device = 'cuda' if torch.cuda.is_available() else 'cpu'\n",
    "model.load_state_dict(torch.load(model_cp))\n",
    "model.to(device)\n",
    "model.eval()"
   ]
  },
  {
   "cell_type": "code",
   "execution_count": 7,
   "metadata": {},
   "outputs": [],
   "source": [
    "# state_dict = torch.load(model_cp)\n",
    "# ghn_dict = {}\n",
    "# for k, v in state_dict.items():\n",
    "#     if 'decoder' in k:\n",
    "#         # print(\".\".join(k.split('.')[1:]))\n",
    "#         # print(k, v.shape)\n",
    "#         ghn_dict[\".\".join(k.split('.')[1:])] = v\n",
    "\n",
    "# model.load_state_dict(state_dict)\n",
    "# model.decoder.load_state_dict(ghn_dict)\n",
    "# model.to(device)\n",
    "# model = model.eval()\n"
   ]
  },
  {
   "cell_type": "code",
   "execution_count": 42,
   "metadata": {},
   "outputs": [],
   "source": [
    "def enjoy_brax(agent, render=True, deterministic=True):\n",
    "    if actor_cfg.normalize_obs:\n",
    "        obs_mean, obs_var = agent.obs_normalizer.obs_rms.mean, agent.obs_normalizer.obs_rms.var\n",
    "\n",
    "    obs = env.reset()\n",
    "    rollout = [env.unwrapped._state]\n",
    "    total_reward = 0\n",
    "    measures = torch.zeros(env_cfg.num_dims).to(device)\n",
    "    done = False\n",
    "    while not done:\n",
    "        with torch.no_grad():\n",
    "            obs = obs.unsqueeze(dim=0).to(device)\n",
    "            if actor_cfg.normalize_obs:\n",
    "                obs = (obs - obs_mean) / torch.sqrt(obs_var + 1e-8)\n",
    "\n",
    "            if deterministic:\n",
    "                act = agent.actor_mean(obs)\n",
    "            else:\n",
    "                act, _, _ = agent.get_action(obs)\n",
    "            act = act.squeeze()\n",
    "            obs, rew, done, info = env.step(act.cpu())\n",
    "            measures += info['measures']\n",
    "            rollout.append(env.unwrapped._state)\n",
    "            total_reward += rew\n",
    "    if render:\n",
    "        i = HTML(html.render(env.unwrapped._env.sys, [s.qp for s in rollout]))\n",
    "        display(i)\n",
    "    print(f'{total_reward=}')\n",
    "    # print(f' Rollout length: {len(rollout)}')\n",
    "    measures /= len(rollout)\n",
    "    print(f'Recorded Measures: {measures.cpu().numpy()}')\n",
    "    return total_reward.detach().cpu().numpy()"
   ]
  },
  {
   "cell_type": "code",
   "execution_count": 43,
   "metadata": {},
   "outputs": [],
   "source": [
    "def get_random_elite():\n",
    "    elite = scheduler.archive.sample_elites(1)\n",
    "    agent = Actor(actor_cfg, obs_shape=actor_cfg.obs_shape[0], action_shape=actor_cfg.action_shape).deserialize(elite.solution_batch.flatten()).to(device)\n",
    "    if actor_cfg.normalize_obs:\n",
    "        agent.obs_normalizer = elite.metadata_batch[0]['obs_normalizer']\n",
    "    return agent, elite.measures_batch[0], elite"
   ]
  },
  {
   "cell_type": "code",
   "execution_count": 118,
   "metadata": {},
   "outputs": [
    {
     "name": "stdout",
     "output_type": "stream",
     "text": [
      "Sampled measure from elite: [0.17700002 0.76383328]\n"
     ]
    }
   ],
   "source": [
    "agent, measure, elite = get_random_elite()\n",
    "print(f'Sampled measure from elite: {measure}')\n"
   ]
  },
  {
   "cell_type": "code",
   "execution_count": 129,
   "metadata": {},
   "outputs": [
    {
     "name": "stdout",
     "output_type": "stream",
     "text": [
      "total_reward=tensor(806.4114, device='cuda:0')\n",
      "Recorded Measures: [0.12787212 0.84215784]\n"
     ]
    },
    {
     "data": {
      "text/plain": [
       "array(806.41144, dtype=float32)"
      ]
     },
     "execution_count": 129,
     "metadata": {},
     "output_type": "execute_result"
    }
   ],
   "source": [
    "enjoy_brax(agent, render=False)"
   ]
  },
  {
   "cell_type": "code",
   "execution_count": 130,
   "metadata": {},
   "outputs": [],
   "source": [
    "# x_ = agent.state_dict()\n",
    "x = {}\n",
    "for key, param in agent.named_parameters():\n",
    "    if 'weight' in key or 'bias' in key or 'logstd' in key:\n",
    "        x[key] = param.unsqueeze(0)\n",
    "# x"
   ]
  },
  {
   "cell_type": "code",
   "execution_count": 184,
   "metadata": {},
   "outputs": [],
   "source": [
    "reconstructed_models, _ = model(x)"
   ]
  },
  {
   "cell_type": "code",
   "execution_count": 185,
   "metadata": {},
   "outputs": [
    {
     "data": {
      "text/plain": [
       "tensor(0.0067, device='cuda:0', grad_fn=<AddBackward0>)"
      ]
     },
     "execution_count": 185,
     "metadata": {},
     "output_type": "execute_result"
    }
   ],
   "source": [
    "pred_weights_dict = {}\n",
    "for out_ in reconstructed_models:\n",
    "    for name, param in out_.named_parameters():\n",
    "        if name not in pred_weights_dict:\n",
    "            pred_weights_dict[name] = []\n",
    "        pred_weights_dict[name].append(param)\n",
    "        \n",
    "\n",
    "# loss is MSE loss\n",
    "mse_loss = 0\n",
    "for key in pred_weights_dict:\n",
    "    mse_loss += F.mse_loss(torch.stack(pred_weights_dict[key]), x[key])\n",
    "\n",
    "mse_loss"
   ]
  },
  {
   "cell_type": "code",
   "execution_count": 192,
   "metadata": {},
   "outputs": [
    {
     "name": "stdout",
     "output_type": "stream",
     "text": [
      "total_reward=tensor(3805.6887, device='cuda:0')\n",
      "Recorded Measures: [0.44355643 0.46753246]\n",
      "--------------------------------------------------------------------\n"
     ]
    }
   ],
   "source": [
    "# for i, recon_model in enumerate(reconstructed_models[0]):\n",
    "    # desired_measure = y[i]\n",
    "    # desired_model_params = {key:x[key][i] for key in x.keys() }\n",
    "    # print(f'Desired measure: {desired_measure}')\n",
    "    # agent.actor_mean = desired_model\n",
    "    # agent.actor_mean.load_state_dict(desired_model_params)\n",
    "agent.actor_mean = reconstructed_models[0].actor_mean\n",
    "# agent.actor_mean = reconstructed_models[0][0].actor_mean\n",
    "\n",
    "enjoy_brax(agent, render=False)\n",
    "print('--------------------------------------------------------------------')"
   ]
  },
  {
   "cell_type": "code",
   "execution_count": 8,
   "metadata": {},
   "outputs": [
    {
     "data": {
      "text/plain": [
       "tensor(0.1047, device='cuda:0', grad_fn=<AddBackward0>)"
      ]
     },
     "execution_count": 8,
     "metadata": {},
     "output_type": "execute_result"
    }
   ],
   "source": [
    "sampled_x,y = e_data_loader_train.__iter__().__next__()\n",
    "img_out = model(sampled_x)\n",
    "# loss = loss_func(batch, img_out, posterior, global_step, 0)\n",
    "# loss += loss_func(batch, img_out, posterior, global_step, 1)\n",
    "pred_weights_dict = {}\n",
    "for out_ in img_out:\n",
    "    for name, param in out_.named_parameters():\n",
    "        if name not in pred_weights_dict:\n",
    "            pred_weights_dict[name] = []\n",
    "        pred_weights_dict[name].append(param)\n",
    "        \n",
    "\n",
    "# loss is MSE loss\n",
    "mse_loss = 0\n",
    "for key in pred_weights_dict:\n",
    "    mse_loss += F.mse_loss(torch.stack(pred_weights_dict[key]), sampled_x[key])\n",
    "\n",
    "mse_loss"
   ]
  },
  {
   "cell_type": "code",
   "execution_count": 11,
   "metadata": {},
   "outputs": [],
   "source": [
    "new_state_dict = model.state_dict()\n",
    "for key in new_state_dict:\n",
    "    new_state_dict[key] == state_dict[key]"
   ]
  }
 ],
 "metadata": {
  "kernelspec": {
   "display_name": "qd",
   "language": "python",
   "name": "python3"
  },
  "language_info": {
   "codemirror_mode": {
    "name": "ipython",
    "version": 3
   },
   "file_extension": ".py",
   "mimetype": "text/x-python",
   "name": "python",
   "nbconvert_exporter": "python",
   "pygments_lexer": "ipython3",
   "version": "3.9.0"
  },
  "orig_nbformat": 4,
  "vscode": {
   "interpreter": {
    "hash": "c437a21b275005b244436c232defa84105462a85d5e3990796798eae336d0140"
   }
  }
 },
 "nbformat": 4,
 "nbformat_minor": 2
}
