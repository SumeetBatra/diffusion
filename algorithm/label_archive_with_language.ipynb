{
 "cells": [
  {
   "cell_type": "code",
   "execution_count": null,
   "metadata": {
    "ExecuteTime": {
     "end_time": "2023-04-10T15:23:13.186208Z",
     "start_time": "2023-04-10T15:23:13.185827Z"
    },
    "jupyter": {
     "outputs_hidden": false
    }
   },
   "outputs": [],
   "source": [
    "import os\n",
    "from pathlib import Path\n",
    "project_root = os.path.join(str(Path.home()), 'diffusion_models')\n",
    "os.chdir(project_root)\n",
    "%pwd # should be PPGA root dir"
   ]
  },
  {
   "cell_type": "code",
   "execution_count": null,
   "metadata": {
    "ExecuteTime": {
     "end_time": "2023-04-10T15:23:15.197108Z",
     "start_time": "2023-04-10T15:23:13.185930Z"
    },
    "jupyter": {
     "outputs_hidden": false
    }
   },
   "outputs": [],
   "source": [
    "import pickle\n",
    "import torch\n",
    "import numpy as np\n",
    "\n",
    "from autoencoders.policy.resnet3d import ResNet3DAutoEncoder\n",
    "from autoencoders.policy.hypernet import HypernetAutoEncoder\n",
    "from attrdict import AttrDict\n",
    "from RL.actor_critic import Actor\n",
    "from envs.brax_custom.brax_env import make_vec_env_brax\n",
    "from IPython.display import HTML, Image\n",
    "from IPython.display import display\n",
    "from brax.io import html, image\n",
    "from dataset.tensor_elites_dataset import preprocess_model, postprocess_model\n",
    "from utils.brax_utils import shared_params\n",
    "from tqdm import tqdm"
   ]
  },
  {
   "cell_type": "code",
   "execution_count": null,
   "metadata": {
    "ExecuteTime": {
     "end_time": "2023-04-10T15:23:15.200135Z",
     "start_time": "2023-04-10T15:23:15.198111Z"
    },
    "jupyter": {
     "outputs_hidden": false
    }
   },
   "outputs": [],
   "source": [
    "# params to config\n",
    "device = torch.device('cuda')\n",
    "env_name = 'walker2d'\n",
    "seed = 1111\n",
    "normalize_obs = True\n",
    "normalize_rewards = True\n",
    "obs_shape = shared_params[env_name]['obs_dim']\n",
    "action_shape = shared_params[env_name]['action_dim']\n",
    "mlp_shape = (128, 128, action_shape)\n",
    "\n",
    "env_cfg = AttrDict({\n",
    "    'env_name': env_name,\n",
    "    'env_batch_size': None,\n",
    "    'num_dims': 2,\n",
    "    'seed': seed,\n",
    "    'num_envs': 1\n",
    "})"
   ]
  },
  {
   "cell_type": "code",
   "execution_count": null,
   "metadata": {
    "ExecuteTime": {
     "end_time": "2023-04-10T15:23:16.784181Z",
     "start_time": "2023-04-10T15:23:15.200536Z"
    },
    "jupyter": {
     "outputs_hidden": false
    }
   },
   "outputs": [],
   "source": [
    "archive_df_path = 'data/walker2d/archive_100x100.pkl'\n",
    "with open(archive_df_path, 'rb') as f:\n",
    "    archive_df = pickle.load(f)"
   ]
  },
  {
   "cell_type": "code",
   "execution_count": null,
   "metadata": {
    "ExecuteTime": {
     "end_time": "2023-04-10T15:23:17.043671Z",
     "start_time": "2023-04-10T15:23:16.788078Z"
    },
    "jupyter": {
     "outputs_hidden": false
    }
   },
   "outputs": [],
   "source": [
    "# make the env\n",
    "env = make_vec_env_brax(env_cfg)"
   ]
  },
  {
   "cell_type": "code",
   "execution_count": null,
   "metadata": {
    "ExecuteTime": {
     "end_time": "2023-04-10T15:23:17.087958Z",
     "start_time": "2023-04-10T15:23:17.071934Z"
    },
    "jupyter": {
     "outputs_hidden": false
    }
   },
   "outputs": [],
   "source": [
    "def integrate_obs_normalizer(agent: Actor):\n",
    "    assert agent.obs_normalizer is not None\n",
    "    w_in = agent.actor_mean[0].weight.data\n",
    "    b_in = agent.actor_mean[0].bias.data\n",
    "    mean, var = agent.obs_normalizer.obs_rms.mean, agent.obs_normalizer.obs_rms.var\n",
    "    w_new = w_in / torch.sqrt(var + 1e-8)\n",
    "    b_new = b_in - (mean / torch.sqrt(var + 1e-8)) @ w_in.T\n",
    "    agent.actor_mean[0].weight.data = w_new\n",
    "    agent.actor_mean[0].bias.data = b_new\n",
    "    return agent\n"
   ]
  },
  {
   "cell_type": "code",
   "execution_count": null,
   "metadata": {
    "ExecuteTime": {
     "end_time": "2023-04-10T15:23:17.133842Z",
     "start_time": "2023-04-10T15:23:17.089376Z"
    },
    "jupyter": {
     "outputs_hidden": false
    }
   },
   "outputs": [],
   "source": [
    "def enjoy_brax(agent, render=True, deterministic=True, normalize_obs=False):\n",
    "    if normalize_obs:\n",
    "        obs_mean, obs_var = agent.obs_normalizer.obs_rms.mean, agent.obs_normalizer.obs_rms.var\n",
    "        print(f'{obs_mean=}, {obs_var=}')\n",
    "\n",
    "    obs = env.reset()\n",
    "    rollout = [env.unwrapped._state]\n",
    "    total_reward = 0\n",
    "    measures = torch.zeros(env_cfg.num_dims).to(device)\n",
    "    done = False\n",
    "    while not done:\n",
    "        with torch.no_grad():\n",
    "            obs = obs.unsqueeze(dim=0).to(device)\n",
    "            if normalize_obs:\n",
    "                obs = (obs - obs_mean) / torch.sqrt(obs_var + 1e-8)\n",
    "\n",
    "            if deterministic:\n",
    "                act = agent.actor_mean(obs)\n",
    "            else:\n",
    "                act, _, _ = agent.get_action(obs)\n",
    "            act = act.squeeze()\n",
    "            obs, rew, done, info = env.step(act.cpu())\n",
    "            measures += info['measures']\n",
    "            rollout.append(env.unwrapped._state)\n",
    "            total_reward += rew\n",
    "    if render:\n",
    "        i = HTML(html.render(env.unwrapped._env.sys, [s.qp for s in rollout]))\n",
    "        display(i)\n",
    "    print(f'{total_reward=}')\n",
    "    print(f' Rollout length: {len(rollout)}')\n",
    "    measures /= len(rollout)\n",
    "    print(f'Measures: {measures.cpu().numpy()}')\n",
    "    return total_reward.detach().cpu().numpy(), measures.cpu().numpy()"
   ]
  },
  {
   "cell_type": "code",
   "execution_count": null,
   "metadata": {
    "ExecuteTime": {
     "end_time": "2023-04-10T15:23:22.117827Z",
     "start_time": "2023-04-10T15:23:22.076865Z"
    },
    "jupyter": {
     "outputs_hidden": false
    }
   },
   "outputs": [],
   "source": [
    "elites_array = archive_df.filter(regex='solution*').to_numpy()\n",
    "inferred_labels = []\n",
    "label_distances = []"
   ]
  },
  {
   "cell_type": "markdown",
   "metadata": {},
   "source": [
    "## Rerun next two / three cells until sufficiently labelled"
   ]
  },
  {
   "cell_type": "code",
   "execution_count": null,
   "metadata": {},
   "outputs": [],
   "source": [
    "# Render one elite\n",
    "if label_distances:\n",
    "    # If we have distances, use the elite with the largest distance\n",
    "    elite_index = np.argmax(label_distances)\n",
    "    print(\"elite distance to nearest label\", np.max(label_distances))\n",
    "    print(\"current label:\", inferred_labels[elite_index])\n",
    "else:\n",
    "    # Otherwise, use a random elite\n",
    "    elite_index = np.random.randint(len(elites_array))\n",
    "agent = Actor(obs_shape, action_shape, True, True).deserialize(elites_array[elite_index]).to(device)\n",
    "# make sure pre and post-processing are working correctly. This should return\n",
    "# the exact same agent as the previous line\n",
    "# agent = postprocess_model(agent, preprocess_model(agent, mlp_shape), mlp_shape, deterministic=False).to(device)\n",
    "if normalize_obs:\n",
    "    agent = integrate_obs_normalizer(agent)\n",
    "reward, measures = enjoy_brax(agent, render=True)"
   ]
  },
  {
   "cell_type": "code",
   "execution_count": null,
   "metadata": {},
   "outputs": [],
   "source": [
    "# Add a new label\n",
    "labels_archive_idx.append([float(reward), measures.tolist(), int(elite_index),\n",
    "                          \"fall forwards while keeping both feet planted\"]) # REPLACE LABEL HERE\n",
    "with open(f\"data/{env_name}/text_labels_{len(labels_archive_idx):05d}.json\", \"w\") as f:\n",
    "    json.dump(labels_archive_idx, f, indent=True)\n",
    "label_distances[elite_index] = 0.0\n",
    "labels_archive_idx[-1]"
   ]
  },
  {
   "cell_type": "code",
   "execution_count": null,
   "metadata": {
    "scrolled": true
   },
   "outputs": [],
   "source": [
    "# Recompute inferred labels\n",
    "labelled_elites = np.array([elites_array[elite_index] for (returns, measures, elite_index, label) in labels_archive_idx])\n",
    "labelled_elites_labels = [label for (returns, measures, elite_index, label) in labels_archive_idx]\n",
    "\n",
    "def nearest_labelled_elite(archive_index):\n",
    "    distances = ((labelled_elites - elites_array[archive_index]) ** 2).sum(axis=-1)\n",
    "    return int(np.argmin(distances)), float(distances.min())\n",
    "\n",
    "inferred_labels = []\n",
    "label_distances = []\n",
    "for archive_index in tqdm(range(len(elites_array))):\n",
    "    inferred_label, label_dist = nearest_labelled_elite(archive_index)\n",
    "    inferred_labels.append(labelled_elites_labels[inferred_label])\n",
    "    label_distances.append(label_dist)"
   ]
  },
  {
   "cell_type": "code",
   "execution_count": null,
   "metadata": {},
   "outputs": [],
   "source": [
    "with open(f\"data/{env_name}/text_labels_{len(labels_archive_idx):05d}.pkl\", \"wb\") as f:\n",
    "    pickle.dump(inferred_labels, f)"
   ]
  },
  {
   "cell_type": "code",
   "execution_count": null,
   "metadata": {},
   "outputs": [],
   "source": [
    "import glob\n",
    "sorted(glob.glob(f\"data/{env_name}/text_labels_*.pkl\"))"
   ]
  },
  {
   "cell_type": "code",
   "execution_count": null,
   "metadata": {},
   "outputs": [],
   "source": [
    "labels_archive_idx[-1]"
   ]
  },
  {
   "cell_type": "code",
   "execution_count": null,
   "metadata": {},
   "outputs": [],
   "source": []
  }
 ],
 "metadata": {
  "kernelspec": {
   "display_name": "Python 3 (ipykernel)",
   "language": "python",
   "name": "python3"
  },
  "language_info": {
   "codemirror_mode": {
    "name": "ipython",
    "version": 3
   },
   "file_extension": ".py",
   "mimetype": "text/x-python",
   "name": "python",
   "nbconvert_exporter": "python",
   "pygments_lexer": "ipython3",
   "version": "3.9.0"
  }
 },
 "nbformat": 4,
 "nbformat_minor": 4
}
