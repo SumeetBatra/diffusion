{
 "cells": [
  {
   "cell_type": "code",
   "execution_count": 1,
   "metadata": {
    "ExecuteTime": {
     "end_time": "2023-05-10T21:10:03.707234Z",
     "start_time": "2023-05-10T21:10:03.706777Z"
    },
    "collapsed": true
   },
   "outputs": [
    {
     "data": {
      "text/plain": [
       "'/home/shashank/research/qd/main/diffusion_models'"
      ]
     },
     "execution_count": 1,
     "metadata": {},
     "output_type": "execute_result"
    }
   ],
   "source": [
    "import os\n",
    "from pathlib import Path\n",
    "project_root = os.path.join('/home/shashank/research/qd/main/diffusion_models')\n",
    "os.chdir(project_root)\n",
    "%pwd # should be PPGA root dir"
   ]
  },
  {
   "cell_type": "code",
   "execution_count": 2,
   "metadata": {
    "ExecuteTime": {
     "end_time": "2023-05-10T21:10:05.886804Z",
     "start_time": "2023-05-10T21:10:03.706901Z"
    },
    "collapsed": false
   },
   "outputs": [
    {
     "name": "stderr",
     "output_type": "stream",
     "text": [
      "/home/shashank/miniconda3/envs/qd/lib/python3.9/site-packages/tqdm/auto.py:22: TqdmWarning: IProgress not found. Please update jupyter and ipywidgets. See https://ipywidgets.readthedocs.io/en/stable/user_install.html\n",
      "  from .autonotebook import tqdm as notebook_tqdm\n",
      "WARNING:evotorch:The logger is already configured. The default configuration will not be applied. Call `set_default_logger_config` with `override=True` to override the current configuration.\n"
     ]
    }
   ],
   "source": [
    "import torch\n",
    "import pickle\n",
    "import json\n",
    "import numpy as np\n",
    "import pandas as pd\n",
    "import matplotlib\n",
    "matplotlib.rcParams.update(\n",
    "    {\n",
    "        \"figure.dpi\": 150,\n",
    "        \"font.size\": 20,\n",
    "    }\n",
    ")\n",
    "matplotlib.rcParams[\"pdf.fonttype\"] = 42\n",
    "matplotlib.rcParams[\"ps.fonttype\"] = 42\n",
    "import matplotlib.pyplot as plt\n",
    "\n",
    "from typing import Optional\n",
    "from diffusion.gaussian_diffusion import cosine_beta_schedule, linear_beta_schedule, GaussianDiffusion\n",
    "from diffusion.latent_diffusion import LatentDiffusion\n",
    "from diffusion.ddim import DDIMSampler\n",
    "from autoencoders.policy.hypernet import HypernetAutoEncoder as AutoEncoder\n",
    "from dataset.shaped_elites_dataset import WeightNormalizer\n",
    "from attrdict import AttrDict\n",
    "from utils.tensor_dict import TensorDict, cat_tensordicts\n",
    "from RL.actor_critic import Actor\n",
    "from utils.normalize import ObsNormalizer\n",
    "from models.cond_unet import ConditionalUNet, LangConditionalUNet\n",
    "from envs.brax_custom.brax_env import make_vec_env_brax\n",
    "from IPython.display import HTML, Image\n",
    "from IPython.display import display\n",
    "from brax.io import html, image\n",
    "from utils.brax_utils import shared_params, rollout_many_agents\n",
    "\n",
    "from utils.archive_utils import archive_df_to_archive\n",
    "from envs.brax_custom import reward_offset\n"
   ]
  },
  {
   "cell_type": "code",
   "execution_count": 3,
   "metadata": {
    "ExecuteTime": {
     "end_time": "2023-05-10T21:10:05.890509Z",
     "start_time": "2023-05-10T21:10:05.888505Z"
    },
    "collapsed": false
   },
   "outputs": [],
   "source": [
    "# params to config\n",
    "device = torch.device('cuda')\n",
    "env_name = 'humanoid'\n",
    "seed = 1111\n",
    "normalize_obs = True\n",
    "normalize_rewards = False\n",
    "obs_shape = shared_params[env_name]['obs_dim']\n",
    "action_shape = np.array([shared_params[env_name]['action_dim']])\n",
    "mlp_shape = (128, 128, action_shape)\n",
    "\n",
    "env_cfg = AttrDict({\n",
    "    'env_name': env_name,\n",
    "    'env_batch_size': None,\n",
    "    'num_dims': 2,\n",
    "    'seed': seed,\n",
    "    'num_envs': 1,\n",
    "    'clip_obs_rew': True,\n",
    "})"
   ]
  },
  {
   "cell_type": "code",
   "execution_count": 4,
   "metadata": {
    "ExecuteTime": {
     "end_time": "2023-05-10T21:10:16.398315Z",
     "start_time": "2023-05-10T21:10:05.890854Z"
    },
    "collapsed": false
   },
   "outputs": [],
   "source": [
    "archive_df_path = f'data/{env_name}/archive100x100.pkl'\n",
    "with open(archive_df_path, 'rb') as f:\n",
    "    archive_df = pickle.load(f)\n",
    "\n",
    "# scheduler_path = f'data/{env_name}/scheduler_100x100.pkl'\n",
    "# with open(scheduler_path, 'rb') as f:\n",
    "#     scheduler = pickle.load(f)"
   ]
  },
  {
   "cell_type": "code",
   "execution_count": 5,
   "metadata": {},
   "outputs": [],
   "source": [
    "soln_dim = archive_df.filter(regex='solution*').to_numpy().shape[1]\n",
    "archive_dims = [100] * env_cfg['num_dims']\n",
    "ranges = [(0.0, 1.0)] * env_cfg['num_dims']\n",
    "original_archive = archive_df_to_archive(archive_df,\n",
    "                                            solution_dim=soln_dim,\n",
    "                                            dims=archive_dims,\n",
    "                                            ranges=ranges,\n",
    "                                            seed=env_cfg.seed,\n",
    "                                            qd_offset=reward_offset[env_name])"
   ]
  },
  {
   "cell_type": "code",
   "execution_count": 6,
   "metadata": {
    "ExecuteTime": {
     "end_time": "2023-05-10T21:10:16.714759Z",
     "start_time": "2023-05-10T21:10:16.405397Z"
    },
    "collapsed": false
   },
   "outputs": [],
   "source": [
    "# make the env\n",
    "env = make_vec_env_brax(env_cfg)"
   ]
  },
  {
   "cell_type": "code",
   "execution_count": 7,
   "metadata": {
    "ExecuteTime": {
     "end_time": "2023-05-10T21:10:16.718488Z",
     "start_time": "2023-05-10T21:10:16.713476Z"
    },
    "collapsed": false
   },
   "outputs": [],
   "source": [
    "def enjoy_brax(agent, render=True, deterministic=True):\n",
    "    if normalize_obs:\n",
    "        obs_mean, obs_var = agent.obs_normalizer.obs_rms.mean, agent.obs_normalizer.obs_rms.var\n",
    "        print(f'Normalize Obs Enabled')\n",
    "\n",
    "    obs = env.reset()\n",
    "    rollout = [env.unwrapped._state]\n",
    "    total_reward = 0\n",
    "    measures = torch.zeros(env_cfg.num_dims).to(device)\n",
    "    done = False\n",
    "    while not done:\n",
    "        with torch.no_grad():\n",
    "            obs = obs.unsqueeze(dim=0).to(device)\n",
    "            if normalize_obs:\n",
    "                obs = (obs - obs_mean) / torch.sqrt(obs_var + 1e-8)\n",
    "\n",
    "            if deterministic:\n",
    "                act = agent.actor_mean(obs)\n",
    "            else:\n",
    "                act, _, _ = agent.get_action(obs)\n",
    "            act = act.squeeze()\n",
    "            obs, rew, done, info = env.step(act.cpu())\n",
    "            measures += info['measures']\n",
    "            rollout.append(env.unwrapped._state)\n",
    "            total_reward += rew\n",
    "    if render:\n",
    "        i = HTML(html.render(env.unwrapped._env.sys, [s.qp for s in rollout]))\n",
    "        display(i)\n",
    "    print(f'{total_reward=}')\n",
    "    print(f' Rollout length: {len(rollout)}')\n",
    "    measures /= len(rollout)\n",
    "    print(f'Measures: {measures.cpu().numpy()}')\n",
    "    return total_reward.detach().cpu(), measures.detach().cpu()"
   ]
  },
  {
   "cell_type": "code",
   "execution_count": 8,
   "metadata": {
    "ExecuteTime": {
     "end_time": "2023-05-10T21:10:16.759592Z",
     "start_time": "2023-05-10T21:10:16.715704Z"
    },
    "collapsed": false
   },
   "outputs": [],
   "source": [
    "# diffusion model params\n",
    "latent_diffusion = True\n",
    "use_ddim = True\n",
    "center_data = True\n",
    "use_language = False\n",
    "latent_channels = 4\n",
    "latent_size = 4\n",
    "timesteps = 600\n",
    "\n",
    "cfg_path = '/home/shashank/research/qd/paper_results2/humanoid/diffusion_model/humanoid_diffusion_model_20230505-103651_333/args.json'\n",
    "with open(cfg_path, 'r') as f:\n",
    "    cfg = json.load(f)\n",
    "    cfg = AttrDict(cfg)\n",
    "\n",
    "scale_factor = cfg.scale_factor if latent_diffusion else None\n",
    "\n",
    "device = 'cuda' if torch.cuda.is_available() else 'cpu'\n",
    "\n",
    "betas = cosine_beta_schedule(timesteps)"
   ]
  },
  {
   "cell_type": "code",
   "execution_count": 9,
   "metadata": {
    "ExecuteTime": {
     "end_time": "2023-05-10T21:10:16.759883Z",
     "start_time": "2023-05-10T21:10:16.751645Z"
    },
    "collapsed": false
   },
   "outputs": [],
   "source": [
    "# paths to VAE and diffusion model checkpoint\n",
    "autoencoder_path = '/home/shashank/research/qd/paper_results2/humanoid/autoencoder/humanoid_autoencoder_20230503-082033_333/model_checkpoints/humanoid_autoencoder_20230503-082033_333.pt'\n",
    "model_path = '/home/shashank/research/qd/paper_results2/humanoid/diffusion_model/humanoid_diffusion_model_20230505-103651_333/model_checkpoints/humanoid_diffusion_model_20230505-103651_333.pt'\n",
    "weight_normalizer_path = 'results/humanoid/weight_normalizer.pkl'"
   ]
  },
  {
   "cell_type": "code",
   "execution_count": 10,
   "metadata": {
    "ExecuteTime": {
     "end_time": "2023-05-10T21:10:17.999499Z",
     "start_time": "2023-05-10T21:10:16.755849Z"
    },
    "collapsed": false
   },
   "outputs": [
    {
     "name": "stdout",
     "output_type": "stream",
     "text": [
      "Total size of z is: 64\n"
     ]
    }
   ],
   "source": [
    "# load the diffusion model\n",
    "logvar = torch.full(fill_value=0., size=(timesteps,))\n",
    "if use_language:\n",
    "    model = LangConditionalUNet(\n",
    "        in_channels=latent_channels,\n",
    "        out_channels=latent_channels,\n",
    "        channels=64,\n",
    "        n_res_blocks=1,\n",
    "        attention_levels=[],\n",
    "        channel_multipliers=[1, 2, 4],\n",
    "        n_heads=4,\n",
    "        d_cond=256,\n",
    "        logvar=logvar,\n",
    "        language_model='flan-t5-small'\n",
    "    )\n",
    "else:\n",
    "    model = ConditionalUNet(\n",
    "        in_channels=latent_channels,\n",
    "        out_channels=latent_channels,\n",
    "        channels=64,\n",
    "        n_res_blocks=1,\n",
    "        attention_levels=[],\n",
    "        channel_multipliers=[1, 2, 4],\n",
    "        n_heads=4,\n",
    "        d_cond=256,\n",
    "        logvar=logvar\n",
    "    )\n",
    "autoencoder = AutoEncoder(emb_channels=4,\n",
    "                          z_channels=4,\n",
    "                          obs_shape=obs_shape,\n",
    "                          action_shape=action_shape,\n",
    "                          z_height=4,\n",
    "                          enc_fc_hid=64,\n",
    "                          obsnorm_hid=64,\n",
    "                          ghn_hid=32)\n",
    "autoencoder.load_state_dict(torch.load(autoencoder_path))\n",
    "autoencoder.to(device)\n",
    "autoencoder.eval()\n",
    "\n",
    "gauss_diff = LatentDiffusion(betas, num_timesteps=timesteps, device=device)\n",
    "model.load_state_dict(torch.load(model_path))\n",
    "model.to(device)\n",
    "\n",
    "weight_normalizer = None\n",
    "if center_data:\n",
    "    weight_normalizer = WeightNormalizer(TensorDict({}), TensorDict({}))\n",
    "    weight_normalizer.load(weight_normalizer_path)\n"
   ]
  },
  {
   "cell_type": "code",
   "execution_count": 11,
   "metadata": {
    "ExecuteTime": {
     "end_time": "2023-05-10T21:10:18.046890Z",
     "start_time": "2023-05-10T21:10:18.000648Z"
    },
    "collapsed": false
   },
   "outputs": [],
   "source": [
    "def postprocess_agents(rec_agents: list[Actor], obsnorms: list[dict]):\n",
    "    '''Denormalize outputs of the decoder and return a list of Actors that can be rolled out'''\n",
    "    batch_size = len(rec_agents)\n",
    "    TensorDict(obsnorms)\n",
    "    rec_agents_params = [TensorDict(p.state_dict()) for p in rec_agents]\n",
    "    rec_agents_params = cat_tensordicts(rec_agents_params)\n",
    "    rec_agents_params.update(obsnorms)\n",
    "    # decoder doesn't fill in the logstd param, so we manually set it to default values\n",
    "    actor_logstd = torch.zeros(batch_size, 1, action_shape[0])\n",
    "    actor_logstd = actor_logstd.to(device)\n",
    "    rec_agents_params['actor_logstd'] = actor_logstd\n",
    "    # if data centering was used during training, we need to denormalize the weights\n",
    "    if center_data:\n",
    "        rec_agents_params = weight_normalizer.denormalize(rec_agents_params)\n",
    "\n",
    "    if normalize_obs:\n",
    "        rec_agents_params['obs_normalizer.obs_rms.var'] = torch.exp(rec_agents_params['obs_normalizer.obs_rms.logstd'] * 2)\n",
    "        rec_agents_params['obs_normalizer.obs_rms.count'] = torch.zeros(batch_size, 1).to(device)\n",
    "        del rec_agents_params['obs_normalizer.obs_rms.logstd']\n",
    "\n",
    "    rec_agents = [Actor(obs_shape, action_shape, normalize_obs=normalize_obs).to(device) for _ in range(len(rec_agents_params))]\n",
    "    for i in range(len(rec_agents_params)):\n",
    "        rec_agents[i].load_state_dict(rec_agents_params[i])\n",
    "\n",
    "    return rec_agents"
   ]
  },
  {
   "cell_type": "code",
   "execution_count": 12,
   "metadata": {
    "ExecuteTime": {
     "end_time": "2023-05-10T21:10:18.047039Z",
     "start_time": "2023-05-10T21:10:18.046808Z"
    },
    "collapsed": false
   },
   "outputs": [],
   "source": [
    "ddim_sampler = DDIMSampler(gauss_diff, n_steps=100)"
   ]
  },
  {
   "cell_type": "code",
   "execution_count": 24,
   "metadata": {
    "ExecuteTime": {
     "end_time": "2023-05-10T21:10:18.047110Z",
     "start_time": "2023-05-10T21:10:18.046858Z"
    },
    "collapsed": false
   },
   "outputs": [],
   "source": [
    "def get_agent_from_archive_with_measure(m):\n",
    "    if not isinstance(m, list):\n",
    "        m = m.tolist()\n",
    "\n",
    "    archive_df['dist_from_desired_measure'] = np.sqrt((archive_df['measure_0'] - m[0])**2 + (archive_df['measure_1'] - m[1])**2)\n",
    "\n",
    "    row = archive_df['dist_from_desired_measure'].sort_values().head(1).index[0]\n",
    "\n",
    "    # delete the column\n",
    "    del archive_df['dist_from_desired_measure']\n",
    "\n",
    "    q_measures = archive_df.loc[row][['measure_0', 'measure_1']].values\n",
    "    \n",
    "    elite = original_archive.elites_with_measures([q_measures.astype(np.float32)])\n",
    "    agent = Actor(obs_shape, action_shape, normalize_obs, False).deserialize(elite.solution_batch[0]).to(\n",
    "            device)\n",
    "    if normalize_obs:\n",
    "            obs_norm = elite.metadata_batch[0]['obs_normalizer']\n",
    "            if isinstance(obs_norm, dict):\n",
    "                agent.obs_normalizer.load_state_dict(obs_norm)\n",
    "            else:\n",
    "                agent.obs_normalizer = obs_norm    \n",
    "    \n",
    "    \n",
    "    return agent\n",
    "# get_agent_with_measure([0.0, 0.5])"
   ]
  },
  {
   "cell_type": "code",
   "execution_count": 14,
   "metadata": {},
   "outputs": [],
   "source": [
    "def get_agent_with_measure(m):\n",
    "\n",
    "    batch_size = 1\n",
    "    if isinstance(m, list):\n",
    "        cond = torch.Tensor(m).view(1, -1).to(device)\n",
    "    elif isinstance(m, torch.Tensor):\n",
    "        cond = m.view(1, -1).to(device)\n",
    "\n",
    "    shape = [batch_size, latent_channels, latent_size, latent_size]\n",
    "    samples = ddim_sampler.sample(model, shape=shape, cond=cond, classifier_free_guidance=True, classifier_scale=1.0)\n",
    "    samples = samples * (1 / scale_factor)\n",
    "    (rec_agents, obsnorms) = autoencoder.decode(samples)\n",
    "    rec_agents = postprocess_agents(rec_agents, obsnorms)\n",
    "    return rec_agents[0]"
   ]
  },
  {
   "cell_type": "code",
   "execution_count": 15,
   "metadata": {
    "ExecuteTime": {
     "end_time": "2023-05-10T21:10:18.090870Z",
     "start_time": "2023-05-10T21:10:18.046967Z"
    },
    "collapsed": false
   },
   "outputs": [],
   "source": [
    "def get_agent_with_text(t: str):\n",
    "    batch_size = 1\n",
    "    cond = model.text_to_cond([t])\n",
    "    shape = [batch_size, latent_channels, latent_size, latent_size]\n",
    "    samples = ddim_sampler.sample(model, shape=shape, cond=cond, classifier_free_guidance=True, classifier_scale=1.0)\n",
    "    samples = samples * (1 / scale_factor)\n",
    "    (rec_agents, obsnorms) = autoencoder.decode(samples)\n",
    "    rec_agents = postprocess_agents(rec_agents, obsnorms)\n",
    "    return rec_agents[0]"
   ]
  },
  {
   "cell_type": "code",
   "execution_count": 16,
   "metadata": {
    "ExecuteTime": {
     "end_time": "2023-05-04T21:57:52.261329Z",
     "start_time": "2023-05-04T21:57:52.217290Z"
    },
    "collapsed": false
   },
   "outputs": [],
   "source": [
    "batch_size = 1\n",
    "cond = torch.ones((batch_size, 2)) * 0.2\n",
    "cond = cond.to(device)"
   ]
  },
  {
   "cell_type": "code",
   "execution_count": 17,
   "metadata": {
    "ExecuteTime": {
     "end_time": "2023-05-04T14:24:44.388896Z",
     "start_time": "2023-05-04T14:24:43.039525Z"
    },
    "collapsed": false
   },
   "outputs": [],
   "source": [
    "shape = [batch_size, latent_channels, latent_size, latent_size]\n",
    "samples = ddim_sampler.sample(model, shape=shape, cond=cond, classifier_free_guidance=True, classifier_scale=2.0)\n",
    "samples = samples * (1 / scale_factor)\n",
    "(rec_agents, obsnorms) = autoencoder.decode(samples)\n",
    "rec_agents = postprocess_agents(rec_agents, obsnorms)"
   ]
  },
  {
   "cell_type": "markdown",
   "metadata": {
    "collapsed": false
   },
   "source": []
  },
  {
   "cell_type": "code",
   "execution_count": null,
   "metadata": {
    "ExecuteTime": {
     "end_time": "2023-05-10T21:08:42.102899Z",
     "start_time": "2023-05-10T21:08:30.617796Z"
    },
    "collapsed": false
   },
   "outputs": [],
   "source": [
    "# random_idx = torch.randint(0, batch_size, (1,))\n",
    "# print(f'{random_idx=}')\n",
    "# print(len(obsnorms))\n",
    "# rec_agent = rec_agents[random_idx]\n",
    "# rec_agent = get_agent_with_measure([0.5, 0.5])\n",
    "\n",
    "# text =   \"run forward on your left foot while lifting your right foot\"\n",
    "# rec_agent = get_agent_with_text(text)\n",
    "# enjoy_brax(rec_agent)"
   ]
  },
  {
   "cell_type": "code",
   "execution_count": 18,
   "metadata": {
    "ExecuteTime": {
     "end_time": "2023-05-10T21:16:50.538471Z",
     "start_time": "2023-05-10T21:16:50.473784Z"
    },
    "collapsed": false
   },
   "outputs": [],
   "source": [
    "# evaluate an agent on many envs in parallel\n",
    "N = 50\n",
    "multi_env_cfg = AttrDict({\n",
    "    'env_name': env_name,\n",
    "    'env_batch_size': N,\n",
    "    'num_envs': N,\n",
    "    'num_dims': 2,\n",
    "    'seed': seed,\n",
    "    'clip_obs_rew': True,\n",
    "})\n",
    "multi_vec_env = make_vec_env_brax(multi_env_cfg)"
   ]
  },
  {
   "cell_type": "code",
   "execution_count": null,
   "metadata": {
    "ExecuteTime": {
     "end_time": "2023-05-04T12:16:50.568340Z",
     "start_time": "2023-05-04T12:16:34.349919Z"
    },
    "collapsed": false
   },
   "outputs": [],
   "source": [
    "# rollout_many_agents([rec_agent], multi_env_cfg, multi_vec_env, device, verbose=True, normalize_obs=True)"
   ]
  },
  {
   "cell_type": "code",
   "execution_count": 25,
   "metadata": {
    "ExecuteTime": {
     "end_time": "2023-05-10T21:12:53.552236Z",
     "start_time": "2023-05-10T21:12:53.450708Z"
    },
    "collapsed": false
   },
   "outputs": [],
   "source": [
    "def compose_behaviors(env, device, measures: Optional[torch.Tensor] = None, labels: Optional[list[str]] = None,\n",
    "                      num_envs: int = 1, deterministic: bool = True, render: bool = True, get_from_archive: bool = False):\n",
    "    if num_envs > 1:\n",
    "        render = False\n",
    "    agents = []\n",
    "    assert measures is not None or labels is not None\n",
    "    if measures is not None:\n",
    "        for m in measures:\n",
    "            if get_from_archive:\n",
    "                agent = get_agent_from_archive_with_measure(m)\n",
    "            else:\n",
    "                agent = get_agent_with_measure(m)\n",
    "            agents.append(agent)\n",
    "    else:\n",
    "        for l in labels:\n",
    "            agent = get_agent_with_text(l)\n",
    "            agents.append(agent)\n",
    "\n",
    "    num_chunks = len(agents)\n",
    "\n",
    "    # https://stackoverflow.com/questions/2130016/splitting-a-list-into-n-parts-of-approximately-equal-length\n",
    "    def split(a, n):\n",
    "        k, m = divmod(len(a), n)\n",
    "        return (a[i*k+min(i, m):(i+1)*k+min(i+1, m)] for i in range(n))\n",
    "\n",
    "    time_intervals = list(split(np.arange(0, 1000), num_chunks))\n",
    "\n",
    "    num_steps = 1000\n",
    "    total_reward = torch.zeros(num_envs)\n",
    "    dones = torch.BoolTensor([False for _ in range(num_envs)]).to(device)\n",
    "    all_dones = torch.zeros((num_steps, num_envs)).to(device)\n",
    "    # get the per-chunk measures independent of other chunks\n",
    "    measure_data = [[] for _ in range(num_chunks)]\n",
    "\n",
    "    obs = env.reset()\n",
    "    rollout = [env.unwrapped._state]\n",
    "\n",
    "    t = 0\n",
    "    while not torch.all(dones):\n",
    "        interval_idx = next((i for i, interval in enumerate(time_intervals) if t in interval), None)\n",
    "        agent = agents[interval_idx]\n",
    "        obs_mean, obs_var = agent.obs_normalizer.obs_rms.mean, agent.obs_normalizer.obs_rms.var\n",
    "\n",
    "        obs = (obs - obs_mean) / torch.sqrt(obs_var + 1e-8)\n",
    "\n",
    "        if deterministic:\n",
    "                act = agent.actor_mean(obs)\n",
    "        else:\n",
    "            act, _, _ = agent.get_action(obs)\n",
    "        act = act.squeeze()\n",
    "        obs, rew, next_dones, info = env.step(act.cpu())\n",
    "        measure_t = info['measures'].mean(0)\n",
    "        measure_data[interval_idx].append(measure_t.detach().cpu().numpy())\n",
    "        if num_envs == 1:\n",
    "            rollout.append(env.unwrapped._state)\n",
    "        total_reward += rew.detach().cpu().numpy() * ~dones.cpu().numpy()\n",
    "        dones = torch.logical_or(dones, next_dones)\n",
    "        all_dones[t] = dones.long().clone()\n",
    "        t += 1\n",
    "    if render:\n",
    "        i = HTML(html.render(env.unwrapped._env.sys, [s.qp for s in rollout]))\n",
    "        display(i)\n",
    "\n",
    "    # the first done in each env is where that trajectory ends\n",
    "    traj_lengths = torch.argmax(all_dones, dim=0) + 1\n",
    "\n",
    "    print(f'Total Reward: {total_reward.mean().item()}, Average Trajectory Length: {traj_lengths.float().mean().item()}')\n",
    "    return measure_data, total_reward.mean().item(), traj_lengths.float().mean().item()"
   ]
  },
  {
   "cell_type": "code",
   "execution_count": null,
   "metadata": {
    "ExecuteTime": {
     "end_time": "2023-05-10T21:17:58.007810Z",
     "start_time": "2023-05-10T21:17:52.789532Z"
    },
    "collapsed": false
   },
   "outputs": [],
   "source": [
    "measures = [\n",
    "    [0.9, 0.9],\n",
    "    [0.2, 0.2],\n",
    "    [0.5, 0.0],\n",
    "    [0.0, 0.5]\n",
    "]\n",
    "labels = [\n",
    "    \"quickly slide forward on right foot\",\n",
    "    \"quickly run forward using only your left foot\",\n",
    "    \"quickly walk forward while dragging your right foot\",\n",
    "    \"skip forwards on your right foot\"\n",
    "]\n",
    "# measure_data, *_ = compose_behaviors(multi_vec_env, device, labels=labels, num_envs=multi_env_cfg.num_envs, render=False)\n"
   ]
  },
  {
   "cell_type": "code",
   "execution_count": null,
   "metadata": {
    "ExecuteTime": {
     "end_time": "2023-05-10T21:17:59.893154Z",
     "start_time": "2023-05-10T21:17:59.882320Z"
    },
    "collapsed": false
   },
   "outputs": [],
   "source": [
    "list_ov_moving_avg = []\n",
    "avg_traj_lengths = []\n",
    "get_from_archive = False\n",
    "for k in range(10):\n",
    "    # measures = []\n",
    "    # for i in range(4):\n",
    "    #     # append random measure pairs between 0 and 1, rounded to 2 decimals\n",
    "    #     measures.append(list(np.random.rand(2).round(1)))\n",
    "    print(f'\\n {measures=}')\n",
    "    measure_data, reward, traj_len = compose_behaviors(multi_vec_env, device, measures=measures, num_envs=multi_env_cfg.num_envs, render=False, get_from_archive=get_from_archive)\n",
    "\n",
    "    # get the avg measure for each time interval independent of the other ones. Sanity check\n",
    "    interval_measures = []\n",
    "    for ms in measure_data:\n",
    "        ms = np.mean(np.array(ms), axis=0)\n",
    "        interval_measures.append(ms)\n",
    "    print(f'{interval_measures=}')\n",
    "\n",
    "    # get the moving average measures\n",
    "    window_size = 50\n",
    "    moving_averages = []\n",
    "    all_measure_data = np.concatenate([d_ for d_ in measure_data if len(d_)])\n",
    "    t = 0\n",
    "    while t < len(all_measure_data) - window_size + 1:\n",
    "        window_average = np.sum(all_measure_data[t: t + window_size], axis=0) / window_size\n",
    "        moving_averages.append(window_average)\n",
    "        t += 1\n",
    "    moving_averages = np.array(moving_averages)\n",
    "    list_ov_moving_avg.append(moving_averages)\n",
    "    avg_traj_lengths.append(traj_len)\n",
    "    \n",
    "successes = [1 if x > 800 else 0 for x in avg_traj_lengths]\n",
    "success_rate = np.mean(successes)\n",
    "print(f'{success_rate=}')"
   ]
  },
  {
   "cell_type": "code",
   "execution_count": null,
   "metadata": {
    "ExecuteTime": {
     "end_time": "2023-05-10T21:18:03.755789Z",
     "start_time": "2023-05-10T21:18:03.676735Z"
    },
    "collapsed": false
   },
   "outputs": [],
   "source": [
    "# make all the moving averages the same length\n",
    "max_len = max([len(m) for m in list_ov_moving_avg])\n",
    "for i in range(len(list_ov_moving_avg)):\n",
    "    m = list_ov_moving_avg[i]\n",
    "    if len(m) < max_len:\n",
    "        padding = np.zeros((max_len - len(m), 2))\n",
    "        list_ov_moving_avg[i] = np.concatenate([m, padding])\n",
    "\n",
    "moving_averages_mean = np.mean(np.array(list_ov_moving_avg), axis=0)\n",
    "moving_averages_std = np.std(np.array(list_ov_moving_avg), axis=0)"
   ]
  },
  {
   "cell_type": "code",
   "execution_count": null,
   "metadata": {},
   "outputs": [],
   "source": [
    "def split(a, n):\n",
    "    k, m = divmod(len(a), n)\n",
    "    return (a[i*k+min(i, m):(i+1)*k+min(i+1, m)] for i in range(n))\n",
    "time_intervals = list(split(np.arange(0, 1000), 4))\n",
    "desired_measures = np.concatenate([np.array([measure]).repeat(len(time_intervals[ind]),0) for ind, measure in enumerate(measures)])\n",
    "print(desired_measures)"
   ]
  },
  {
   "cell_type": "code",
   "execution_count": null,
   "metadata": {
    "ExecuteTime": {
     "end_time": "2023-05-10T21:18:06.763357Z",
     "start_time": "2023-05-10T21:18:06.692497Z"
    },
    "collapsed": false
   },
   "outputs": [],
   "source": [
    "fig, (ax1, ax2) = plt.subplots(2, 1, figsize=(10, 6))\n",
    "# plot reconstructed measures\n",
    "# ax1.plot(np.arange(0, len(moving_averages)), [moving_averages[i][0] for i in range(len(moving_averages))], label='Reconstructed')\n",
    "# ax2.plot(np.arange(0, len(moving_averages)), [moving_averages[i][1] for i in range(len(moving_averages))], label='Reconstructed')\n",
    "ax1.plot(np.arange(0, len(moving_averages_mean)), [moving_averages_mean[i][0] for i in range(len(moving_averages_mean))], label='Reconstructed')\n",
    "ax1.fill_between(np.arange(0, len(moving_averages_mean)), moving_averages_mean[:, 0] - moving_averages_std[:, 0], moving_averages_mean[:, 0] + moving_averages_std[:, 0], alpha=0.2)\n",
    "ax2.plot(np.arange(0, len(moving_averages_mean)), [moving_averages_mean[i][1] for i in range(len(moving_averages_mean))], label='Reconstructed')\n",
    "ax2.fill_between(np.arange(0, len(moving_averages_mean)), moving_averages_mean[:, 1] - moving_averages_std[:, 1], moving_averages_mean[:, 1] + moving_averages_std[:, 1], alpha=0.2)\n",
    "\n",
    "\n",
    "\n",
    "ax1.plot(np.arange(0, len(desired_measures)), [desired_measures[i][0] for i in range(len(desired_measures))], label='Desired')\n",
    "ax2.plot(np.arange(0, len(desired_measures)), [desired_measures[i][1] for i in range(len(desired_measures))], label='Desired')\n",
    "\n",
    "ax1.set_ylabel('Measure 0')\n",
    "ax2.set_ylabel('Measure 1')\n",
    "\n",
    "ax1.set_xlabel('Time')\n",
    "ax2.set_xlabel('Time')\n",
    "\n",
    "# ax1.legend()\n",
    "ax2.legend()\n",
    "# Shrink current axis's height by 10% on the bottom\n",
    "box = ax1.get_position()\n",
    "ax1.set_position([box.x0, box.y0 + box.height * 0.15,\n",
    "                 box.width, box.height * 0.85])\n",
    "box = ax2.get_position()\n",
    "ax2.set_position([box.x0, box.y0 + box.height * 0.15,\n",
    "                 box.width, box.height * 0.85])\n",
    "\n",
    "# Put a legend below current axis\n",
    "ax2.legend(loc='upper center', bbox_to_anchor=(0.45, -0.15),\n",
    "          fancybox=True, shadow=True, ncol=5)\n",
    "\n",
    "\n"
   ]
  },
  {
   "cell_type": "code",
   "execution_count": null,
   "metadata": {},
   "outputs": [],
   "source": []
  },
  {
   "cell_type": "code",
   "execution_count": 32,
   "metadata": {
    "ExecuteTime": {
     "end_time": "2023-05-04T22:20:26.185708Z",
     "start_time": "2023-05-04T22:20:26.141330Z"
    },
    "collapsed": false
   },
   "outputs": [],
   "source": [
    "def behavior_composition_experiments(N: int = 20, get_from_archive: bool = False):\n",
    "    '''Run N behavior composition experiments and report the results'''\n",
    "    avg_rewards, avg_traj_lengths = [], []\n",
    "    for n in range(N):\n",
    "        measures = torch.rand((4, 2))\n",
    "        print(f'Measures: {measures}')\n",
    "        _, avg_rew, avg_traj_len = compose_behaviors(multi_vec_env, device, measures=measures, num_envs=multi_env_cfg.num_envs, render=False, get_from_archive=get_from_archive)\n",
    "        avg_rewards.append(avg_rew),\n",
    "        avg_traj_lengths.append(avg_traj_len)\n",
    "        print(f'Completed trial {n + 1} of {N}')\n",
    "    successes = [1 if x > 800 else 0 for x in avg_traj_lengths]\n",
    "    success_rate = np.mean(successes)\n",
    "    print(avg_rewards)\n",
    "    print(avg_traj_lengths)\n",
    "    if get_from_archive:\n",
    "        print(f\"success_rate for SBC from archive policies: {success_rate}\")\n",
    "    else:\n",
    "        print(f\"success_rate for SBC from generated policies: {success_rate}\")"
   ]
  },
  {
   "cell_type": "code",
   "execution_count": 39,
   "metadata": {
    "ExecuteTime": {
     "end_time": "2023-05-04T22:38:57.876510Z",
     "start_time": "2023-05-04T22:37:39.567674Z"
    },
    "collapsed": false
   },
   "outputs": [
    {
     "name": "stdout",
     "output_type": "stream",
     "text": [
      "Measures: tensor([[0.9532, 0.9290],\n",
      "        [0.9585, 0.0505],\n",
      "        [0.3101, 0.8903],\n",
      "        [0.9012, 0.5120]])\n",
      "Total Reward: 7799.92041015625, Average Trajectory Length: 946.0399780273438\n",
      "Completed trial 1 of 10\n",
      "Measures: tensor([[0.0959, 0.5644],\n",
      "        [0.3144, 0.9967],\n",
      "        [0.9877, 0.6735],\n",
      "        [0.5775, 0.2463]])\n",
      "Total Reward: 5335.90185546875, Average Trajectory Length: 632.260009765625\n",
      "Completed trial 2 of 10\n",
      "Measures: tensor([[0.5071, 0.2607],\n",
      "        [0.7057, 0.5638],\n",
      "        [0.2364, 0.6616],\n",
      "        [0.6278, 0.7929]])\n",
      "Total Reward: 8183.69189453125, Average Trajectory Length: 864.5199584960938\n",
      "Completed trial 3 of 10\n",
      "Measures: tensor([[0.0940, 0.5539],\n",
      "        [0.0116, 0.9337],\n",
      "        [0.5509, 0.0368],\n",
      "        [0.9526, 0.4588]])\n",
      "Total Reward: 2257.017822265625, Average Trajectory Length: 283.29998779296875\n",
      "Completed trial 4 of 10\n",
      "Measures: tensor([[0.4032, 0.1417],\n",
      "        [0.7719, 0.2726],\n",
      "        [0.0578, 0.6937],\n",
      "        [0.5379, 0.6736]])\n",
      "Total Reward: 8739.0234375, Average Trajectory Length: 938.5399780273438\n",
      "Completed trial 5 of 10\n",
      "Measures: tensor([[0.1610, 0.0897],\n",
      "        [0.0641, 0.4696],\n",
      "        [0.4929, 0.6385],\n",
      "        [0.4703, 0.5541]])\n",
      "Total Reward: 81.90837860107422, Average Trajectory Length: 20.0\n",
      "Completed trial 6 of 10\n",
      "Measures: tensor([[0.6335, 0.9083],\n",
      "        [0.5515, 0.4628],\n",
      "        [0.4128, 0.1914],\n",
      "        [0.9008, 0.5328]])\n",
      "Total Reward: 340.0664367675781, Average Trajectory Length: 77.1199951171875\n",
      "Completed trial 7 of 10\n",
      "Measures: tensor([[0.0643, 0.0395],\n",
      "        [0.5237, 0.9125],\n",
      "        [0.4333, 0.1513],\n",
      "        [0.9286, 0.0669]])\n",
      "Total Reward: 75.81991577148438, Average Trajectory Length: 19.0\n",
      "Completed trial 8 of 10\n",
      "Measures: tensor([[0.2533, 0.3566],\n",
      "        [0.3262, 0.7293],\n",
      "        [0.0339, 0.0458],\n",
      "        [0.0712, 0.7752]])\n",
      "Total Reward: 8460.376953125, Average Trajectory Length: 892.699951171875\n",
      "Completed trial 9 of 10\n",
      "Measures: tensor([[0.1667, 0.8627],\n",
      "        [0.0842, 0.8887],\n",
      "        [0.5193, 0.6145],\n",
      "        [0.5514, 0.6621]])\n",
      "Total Reward: 924.3671875, Average Trajectory Length: 188.1599884033203\n",
      "Completed trial 10 of 10\n",
      "[7799.92041015625, 5335.90185546875, 8183.69189453125, 2257.017822265625, 8739.0234375, 81.90837860107422, 340.0664367675781, 75.81991577148438, 8460.376953125, 924.3671875]\n",
      "[946.0399780273438, 632.260009765625, 864.5199584960938, 283.29998779296875, 938.5399780273438, 20.0, 77.1199951171875, 19.0, 892.699951171875, 188.1599884033203]\n",
      "success_rate for SBC from archive policies: 0.4\n"
     ]
    }
   ],
   "source": [
    "behavior_composition_experiments(N=10, get_from_archive = True)"
   ]
  },
  {
   "cell_type": "code",
   "execution_count": 41,
   "metadata": {
    "collapsed": false
   },
   "outputs": [
    {
     "name": "stdout",
     "output_type": "stream",
     "text": [
      "Measures: tensor([[0.9342, 0.2531],\n",
      "        [0.4400, 0.1433],\n",
      "        [0.7998, 0.2963],\n",
      "        [0.5739, 0.8974]])\n",
      "Total Reward: 7634.14892578125, Average Trajectory Length: 843.0999755859375\n",
      "Completed trial 1 of 10\n",
      "Measures: tensor([[0.2543, 0.1563],\n",
      "        [0.9761, 0.8249],\n",
      "        [0.2649, 0.4871],\n",
      "        [0.7722, 0.1399]])\n",
      "Total Reward: 8824.2822265625, Average Trajectory Length: 946.1399536132812\n",
      "Completed trial 2 of 10\n",
      "Measures: tensor([[0.2994, 0.8261],\n",
      "        [0.2220, 0.3487],\n",
      "        [0.2624, 0.0540],\n",
      "        [0.0150, 0.0724]])\n",
      "Total Reward: 6664.56103515625, Average Trajectory Length: 734.1799926757812\n",
      "Completed trial 3 of 10\n",
      "Measures: tensor([[0.1610, 0.8711],\n",
      "        [0.0541, 0.3319],\n",
      "        [0.8681, 0.4284],\n",
      "        [0.3431, 0.9998]])\n",
      "Total Reward: 413.7894287109375, Average Trajectory Length: 93.77999877929688\n",
      "Completed trial 4 of 10\n",
      "Measures: tensor([[0.7707, 0.9156],\n",
      "        [0.4750, 0.6479],\n",
      "        [0.8371, 0.6885],\n",
      "        [0.8419, 0.2987]])\n",
      "Total Reward: 8895.0966796875, Average Trajectory Length: 1000.0\n",
      "Completed trial 5 of 10\n",
      "Measures: tensor([[0.9415, 0.9962],\n",
      "        [0.7815, 0.8462],\n",
      "        [0.1545, 0.5377],\n",
      "        [0.7707, 0.8809]])\n",
      "Total Reward: 8229.41015625, Average Trajectory Length: 968.9599609375\n",
      "Completed trial 6 of 10\n",
      "Measures: tensor([[0.5079, 0.6918],\n",
      "        [0.2782, 0.0208],\n",
      "        [0.1307, 0.0623],\n",
      "        [0.4073, 0.0576]])\n",
      "Total Reward: 9033.716796875, Average Trajectory Length: 943.5399780273438\n",
      "Completed trial 7 of 10\n",
      "Measures: tensor([[0.3173, 0.7607],\n",
      "        [0.4574, 0.8672],\n",
      "        [0.1419, 0.1754],\n",
      "        [0.7182, 0.3031]])\n"
     ]
    }
   ],
   "source": [
    "behavior_composition_experiments(N=10, get_from_archive = False)"
   ]
  }
 ],
 "metadata": {
  "kernelspec": {
   "display_name": "Python 3",
   "language": "python",
   "name": "python3"
  },
  "language_info": {
   "codemirror_mode": {
    "name": "ipython",
    "version": 3
   },
   "file_extension": ".py",
   "mimetype": "text/x-python",
   "name": "python",
   "nbconvert_exporter": "python",
   "pygments_lexer": "ipython3",
   "version": "3.9.0"
  }
 },
 "nbformat": 4,
 "nbformat_minor": 0
}
