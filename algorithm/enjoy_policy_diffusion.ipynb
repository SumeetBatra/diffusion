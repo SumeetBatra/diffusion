{
 "cells": [
  {
   "cell_type": "code",
   "execution_count": null,
   "metadata": {
    "collapsed": true,
    "ExecuteTime": {
     "start_time": "2023-03-31T17:47:14.472922Z",
     "end_time": "2023-03-31T17:47:14.473391Z"
    }
   },
   "outputs": [],
   "source": [
    "import os\n",
    "from pathlib import Path\n",
    "project_root = os.path.join(str(Path.home()), 'diffusion_models')\n",
    "os.chdir(project_root)\n",
    "%pwd # should be PPGA root dir"
   ]
  },
  {
   "cell_type": "code",
   "execution_count": null,
   "outputs": [],
   "source": [
    "import torch\n",
    "import pickle\n",
    "import json\n",
    "\n",
    "from diffusion.gaussian_diffusion import cosine_beta_schedule, linear_beta_schedule, GaussianDiffusion\n",
    "from diffusion.latent_diffusion import LatentDiffusion\n",
    "from diffusion.ddim import DDIMSampler\n",
    "from autoencoders.policy.hypernet import HypernetAutoEncoder as AutoEncoder\n",
    "from attrdict import AttrDict\n",
    "from RL.actor_critic import Actor\n",
    "from models.cond_unet import ConditionalUNet\n",
    "from envs.brax_custom.brax_env import make_vec_env_brax\n",
    "from IPython.display import HTML, Image\n",
    "from IPython.display import display\n",
    "from brax.io import html, image"
   ],
   "metadata": {
    "collapsed": false,
    "ExecuteTime": {
     "start_time": "2023-03-31T17:47:14.473004Z",
     "end_time": "2023-03-31T17:47:15.972411Z"
    }
   }
  },
  {
   "cell_type": "code",
   "execution_count": null,
   "outputs": [],
   "source": [
    "# params to config\n",
    "device = torch.device('cuda')\n",
    "env_name = 'halfcheetah'\n",
    "seed = 1111\n",
    "normalize_obs = False\n",
    "normalize_rewards = False\n",
    "obs_shape = 18\n",
    "action_shape = 6\n",
    "mlp_shape = (128, 128, 6)\n",
    "\n",
    "env_cfg = AttrDict({\n",
    "    'env_name': env_name,\n",
    "    'env_batch_size': None,\n",
    "    'num_dims': 2,\n",
    "    'seed': seed,\n",
    "    'num_envs': 1\n",
    "})"
   ],
   "metadata": {
    "collapsed": false,
    "ExecuteTime": {
     "start_time": "2023-03-31T17:47:15.973651Z",
     "end_time": "2023-03-31T17:47:15.974790Z"
    }
   }
  },
  {
   "cell_type": "code",
   "execution_count": null,
   "outputs": [],
   "source": [
    "archive_df_path = 'data/archive_100x100_adaptive_stddev.pkl'\n",
    "with open(archive_df_path, 'rb') as f:\n",
    "    archive_df = pickle.load(f)\n",
    "\n",
    "scheduler_path = 'data/scheduler_100x100_adaptive_stddev.pkl'\n",
    "with open(scheduler_path, 'rb') as f:\n",
    "    scheduler = pickle.load(f)"
   ],
   "metadata": {
    "collapsed": false,
    "ExecuteTime": {
     "start_time": "2023-03-31T17:47:15.975608Z",
     "end_time": "2023-03-31T17:47:18.021906Z"
    }
   }
  },
  {
   "cell_type": "code",
   "execution_count": null,
   "outputs": [],
   "source": [
    "# make the env\n",
    "env = make_vec_env_brax(env_cfg)"
   ],
   "metadata": {
    "collapsed": false,
    "ExecuteTime": {
     "start_time": "2023-03-31T17:47:18.026182Z",
     "end_time": "2023-03-31T17:47:18.304467Z"
    }
   }
  },
  {
   "cell_type": "code",
   "execution_count": null,
   "outputs": [],
   "source": [
    "def enjoy_brax(agent, render=True, deterministic=True):\n",
    "    if normalize_obs:\n",
    "        obs_mean, obs_var = agent.obs_normalizer.obs_rms.mean, agent.obs_normalizer.obs_rms.var\n",
    "        print(f'{obs_mean=}')\n",
    "\n",
    "    obs = env.reset()\n",
    "    rollout = [env.unwrapped._state]\n",
    "    total_reward = 0\n",
    "    measures = torch.zeros(env_cfg.num_dims).to(device)\n",
    "    done = False\n",
    "    while not done:\n",
    "        with torch.no_grad():\n",
    "            obs = obs.unsqueeze(dim=0).to(device)\n",
    "            if normalize_obs:\n",
    "                obs = (obs - obs_mean) / torch.sqrt(obs_var + 1e-8)\n",
    "\n",
    "            if deterministic:\n",
    "                act = agent.actor_mean(obs)\n",
    "            else:\n",
    "                act, _, _ = agent.get_action(obs)\n",
    "            act = act.squeeze()\n",
    "            obs, rew, done, info = env.step(act.cpu())\n",
    "            measures += info['measures']\n",
    "            rollout.append(env.unwrapped._state)\n",
    "            total_reward += rew\n",
    "    if render:\n",
    "        i = HTML(html.render(env.unwrapped._env.sys, [s.qp for s in rollout]))\n",
    "        display(i)\n",
    "    print(f'{total_reward=}')\n",
    "    print(f' Rollout length: {len(rollout)}')\n",
    "    measures /= len(rollout)\n",
    "    print(f'Measures: {measures.cpu().numpy()}')\n",
    "    return total_reward.detach().cpu().numpy()"
   ],
   "metadata": {
    "collapsed": false,
    "ExecuteTime": {
     "start_time": "2023-03-31T17:47:18.306252Z",
     "end_time": "2023-03-31T17:47:18.307694Z"
    }
   }
  },
  {
   "cell_type": "code",
   "execution_count": null,
   "outputs": [],
   "source": [
    "# diffusion model params\n",
    "latent_diffusion = True\n",
    "use_ddim = True\n",
    "latent_channels = 8\n",
    "latent_size = 4\n",
    "timesteps = 600\n",
    "\n",
    "cfg_path = './checkpoints/cfg.json'\n",
    "with open(cfg_path, 'r') as f:\n",
    "    cfg = json.load(f)\n",
    "    cfg = AttrDict(cfg)\n",
    "\n",
    "scale_factor = cfg.scale_factor if latent_diffusion else None\n",
    "\n",
    "device = 'cuda' if torch.cuda.is_available() else 'cpu'\n",
    "\n",
    "betas = cosine_beta_schedule(timesteps)"
   ],
   "metadata": {
    "collapsed": false,
    "ExecuteTime": {
     "start_time": "2023-03-31T17:47:18.308482Z",
     "end_time": "2023-03-31T17:47:18.347972Z"
    }
   }
  },
  {
   "cell_type": "code",
   "execution_count": null,
   "outputs": [],
   "source": [
    "# paths to VAE and diffusion model checkpoint\n",
    "model_path = './checkpoints/model_cp.pt'\n",
    "autoencoder_path = './checkpoints/autoencoder.pt'"
   ],
   "metadata": {
    "collapsed": false,
    "ExecuteTime": {
     "start_time": "2023-03-31T17:47:18.348727Z",
     "end_time": "2023-03-31T17:47:18.350637Z"
    }
   }
  },
  {
   "cell_type": "code",
   "execution_count": null,
   "outputs": [],
   "source": [
    "# load the diffusion model\n",
    "logvar = torch.full(fill_value=0., size=(timesteps,))\n",
    "model = ConditionalUNet(\n",
    "    in_channels=latent_channels,\n",
    "    out_channels=latent_channels,\n",
    "    channels=64,\n",
    "    n_res_blocks=1,\n",
    "    attention_levels=[],\n",
    "    channel_multipliers=[1, 2, 4],\n",
    "    n_heads=4,\n",
    "    d_cond=256,\n",
    "    logvar=logvar\n",
    ")\n",
    "autoencoder = AutoEncoder(emb_channels=8, z_channels=4)\n",
    "autoencoder.load_state_dict(torch.load(autoencoder_path))\n",
    "autoencoder.to(device)\n",
    "autoencoder.eval()\n",
    "\n",
    "gauss_diff = LatentDiffusion(betas, num_timesteps=timesteps, device=device)\n",
    "model.load_state_dict(torch.load(model_path))\n",
    "model.to(device)\n",
    "\n"
   ],
   "metadata": {
    "collapsed": false,
    "ExecuteTime": {
     "start_time": "2023-03-31T17:47:18.350772Z",
     "end_time": "2023-03-31T17:47:18.537215Z"
    }
   }
  },
  {
   "cell_type": "code",
   "execution_count": null,
   "outputs": [],
   "source": [
    "ddim_sampler = DDIMSampler(gauss_diff, n_steps=100)\n",
    "\n",
    "random_idx = torch.randint(0, 64, (1,))\n",
    "print(f'{random_idx=}')"
   ],
   "metadata": {
    "collapsed": false,
    "ExecuteTime": {
     "start_time": "2023-03-31T17:47:18.537022Z",
     "end_time": "2023-03-31T17:47:18.537389Z"
    }
   }
  },
  {
   "cell_type": "code",
   "execution_count": null,
   "outputs": [],
   "source": [
    "cond = torch.ones((64, 2)) * 0.5\n",
    "cond = cond.to(device)"
   ],
   "metadata": {
    "collapsed": false,
    "ExecuteTime": {
     "start_time": "2023-03-31T17:47:52.039956Z",
     "end_time": "2023-03-31T17:47:52.080988Z"
    }
   }
  },
  {
   "cell_type": "code",
   "execution_count": null,
   "outputs": [],
   "source": [
    "samples = ddim_sampler.sample(model, shape=[64, latent_channels, latent_size, latent_size], cond=cond)\n",
    "samples = samples * (1 / scale_factor)\n",
    "samples = autoencoder.decode(samples)"
   ],
   "metadata": {
    "collapsed": false,
    "ExecuteTime": {
     "start_time": "2023-03-31T17:47:53.996997Z",
     "end_time": "2023-03-31T17:47:54.737428Z"
    }
   }
  },
  {
   "cell_type": "code",
   "execution_count": null,
   "outputs": [],
   "source": [
    "rec_agent = samples[random_idx]\n",
    "enjoy_brax(rec_agent)"
   ],
   "metadata": {
    "collapsed": false,
    "ExecuteTime": {
     "start_time": "2023-03-31T17:48:17.791616Z",
     "end_time": "2023-03-31T17:48:18.357879Z"
    }
   }
  },
  {
   "cell_type": "code",
   "execution_count": null,
   "outputs": [],
   "source": [],
   "metadata": {
    "collapsed": false
   }
  }
 ],
 "metadata": {
  "kernelspec": {
   "display_name": "Python 3",
   "language": "python",
   "name": "python3"
  },
  "language_info": {
   "codemirror_mode": {
    "name": "ipython",
    "version": 2
   },
   "file_extension": ".py",
   "mimetype": "text/x-python",
   "name": "python",
   "nbconvert_exporter": "python",
   "pygments_lexer": "ipython2",
   "version": "2.7.6"
  }
 },
 "nbformat": 4,
 "nbformat_minor": 0
}
