{
 "cells": [
  {
   "cell_type": "code",
   "execution_count": 1,
   "metadata": {
    "ExecuteTime": {
     "end_time": "2023-05-10T21:10:03.707234Z",
     "start_time": "2023-05-10T21:10:03.706777Z"
    },
    "collapsed": true
   },
   "outputs": [
    {
     "data": {
      "text/plain": [
       "'/home/shashank/research/qd/main/diffusion_models'"
      ]
     },
     "execution_count": 1,
     "metadata": {},
     "output_type": "execute_result"
    }
   ],
   "source": [
    "import os\n",
    "from pathlib import Path\n",
    "project_root = os.path.join('/home/shashank/research/qd/main/diffusion_models')\n",
    "os.chdir(project_root)\n",
    "%pwd # should be PPGA root dir"
   ]
  },
  {
   "cell_type": "code",
   "execution_count": 2,
   "metadata": {
    "ExecuteTime": {
     "end_time": "2023-05-10T21:10:05.886804Z",
     "start_time": "2023-05-10T21:10:03.706901Z"
    },
    "collapsed": false
   },
   "outputs": [
    {
     "name": "stderr",
     "output_type": "stream",
     "text": [
      "/home/shashank/miniconda3/envs/qd/lib/python3.9/site-packages/tqdm/auto.py:22: TqdmWarning: IProgress not found. Please update jupyter and ipywidgets. See https://ipywidgets.readthedocs.io/en/stable/user_install.html\n",
      "  from .autonotebook import tqdm as notebook_tqdm\n"
     ]
    }
   ],
   "source": [
    "import torch\n",
    "import pickle\n",
    "import json\n",
    "import numpy as np\n",
    "import matplotlib\n",
    "matplotlib.rcParams.update(\n",
    "    {\n",
    "        \"figure.dpi\": 150,\n",
    "        \"font.size\": 20,\n",
    "    }\n",
    ")\n",
    "matplotlib.rcParams[\"pdf.fonttype\"] = 42\n",
    "matplotlib.rcParams[\"ps.fonttype\"] = 42\n",
    "import matplotlib.pyplot as plt\n",
    "\n",
    "from typing import Optional\n",
    "from diffusion.gaussian_diffusion import cosine_beta_schedule, linear_beta_schedule, GaussianDiffusion\n",
    "from diffusion.latent_diffusion import LatentDiffusion\n",
    "from diffusion.ddim import DDIMSampler\n",
    "from autoencoders.policy.hypernet import HypernetAutoEncoder as AutoEncoder\n",
    "from dataset.shaped_elites_dataset import WeightNormalizer\n",
    "from attrdict import AttrDict\n",
    "from utils.tensor_dict import TensorDict, cat_tensordicts\n",
    "from RL.actor_critic import Actor\n",
    "from utils.normalize import ObsNormalizer\n",
    "from models.cond_unet import ConditionalUNet, LangConditionalUNet\n",
    "from envs.brax_custom.brax_env import make_vec_env_brax\n",
    "from IPython.display import HTML, Image\n",
    "from IPython.display import display\n",
    "from brax.io import html, image\n",
    "from utils.brax_utils import shared_params, rollout_many_agents"
   ]
  },
  {
   "cell_type": "code",
   "execution_count": 3,
   "metadata": {
    "ExecuteTime": {
     "end_time": "2023-05-10T21:10:05.890509Z",
     "start_time": "2023-05-10T21:10:05.888505Z"
    },
    "collapsed": false
   },
   "outputs": [],
   "source": [
    "# params to config\n",
    "device = torch.device('cuda')\n",
    "env_name = 'humanoid'\n",
    "seed = 1111\n",
    "normalize_obs = True\n",
    "normalize_rewards = False\n",
    "obs_shape = shared_params[env_name]['obs_dim']\n",
    "action_shape = np.array([shared_params[env_name]['action_dim']])\n",
    "mlp_shape = (128, 128, action_shape)\n",
    "\n",
    "env_cfg = AttrDict({\n",
    "    'env_name': env_name,\n",
    "    'env_batch_size': None,\n",
    "    'num_dims': 2,\n",
    "    'seed': seed,\n",
    "    'num_envs': 1,\n",
    "    'clip_obs_rew': True,\n",
    "})"
   ]
  },
  {
   "cell_type": "code",
   "execution_count": 4,
   "metadata": {
    "ExecuteTime": {
     "end_time": "2023-05-10T21:10:16.398315Z",
     "start_time": "2023-05-10T21:10:05.890854Z"
    },
    "collapsed": false
   },
   "outputs": [
    {
     "name": "stderr",
     "output_type": "stream",
     "text": [
      "WARNING:evotorch:The logger is already configured. The default configuration will not be applied. Call `set_default_logger_config` with `override=True` to override the current configuration.\n"
     ]
    }
   ],
   "source": [
    "archive_df_path = f'data/{env_name}/archive100x100.pkl'\n",
    "with open(archive_df_path, 'rb') as f:\n",
    "    archive_df = pickle.load(f)\n",
    "\n",
    "# scheduler_path = f'data/{env_name}/scheduler_100x100.pkl'\n",
    "# with open(scheduler_path, 'rb') as f:\n",
    "#     scheduler = pickle.load(f)"
   ]
  },
  {
   "cell_type": "code",
   "execution_count": 5,
   "metadata": {
    "ExecuteTime": {
     "end_time": "2023-05-10T21:10:16.714759Z",
     "start_time": "2023-05-10T21:10:16.405397Z"
    },
    "collapsed": false
   },
   "outputs": [],
   "source": [
    "# make the env\n",
    "env = make_vec_env_brax(env_cfg)"
   ]
  },
  {
   "cell_type": "code",
   "execution_count": 6,
   "metadata": {
    "ExecuteTime": {
     "end_time": "2023-05-10T21:10:16.718488Z",
     "start_time": "2023-05-10T21:10:16.713476Z"
    },
    "collapsed": false
   },
   "outputs": [],
   "source": [
    "def enjoy_brax(agent, render=True, deterministic=True):\n",
    "    if normalize_obs:\n",
    "        obs_mean, obs_var = agent.obs_normalizer.obs_rms.mean, agent.obs_normalizer.obs_rms.var\n",
    "        print(f'Normalize Obs Enabled')\n",
    "\n",
    "    obs = env.reset()\n",
    "    rollout = [env.unwrapped._state]\n",
    "    total_reward = 0\n",
    "    measures = torch.zeros(env_cfg.num_dims).to(device)\n",
    "    done = False\n",
    "    while not done:\n",
    "        with torch.no_grad():\n",
    "            obs = obs.unsqueeze(dim=0).to(device)\n",
    "            if normalize_obs:\n",
    "                obs = (obs - obs_mean) / torch.sqrt(obs_var + 1e-8)\n",
    "\n",
    "            if deterministic:\n",
    "                act = agent.actor_mean(obs)\n",
    "            else:\n",
    "                act, _, _ = agent.get_action(obs)\n",
    "            act = act.squeeze()\n",
    "            obs, rew, done, info = env.step(act.cpu())\n",
    "            measures += info['measures']\n",
    "            rollout.append(env.unwrapped._state)\n",
    "            total_reward += rew\n",
    "    if render:\n",
    "        i = HTML(html.render(env.unwrapped._env.sys, [s.qp for s in rollout]))\n",
    "        display(i)\n",
    "    print(f'{total_reward=}')\n",
    "    print(f' Rollout length: {len(rollout)}')\n",
    "    measures /= len(rollout)\n",
    "    print(f'Measures: {measures.cpu().numpy()}')\n",
    "    return total_reward.detach().cpu(), measures.detach().cpu()"
   ]
  },
  {
   "cell_type": "code",
   "execution_count": 7,
   "metadata": {
    "ExecuteTime": {
     "end_time": "2023-05-10T21:10:16.759592Z",
     "start_time": "2023-05-10T21:10:16.715704Z"
    },
    "collapsed": false
   },
   "outputs": [],
   "source": [
    "# diffusion model params\n",
    "latent_diffusion = True\n",
    "use_ddim = True\n",
    "center_data = True\n",
    "use_language = False\n",
    "latent_channels = 4\n",
    "latent_size = 4\n",
    "timesteps = 600\n",
    "\n",
    "cfg_path = '/home/shashank/research/qd/paper_results2/humanoid/diffusion_model/humanoid_diffusion_model_20230505-103651_333/args.json'\n",
    "with open(cfg_path, 'r') as f:\n",
    "    cfg = json.load(f)\n",
    "    cfg = AttrDict(cfg)\n",
    "\n",
    "scale_factor = cfg.scale_factor if latent_diffusion else None\n",
    "\n",
    "device = 'cuda' if torch.cuda.is_available() else 'cpu'\n",
    "\n",
    "betas = cosine_beta_schedule(timesteps)"
   ]
  },
  {
   "cell_type": "code",
   "execution_count": 8,
   "metadata": {
    "ExecuteTime": {
     "end_time": "2023-05-10T21:10:16.759883Z",
     "start_time": "2023-05-10T21:10:16.751645Z"
    },
    "collapsed": false
   },
   "outputs": [],
   "source": [
    "# paths to VAE and diffusion model checkpoint\n",
    "autoencoder_path = '/home/shashank/research/qd/paper_results2/humanoid/autoencoder/humanoid_autoencoder_20230503-082033_333/model_checkpoints/humanoid_autoencoder_20230503-082033_333.pt'\n",
    "model_path = '/home/shashank/research/qd/paper_results2/humanoid/diffusion_model/humanoid_diffusion_model_20230505-103651_333/model_checkpoints/humanoid_diffusion_model_20230505-103651_333.pt'\n",
    "weight_normalizer_path = 'results/humanoid/weight_normalizer.pkl'"
   ]
  },
  {
   "cell_type": "code",
   "execution_count": 9,
   "metadata": {
    "ExecuteTime": {
     "end_time": "2023-05-10T21:10:17.999499Z",
     "start_time": "2023-05-10T21:10:16.755849Z"
    },
    "collapsed": false
   },
   "outputs": [
    {
     "name": "stdout",
     "output_type": "stream",
     "text": [
      "Total size of z is: 64\n"
     ]
    }
   ],
   "source": [
    "# load the diffusion model\n",
    "logvar = torch.full(fill_value=0., size=(timesteps,))\n",
    "if use_language:\n",
    "    model = LangConditionalUNet(\n",
    "        in_channels=latent_channels,\n",
    "        out_channels=latent_channels,\n",
    "        channels=64,\n",
    "        n_res_blocks=1,\n",
    "        attention_levels=[],\n",
    "        channel_multipliers=[1, 2, 4],\n",
    "        n_heads=4,\n",
    "        d_cond=256,\n",
    "        logvar=logvar,\n",
    "        language_model='flan-t5-small'\n",
    "    )\n",
    "else:\n",
    "    model = ConditionalUNet(\n",
    "        in_channels=latent_channels,\n",
    "        out_channels=latent_channels,\n",
    "        channels=64,\n",
    "        n_res_blocks=1,\n",
    "        attention_levels=[],\n",
    "        channel_multipliers=[1, 2, 4],\n",
    "        n_heads=4,\n",
    "        d_cond=256,\n",
    "        logvar=logvar\n",
    "    )\n",
    "autoencoder = AutoEncoder(emb_channels=4,\n",
    "                          z_channels=4,\n",
    "                          obs_shape=obs_shape,\n",
    "                          action_shape=action_shape,\n",
    "                          z_height=4,\n",
    "                          enc_fc_hid=64,\n",
    "                          obsnorm_hid=64,\n",
    "                          ghn_hid=32)\n",
    "autoencoder.load_state_dict(torch.load(autoencoder_path))\n",
    "autoencoder.to(device)\n",
    "autoencoder.eval()\n",
    "\n",
    "gauss_diff = LatentDiffusion(betas, num_timesteps=timesteps, device=device)\n",
    "model.load_state_dict(torch.load(model_path))\n",
    "model.to(device)\n",
    "\n",
    "weight_normalizer = None\n",
    "if center_data:\n",
    "    weight_normalizer = WeightNormalizer(TensorDict({}), TensorDict({}))\n",
    "    weight_normalizer.load(weight_normalizer_path)\n"
   ]
  },
  {
   "cell_type": "code",
   "execution_count": 10,
   "metadata": {
    "ExecuteTime": {
     "end_time": "2023-05-10T21:10:18.046890Z",
     "start_time": "2023-05-10T21:10:18.000648Z"
    },
    "collapsed": false
   },
   "outputs": [],
   "source": [
    "def postprocess_agents(rec_agents: list[Actor], obsnorms: list[dict]):\n",
    "    '''Denormalize outputs of the decoder and return a list of Actors that can be rolled out'''\n",
    "    batch_size = len(rec_agents)\n",
    "    TensorDict(obsnorms)\n",
    "    rec_agents_params = [TensorDict(p.state_dict()) for p in rec_agents]\n",
    "    rec_agents_params = cat_tensordicts(rec_agents_params)\n",
    "    rec_agents_params.update(obsnorms)\n",
    "    # decoder doesn't fill in the logstd param, so we manually set it to default values\n",
    "    actor_logstd = torch.zeros(batch_size, 1, action_shape[0])\n",
    "    actor_logstd = actor_logstd.to(device)\n",
    "    rec_agents_params['actor_logstd'] = actor_logstd\n",
    "    # if data centering was used during training, we need to denormalize the weights\n",
    "    if center_data:\n",
    "        rec_agents_params = weight_normalizer.denormalize(rec_agents_params)\n",
    "\n",
    "    if normalize_obs:\n",
    "        rec_agents_params['obs_normalizer.obs_rms.var'] = torch.exp(rec_agents_params['obs_normalizer.obs_rms.logstd'] * 2)\n",
    "        rec_agents_params['obs_normalizer.obs_rms.count'] = torch.zeros(batch_size, 1).to(device)\n",
    "        del rec_agents_params['obs_normalizer.obs_rms.logstd']\n",
    "\n",
    "    rec_agents = [Actor(obs_shape, action_shape, normalize_obs=normalize_obs).to(device) for _ in range(len(rec_agents_params))]\n",
    "    for i in range(len(rec_agents_params)):\n",
    "        rec_agents[i].load_state_dict(rec_agents_params[i])\n",
    "\n",
    "    return rec_agents"
   ]
  },
  {
   "cell_type": "code",
   "execution_count": 11,
   "metadata": {
    "ExecuteTime": {
     "end_time": "2023-05-10T21:10:18.047039Z",
     "start_time": "2023-05-10T21:10:18.046808Z"
    },
    "collapsed": false
   },
   "outputs": [],
   "source": [
    "ddim_sampler = DDIMSampler(gauss_diff, n_steps=100)"
   ]
  },
  {
   "cell_type": "code",
   "execution_count": 12,
   "metadata": {
    "ExecuteTime": {
     "end_time": "2023-05-10T21:10:18.047110Z",
     "start_time": "2023-05-10T21:10:18.046858Z"
    },
    "collapsed": false
   },
   "outputs": [],
   "source": [
    "def get_agent_with_measure(m):\n",
    "    batch_size = 1\n",
    "    if isinstance(m, list):\n",
    "        cond = torch.Tensor(m).view(1, -1).to(device)\n",
    "    elif isinstance(m, torch.Tensor):\n",
    "        cond = m.view(1, -1).to(device)\n",
    "\n",
    "    shape = [batch_size, latent_channels, latent_size, latent_size]\n",
    "    samples = ddim_sampler.sample(model, shape=shape, cond=cond, classifier_free_guidance=True, classifier_scale=1.0)\n",
    "    samples = samples * (1 / scale_factor)\n",
    "    (rec_agents, obsnorms) = autoencoder.decode(samples)\n",
    "    rec_agents = postprocess_agents(rec_agents, obsnorms)\n",
    "    return rec_agents[0]"
   ]
  },
  {
   "cell_type": "code",
   "execution_count": 13,
   "metadata": {
    "ExecuteTime": {
     "end_time": "2023-05-10T21:10:18.090870Z",
     "start_time": "2023-05-10T21:10:18.046967Z"
    },
    "collapsed": false
   },
   "outputs": [],
   "source": [
    "def get_agent_with_text(t: str):\n",
    "    batch_size = 1\n",
    "    cond = model.text_to_cond([t])\n",
    "    shape = [batch_size, latent_channels, latent_size, latent_size]\n",
    "    samples = ddim_sampler.sample(model, shape=shape, cond=cond, classifier_free_guidance=True, classifier_scale=1.0)\n",
    "    samples = samples * (1 / scale_factor)\n",
    "    (rec_agents, obsnorms) = autoencoder.decode(samples)\n",
    "    rec_agents = postprocess_agents(rec_agents, obsnorms)\n",
    "    return rec_agents[0]"
   ]
  },
  {
   "cell_type": "code",
   "execution_count": 14,
   "metadata": {
    "ExecuteTime": {
     "end_time": "2023-05-04T21:57:52.261329Z",
     "start_time": "2023-05-04T21:57:52.217290Z"
    },
    "collapsed": false
   },
   "outputs": [],
   "source": [
    "batch_size = 1\n",
    "cond = torch.ones((batch_size, 2)) * 0.2\n",
    "cond = cond.to(device)"
   ]
  },
  {
   "cell_type": "code",
   "execution_count": 15,
   "metadata": {
    "ExecuteTime": {
     "end_time": "2023-05-04T14:24:44.388896Z",
     "start_time": "2023-05-04T14:24:43.039525Z"
    },
    "collapsed": false
   },
   "outputs": [],
   "source": [
    "shape = [batch_size, latent_channels, latent_size, latent_size]\n",
    "samples = ddim_sampler.sample(model, shape=shape, cond=cond, classifier_free_guidance=True, classifier_scale=2.0)\n",
    "samples = samples * (1 / scale_factor)\n",
    "(rec_agents, obsnorms) = autoencoder.decode(samples)\n",
    "rec_agents = postprocess_agents(rec_agents, obsnorms)"
   ]
  },
  {
   "cell_type": "markdown",
   "metadata": {
    "collapsed": false
   },
   "source": []
  },
  {
   "cell_type": "code",
   "execution_count": 16,
   "metadata": {
    "ExecuteTime": {
     "end_time": "2023-05-10T21:08:42.102899Z",
     "start_time": "2023-05-10T21:08:30.617796Z"
    },
    "collapsed": false
   },
   "outputs": [],
   "source": [
    "# random_idx = torch.randint(0, batch_size, (1,))\n",
    "# print(f'{random_idx=}')\n",
    "# print(len(obsnorms))\n",
    "# rec_agent = rec_agents[random_idx]\n",
    "# rec_agent = get_agent_with_measure([0.5, 0.5])\n",
    "\n",
    "# text =   \"run forward on your left foot while lifting your right foot\"\n",
    "# rec_agent = get_agent_with_text(text)\n",
    "# enjoy_brax(rec_agent)"
   ]
  },
  {
   "cell_type": "code",
   "execution_count": 17,
   "metadata": {
    "ExecuteTime": {
     "end_time": "2023-05-10T21:16:50.538471Z",
     "start_time": "2023-05-10T21:16:50.473784Z"
    },
    "collapsed": false
   },
   "outputs": [],
   "source": [
    "# evaluate an agent on many envs in parallel\n",
    "N = 50\n",
    "multi_env_cfg = AttrDict({\n",
    "    'env_name': env_name,\n",
    "    'env_batch_size': N,\n",
    "    'num_envs': N,\n",
    "    'num_dims': 2,\n",
    "    'seed': seed,\n",
    "    'clip_obs_rew': True,\n",
    "})\n",
    "multi_vec_env = make_vec_env_brax(multi_env_cfg)"
   ]
  },
  {
   "cell_type": "code",
   "execution_count": 18,
   "metadata": {
    "ExecuteTime": {
     "end_time": "2023-05-04T12:16:50.568340Z",
     "start_time": "2023-05-04T12:16:34.349919Z"
    },
    "collapsed": false
   },
   "outputs": [],
   "source": [
    "# rollout_many_agents([rec_agent], multi_env_cfg, multi_vec_env, device, verbose=True, normalize_obs=True)"
   ]
  },
  {
   "cell_type": "code",
   "execution_count": 19,
   "metadata": {
    "ExecuteTime": {
     "end_time": "2023-05-10T21:12:53.552236Z",
     "start_time": "2023-05-10T21:12:53.450708Z"
    },
    "collapsed": false
   },
   "outputs": [],
   "source": [
    "def compose_behaviors(env, device, measures: Optional[torch.Tensor] = None, labels: Optional[list[str]] = None,\n",
    "                      num_envs: int = 1, deterministic: bool = True, render: bool = True):\n",
    "    if num_envs > 1:\n",
    "        render = False\n",
    "    agents = []\n",
    "    assert measures is not None or labels is not None\n",
    "    if measures is not None:\n",
    "        for m in measures:\n",
    "            agent = get_agent_with_measure(m)\n",
    "            agents.append(agent)\n",
    "    else:\n",
    "        for l in labels:\n",
    "            agent = get_agent_with_text(l)\n",
    "            agents.append(agent)\n",
    "\n",
    "    num_chunks = len(agents)\n",
    "\n",
    "    # https://stackoverflow.com/questions/2130016/splitting-a-list-into-n-parts-of-approximately-equal-length\n",
    "    def split(a, n):\n",
    "        k, m = divmod(len(a), n)\n",
    "        return (a[i*k+min(i, m):(i+1)*k+min(i+1, m)] for i in range(n))\n",
    "\n",
    "    time_intervals = list(split(np.arange(0, 1000), num_chunks))\n",
    "\n",
    "    num_steps = 1000\n",
    "    total_reward = torch.zeros(num_envs)\n",
    "    dones = torch.BoolTensor([False for _ in range(num_envs)]).to(device)\n",
    "    all_dones = torch.zeros((num_steps, num_envs)).to(device)\n",
    "    # get the per-chunk measures independent of other chunks\n",
    "    measure_data = [[] for _ in range(num_chunks)]\n",
    "\n",
    "    obs = env.reset()\n",
    "    rollout = [env.unwrapped._state]\n",
    "\n",
    "    t = 0\n",
    "    while not torch.all(dones):\n",
    "        interval_idx = next((i for i, interval in enumerate(time_intervals) if t in interval), None)\n",
    "        agent = agents[interval_idx]\n",
    "        obs_mean, obs_var = agent.obs_normalizer.obs_rms.mean, agent.obs_normalizer.obs_rms.var\n",
    "\n",
    "        obs = (obs - obs_mean) / torch.sqrt(obs_var + 1e-8)\n",
    "\n",
    "        if deterministic:\n",
    "                act = agent.actor_mean(obs)\n",
    "        else:\n",
    "            act, _, _ = agent.get_action(obs)\n",
    "        act = act.squeeze()\n",
    "        obs, rew, next_dones, info = env.step(act.cpu())\n",
    "        measure_t = info['measures'].mean(0)\n",
    "        measure_data[interval_idx].append(measure_t.detach().cpu().numpy())\n",
    "        if num_envs == 1:\n",
    "            rollout.append(env.unwrapped._state)\n",
    "        total_reward += rew.detach().cpu().numpy() * ~dones.cpu().numpy()\n",
    "        dones = torch.logical_or(dones, next_dones)\n",
    "        all_dones[t] = dones.long().clone()\n",
    "        t += 1\n",
    "    if render:\n",
    "        i = HTML(html.render(env.unwrapped._env.sys, [s.qp for s in rollout]))\n",
    "        display(i)\n",
    "\n",
    "    # the first done in each env is where that trajectory ends\n",
    "    traj_lengths = torch.argmax(all_dones, dim=0) + 1\n",
    "\n",
    "    print(f'Total Reward: {total_reward.mean().item()}, Average Trajectory Length: {traj_lengths.float().mean().item()}')\n",
    "    return measure_data, total_reward.mean().item(), traj_lengths.float().mean().item()"
   ]
  },
  {
   "cell_type": "code",
   "execution_count": 20,
   "metadata": {
    "ExecuteTime": {
     "end_time": "2023-05-10T21:17:58.007810Z",
     "start_time": "2023-05-10T21:17:52.789532Z"
    },
    "collapsed": false
   },
   "outputs": [],
   "source": [
    "measures = [\n",
    "    [0.9, 0.9],\n",
    "    [0.2, 0.2],\n",
    "    [0.5, 0.0],\n",
    "    [0.0, 0.5]\n",
    "]\n",
    "labels = [\n",
    "    \"quickly slide forward on right foot\",\n",
    "    \"quickly run forward using only your left foot\",\n",
    "    \"quickly walk forward while dragging your right foot\",\n",
    "    \"skip forwards on your right foot\"\n",
    "]\n",
    "# measure_data, *_ = compose_behaviors(multi_vec_env, device, labels=labels, num_envs=multi_env_cfg.num_envs, render=False)\n"
   ]
  },
  {
   "cell_type": "code",
   "execution_count": 21,
   "metadata": {
    "ExecuteTime": {
     "end_time": "2023-05-10T21:17:59.893154Z",
     "start_time": "2023-05-10T21:17:59.882320Z"
    },
    "collapsed": false
   },
   "outputs": [
    {
     "name": "stdout",
     "output_type": "stream",
     "text": [
      "Total Reward: 7995.443359375, Average Trajectory Length: 898.1199951171875\n",
      "interval_measures=[array([0.83280015, 0.74496   ], dtype=float32), array([0.1084801 , 0.38519982], dtype=float32), array([0.44519994, 0.03928006], dtype=float32), array([0.19879997, 0.40911996], dtype=float32)]\n",
      "Total Reward: 6785.5126953125, Average Trajectory Length: 792.4199829101562\n",
      "interval_measures=[array([0.8532801 , 0.74712026], dtype=float32), array([0.10880006, 0.44223997], dtype=float32), array([0.47640005, 0.01287999], dtype=float32), array([0.16384025, 0.3780798 ], dtype=float32)]\n",
      "Total Reward: 7358.36865234375, Average Trajectory Length: 846.4599609375\n",
      "interval_measures=[array([0.8648804, 0.7020799], dtype=float32), array([0.13872007, 0.25544006], dtype=float32), array([0.44616005, 0.06392018], dtype=float32), array([0.18136014, 0.40944022], dtype=float32)]\n",
      "Total Reward: 5702.1494140625, Average Trajectory Length: 663.2799682617188\n",
      "interval_measures=[array([0.81320024, 0.79511994], dtype=float32), array([0.11712002, 0.35295975], dtype=float32), array([0.44695994, 0.02375998], dtype=float32), array([0.14471993, 0.50295985], dtype=float32)]\n",
      "Total Reward: 7371.892578125, Average Trajectory Length: 827.5199584960938\n",
      "interval_measures=[array([0.7743999, 0.7866398], dtype=float32), array([0.1241601 , 0.34503984], dtype=float32), array([0.42552   , 0.03328001], dtype=float32), array([0.22328015, 0.45768026], dtype=float32)]\n",
      "Total Reward: 7221.392578125, Average Trajectory Length: 815.5799560546875\n",
      "interval_measures=[array([0.73815966, 0.79728013], dtype=float32), array([0.11624009, 0.40815985], dtype=float32), array([0.39431998, 0.0382401 ], dtype=float32), array([0.13768029, 0.45432   ], dtype=float32)]\n",
      "Total Reward: 7330.2939453125, Average Trajectory Length: 826.6399536132812\n",
      "interval_measures=[array([0.78151995, 0.76936036], dtype=float32), array([0.10568012, 0.43479985], dtype=float32), array([0.4450397 , 0.05240012], dtype=float32), array([0.1749601, 0.4440802], dtype=float32)]\n",
      "Total Reward: 6458.81689453125, Average Trajectory Length: 747.6199951171875\n",
      "interval_measures=[array([0.8403203, 0.79256  ], dtype=float32), array([0.10560007, 0.40351975], dtype=float32), array([0.47063988, 0.01463999], dtype=float32), array([0.1208002 , 0.42295992], dtype=float32)]\n",
      "Total Reward: 7906.8017578125, Average Trajectory Length: 882.6599731445312\n",
      "interval_measures=[array([0.8300799 , 0.77399987], dtype=float32), array([0.10488009, 0.3647201 ], dtype=float32), array([0.43383986, 0.02407999], dtype=float32), array([0.19767998, 0.41088006], dtype=float32)]\n",
      "Total Reward: 7667.65771484375, Average Trajectory Length: 858.0399780273438\n",
      "interval_measures=[array([0.80344003, 0.7799998 ], dtype=float32), array([0.14096005, 0.2533601 ], dtype=float32), array([0.42808   , 0.04616011], dtype=float32), array([0.19384003, 0.41023996], dtype=float32)]\n",
      "Total Reward: 7700.427734375, Average Trajectory Length: 875.199951171875\n",
      "interval_measures=[array([0.8333602, 0.8119198], dtype=float32), array([0.09968007, 0.4643198 ], dtype=float32), array([0.4523999 , 0.05000013], dtype=float32), array([0.17904003, 0.4537601 ], dtype=float32)]\n",
      "Total Reward: 7290.6611328125, Average Trajectory Length: 815.0399780273438\n",
      "interval_measures=[array([0.82039976, 0.66224027], dtype=float32), array([0.13960004, 0.24552009], dtype=float32), array([0.42815983, 0.06144014], dtype=float32), array([0.17515704, 0.5780269 ], dtype=float32)]\n",
      "Total Reward: 6822.83935546875, Average Trajectory Length: 784.9199829101562\n",
      "interval_measures=[array([0.8148804, 0.7725602], dtype=float32), array([0.16880006, 0.40327984], dtype=float32), array([0.4542399, 0.0092   ], dtype=float32), array([0.1103202 , 0.44967994], dtype=float32)]\n",
      "Total Reward: 7729.23876953125, Average Trajectory Length: 862.219970703125\n",
      "interval_measures=[array([0.7762401, 0.8116802], dtype=float32), array([0.13160004, 0.28735992], dtype=float32), array([0.44255996, 0.02791998], dtype=float32), array([0.20327997, 0.43224004], dtype=float32)]\n",
      "Total Reward: 7252.5751953125, Average Trajectory Length: 815.719970703125\n",
      "interval_measures=[array([0.82592005, 0.7479201 ], dtype=float32), array([0.1351201 , 0.26167992], dtype=float32), array([0.44191995, 0.03784005], dtype=float32), array([0.15211777, 0.4821176 ], dtype=float32)]\n",
      "Total Reward: 7804.77197265625, Average Trajectory Length: 878.8800048828125\n",
      "interval_measures=[array([0.80584013, 0.80840033], dtype=float32), array([0.10184008, 0.41415986], dtype=float32), array([0.43567985, 0.04352017], dtype=float32), array([0.19592014, 0.36743987], dtype=float32)]\n",
      "Total Reward: 8108.06494140625, Average Trajectory Length: 901.699951171875\n",
      "interval_measures=[array([0.78119975, 0.7819999 ], dtype=float32), array([0.15048008, 0.46015987], dtype=float32), array([0.43951976, 0.02879999], dtype=float32), array([0.20360014, 0.31384   ], dtype=float32)]\n",
      "Total Reward: 7342.1455078125, Average Trajectory Length: 819.5999755859375\n",
      "interval_measures=[array([0.78864014, 0.77959967], dtype=float32), array([0.13464011, 0.31439996], dtype=float32), array([0.43791986, 0.02831999], dtype=float32), array([0.1956192, 0.5301906], dtype=float32)]\n",
      "Total Reward: 8054.544921875, Average Trajectory Length: 894.719970703125\n",
      "interval_measures=[array([0.8379203, 0.78768  ], dtype=float32), array([0.14672005, 0.42687964], dtype=float32), array([0.43679994, 0.02607999], dtype=float32), array([0.18880007, 0.37431997], dtype=float32)]\n",
      "Total Reward: 7043.32080078125, Average Trajectory Length: 813.3399658203125\n",
      "interval_measures=[array([0.85048044, 0.76064   ], dtype=float32), array([0.30927995, 0.00983999], dtype=float32), array([0.4574399 , 0.02255999], dtype=float32), array([0.18583995, 0.46752006], dtype=float32)]\n",
      "success_rate=0.8\n"
     ]
    }
   ],
   "source": [
    "list_ov_moving_avg = []\n",
    "avg_traj_lengths = []\n",
    "for k in range(20):\n",
    "    measure_data, reward, traj_len = compose_behaviors(multi_vec_env, device, measures=measures, num_envs=multi_env_cfg.num_envs, render=False)\n",
    "\n",
    "    # get the avg measure for each time interval independent of the other ones. Sanity check\n",
    "    interval_measures = []\n",
    "    for ms in measure_data:\n",
    "        ms = np.mean(np.array(ms), axis=0)\n",
    "        interval_measures.append(ms)\n",
    "    print(f'{interval_measures=}')\n",
    "\n",
    "    # get the moving average measures\n",
    "    window_size = 50\n",
    "    moving_averages = []\n",
    "    all_measure_data = np.concatenate(measure_data)\n",
    "    t = 0\n",
    "    while t < len(all_measure_data) - window_size + 1:\n",
    "        window_average = np.sum(all_measure_data[t: t + window_size], axis=0) / window_size\n",
    "        moving_averages.append(window_average)\n",
    "        t += 1\n",
    "    moving_averages = np.array(moving_averages)\n",
    "    list_ov_moving_avg.append(moving_averages)\n",
    "    avg_traj_lengths.append(traj_len)\n",
    "    \n",
    "successes = [1 if x > 800 else 0 for x in avg_traj_lengths]\n",
    "success_rate = np.mean(successes)\n",
    "print(f'{success_rate=}')"
   ]
  },
  {
   "cell_type": "code",
   "execution_count": 22,
   "metadata": {
    "ExecuteTime": {
     "end_time": "2023-05-10T21:18:03.755789Z",
     "start_time": "2023-05-10T21:18:03.676735Z"
    },
    "collapsed": false
   },
   "outputs": [],
   "source": [
    "# make all the moving averages the same length\n",
    "max_len = max([len(m) for m in list_ov_moving_avg])\n",
    "for i in range(len(list_ov_moving_avg)):\n",
    "    m = list_ov_moving_avg[i]\n",
    "    if len(m) < max_len:\n",
    "        padding = np.zeros((max_len - len(m), 2))\n",
    "        list_ov_moving_avg[i] = np.concatenate([m, padding])\n",
    "\n",
    "moving_averages_mean = np.mean(np.array(list_ov_moving_avg), axis=0)\n",
    "moving_averages_std = np.std(np.array(list_ov_moving_avg), axis=0)"
   ]
  },
  {
   "cell_type": "code",
   "execution_count": 23,
   "metadata": {},
   "outputs": [
    {
     "name": "stdout",
     "output_type": "stream",
     "text": [
      "[[0.9 0.9]\n",
      " [0.9 0.9]\n",
      " [0.9 0.9]\n",
      " ...\n",
      " [0.  0.5]\n",
      " [0.  0.5]\n",
      " [0.  0.5]]\n"
     ]
    }
   ],
   "source": [
    "def split(a, n):\n",
    "    k, m = divmod(len(a), n)\n",
    "    return (a[i*k+min(i, m):(i+1)*k+min(i+1, m)] for i in range(n))\n",
    "time_intervals = list(split(np.arange(0, 1000), 4))\n",
    "desired_measures = np.concatenate([np.array([measure]).repeat(len(time_intervals[ind]),0) for ind, measure in enumerate(measures)])\n",
    "print(desired_measures)"
   ]
  },
  {
   "cell_type": "code",
   "execution_count": 24,
   "metadata": {
    "ExecuteTime": {
     "end_time": "2023-05-10T21:18:06.763357Z",
     "start_time": "2023-05-10T21:18:06.692497Z"
    },
    "collapsed": false
   },
   "outputs": [
    {
     "data": {
      "text/plain": [
       "<matplotlib.legend.Legend at 0x7f7793fcaac0>"
      ]
     },
     "execution_count": 24,
     "metadata": {},
     "output_type": "execute_result"
    },
    {
     "data": {
      "image/png": "[encoded data removed]",
      "text/plain": [
       "<Figure size 1500x900 with 2 Axes>"
      ]
     },
     "metadata": {},
     "output_type": "display_data"
    }
   ],
   "source": [
    "fig, (ax1, ax2) = plt.subplots(2, 1, figsize=(10, 6))\n",
    "# plot reconstructed measures\n",
    "# ax1.plot(np.arange(0, len(moving_averages)), [moving_averages[i][0] for i in range(len(moving_averages))], label='Reconstructed')\n",
    "# ax2.plot(np.arange(0, len(moving_averages)), [moving_averages[i][1] for i in range(len(moving_averages))], label='Reconstructed')\n",
    "ax1.plot(np.arange(0, len(moving_averages_mean)), [moving_averages_mean[i][0] for i in range(len(moving_averages_mean))], label='Reconstructed')\n",
    "ax1.fill_between(np.arange(0, len(moving_averages_mean)), moving_averages_mean[:, 0] - moving_averages_std[:, 0], moving_averages_mean[:, 0] + moving_averages_std[:, 0], alpha=0.2)\n",
    "ax2.plot(np.arange(0, len(moving_averages_mean)), [moving_averages_mean[i][1] for i in range(len(moving_averages_mean))], label='Reconstructed')\n",
    "ax2.fill_between(np.arange(0, len(moving_averages_mean)), moving_averages_mean[:, 1] - moving_averages_std[:, 1], moving_averages_mean[:, 1] + moving_averages_std[:, 1], alpha=0.2)\n",
    "\n",
    "\n",
    "\n",
    "ax1.plot(np.arange(0, len(desired_measures)), [desired_measures[i][0] for i in range(len(desired_measures))], label='Desired')\n",
    "ax2.plot(np.arange(0, len(desired_measures)), [desired_measures[i][1] for i in range(len(desired_measures))], label='Desired')\n",
    "\n",
    "ax1.set_ylabel('Measure 0')\n",
    "ax2.set_ylabel('Measure 1')\n",
    "\n",
    "ax1.set_xlabel('Time')\n",
    "ax2.set_xlabel('Time')\n",
    "\n",
    "# ax1.legend()\n",
    "ax2.legend()\n",
    "# Shrink current axis's height by 10% on the bottom\n",
    "box = ax1.get_position()\n",
    "ax1.set_position([box.x0, box.y0 + box.height * 0.15,\n",
    "                 box.width, box.height * 0.85])\n",
    "box = ax2.get_position()\n",
    "ax2.set_position([box.x0, box.y0 + box.height * 0.15,\n",
    "                 box.width, box.height * 0.85])\n",
    "\n",
    "# Put a legend below current axis\n",
    "ax2.legend(loc='upper center', bbox_to_anchor=(0.45, -0.15),\n",
    "          fancybox=True, shadow=True, ncol=5)\n",
    "\n",
    "\n"
   ]
  },
  {
   "cell_type": "code",
   "execution_count": null,
   "metadata": {},
   "outputs": [],
   "source": []
  },
  {
   "cell_type": "code",
   "execution_count": null,
   "metadata": {
    "ExecuteTime": {
     "end_time": "2023-05-04T22:20:26.185708Z",
     "start_time": "2023-05-04T22:20:26.141330Z"
    },
    "collapsed": false
   },
   "outputs": [],
   "source": [
    "def behavior_composition_experiments(N: int = 20):\n",
    "    '''Run N behavior composition experiments and report the results'''\n",
    "    avg_rewards, avg_traj_lengths = [], []\n",
    "    for n in range(N):\n",
    "        measures = torch.rand((4, 2))\n",
    "        print(f'Measures: {measures}')\n",
    "        _, avg_rew, avg_traj_len = compose_behaviors(measures, multi_vec_env, device, multi_env_cfg.num_envs)\n",
    "        avg_rewards.append(avg_rew),\n",
    "        avg_traj_lengths.append(avg_traj_len)\n",
    "        print(f'Completed trial {n + 1} of {N}')\n",
    "    successes = [1 if x > 800 else 0 for x in avg_traj_lengths]\n",
    "    success_rate = np.mean(successes)\n",
    "    print(avg_rewards)\n",
    "    print(avg_traj_lengths)\n",
    "    print(success_rate)"
   ]
  },
  {
   "cell_type": "code",
   "execution_count": null,
   "metadata": {
    "ExecuteTime": {
     "end_time": "2023-05-04T22:38:57.876510Z",
     "start_time": "2023-05-04T22:37:39.567674Z"
    },
    "collapsed": false
   },
   "outputs": [],
   "source": [
    "behavior_composition_experiments()"
   ]
  },
  {
   "cell_type": "code",
   "execution_count": null,
   "metadata": {
    "collapsed": false
   },
   "outputs": [],
   "source": []
  }
 ],
 "metadata": {
  "kernelspec": {
   "display_name": "Python 3",
   "language": "python",
   "name": "python3"
  },
  "language_info": {
   "codemirror_mode": {
    "name": "ipython",
    "version": 3
   },
   "file_extension": ".py",
   "mimetype": "text/x-python",
   "name": "python",
   "nbconvert_exporter": "python",
   "pygments_lexer": "ipython3",
   "version": "3.9.0"
  }
 },
 "nbformat": 4,
 "nbformat_minor": 0
}
