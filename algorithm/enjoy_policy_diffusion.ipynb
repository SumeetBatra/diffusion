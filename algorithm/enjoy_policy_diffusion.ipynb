{
 "cells": [
  {
   "cell_type": "code",
   "execution_count": 7,
   "metadata": {
    "ExecuteTime": {
     "end_time": "2023-05-10T21:10:03.707234Z",
     "start_time": "2023-05-10T21:10:03.706777Z"
    },
    "collapsed": true
   },
   "outputs": [
    {
     "data": {
      "text/plain": [
       "'/home/shashank/research/qd/main/diffusion_models'"
      ]
     },
     "execution_count": 7,
     "metadata": {},
     "output_type": "execute_result"
    }
   ],
   "source": [
    "import os\n",
    "from pathlib import Path\n",
    "project_root = os.path.join('/home/shashank/research/qd/main/diffusion_models')\n",
    "os.chdir(project_root)\n",
    "%pwd # should be PPGA root dir"
   ]
  },
  {
   "cell_type": "code",
   "execution_count": 8,
   "metadata": {
    "ExecuteTime": {
     "end_time": "2023-05-10T21:10:05.886804Z",
     "start_time": "2023-05-10T21:10:03.706901Z"
    },
    "collapsed": false
   },
   "outputs": [
    {
     "name": "stderr",
     "output_type": "stream",
     "text": [
      "/home/shashank/miniconda3/envs/qd/lib/python3.9/site-packages/tqdm/auto.py:22: TqdmWarning: IProgress not found. Please update jupyter and ipywidgets. See https://ipywidgets.readthedocs.io/en/stable/user_install.html\n",
      "  from .autonotebook import tqdm as notebook_tqdm\n"
     ]
    }
   ],
   "source": [
    "import torch\n",
    "import pickle\n",
    "import json\n",
    "import numpy as np\n",
    "import matplotlib\n",
    "matplotlib.rcParams.update(\n",
    "    {\n",
    "        \"figure.dpi\": 150,\n",
    "        \"font.size\": 20,\n",
    "    }\n",
    ")\n",
    "matplotlib.rcParams[\"pdf.fonttype\"] = 42\n",
    "matplotlib.rcParams[\"ps.fonttype\"] = 42\n",
    "import matplotlib.pyplot as plt\n",
    "\n",
    "from typing import Optional\n",
    "from diffusion.gaussian_diffusion import cosine_beta_schedule, linear_beta_schedule, GaussianDiffusion\n",
    "from diffusion.latent_diffusion import LatentDiffusion\n",
    "from diffusion.ddim import DDIMSampler\n",
    "from autoencoders.policy.hypernet import HypernetAutoEncoder as AutoEncoder\n",
    "from dataset.shaped_elites_dataset import WeightNormalizer\n",
    "from attrdict import AttrDict\n",
    "from utils.tensor_dict import TensorDict, cat_tensordicts\n",
    "from RL.actor_critic import Actor\n",
    "from utils.normalize import ObsNormalizer\n",
    "from models.cond_unet import ConditionalUNet, LangConditionalUNet\n",
    "from envs.brax_custom.brax_env import make_vec_env_brax\n",
    "from IPython.display import HTML, Image\n",
    "from IPython.display import display\n",
    "from brax.io import html, image\n",
    "from utils.brax_utils import shared_params, rollout_many_agents"
   ]
  },
  {
   "cell_type": "code",
   "execution_count": 9,
   "metadata": {
    "ExecuteTime": {
     "end_time": "2023-05-10T21:10:05.890509Z",
     "start_time": "2023-05-10T21:10:05.888505Z"
    },
    "collapsed": false
   },
   "outputs": [],
   "source": [
    "# params to config\n",
    "device = torch.device('cuda')\n",
    "env_name = 'humanoid'\n",
    "seed = 1111\n",
    "normalize_obs = True\n",
    "normalize_rewards = False\n",
    "obs_shape = shared_params[env_name]['obs_dim']\n",
    "action_shape = np.array([shared_params[env_name]['action_dim']])\n",
    "mlp_shape = (128, 128, action_shape)\n",
    "\n",
    "env_cfg = AttrDict({\n",
    "    'env_name': env_name,\n",
    "    'env_batch_size': None,\n",
    "    'num_dims': 2,\n",
    "    'seed': seed,\n",
    "    'num_envs': 1,\n",
    "    'clip_obs_rew': True,\n",
    "})"
   ]
  },
  {
   "cell_type": "code",
   "execution_count": 13,
   "metadata": {
    "ExecuteTime": {
     "end_time": "2023-05-10T21:10:16.398315Z",
     "start_time": "2023-05-10T21:10:05.890854Z"
    },
    "collapsed": false
   },
   "outputs": [
    {
     "name": "stderr",
     "output_type": "stream",
     "text": [
      "WARNING:evotorch:The logger is already configured. The default configuration will not be applied. Call `set_default_logger_config` with `override=True` to override the current configuration.\n"
     ]
    }
   ],
   "source": [
    "archive_df_path = f'data/{env_name}/archive100x100.pkl'\n",
    "with open(archive_df_path, 'rb') as f:\n",
    "    archive_df = pickle.load(f)\n",
    "\n",
    "# scheduler_path = f'data/{env_name}/scheduler_100x100.pkl'\n",
    "# with open(scheduler_path, 'rb') as f:\n",
    "#     scheduler = pickle.load(f)"
   ]
  },
  {
   "cell_type": "code",
   "execution_count": 14,
   "metadata": {
    "ExecuteTime": {
     "end_time": "2023-05-10T21:10:16.714759Z",
     "start_time": "2023-05-10T21:10:16.405397Z"
    },
    "collapsed": false
   },
   "outputs": [],
   "source": [
    "# make the env\n",
    "env = make_vec_env_brax(env_cfg)"
   ]
  },
  {
   "cell_type": "code",
   "execution_count": 15,
   "metadata": {
    "ExecuteTime": {
     "end_time": "2023-05-10T21:10:16.718488Z",
     "start_time": "2023-05-10T21:10:16.713476Z"
    },
    "collapsed": false
   },
   "outputs": [],
   "source": [
    "def enjoy_brax(agent, render=True, deterministic=True):\n",
    "    if normalize_obs:\n",
    "        obs_mean, obs_var = agent.obs_normalizer.obs_rms.mean, agent.obs_normalizer.obs_rms.var\n",
    "        print(f'Normalize Obs Enabled')\n",
    "\n",
    "    obs = env.reset()\n",
    "    rollout = [env.unwrapped._state]\n",
    "    total_reward = 0\n",
    "    measures = torch.zeros(env_cfg.num_dims).to(device)\n",
    "    done = False\n",
    "    while not done:\n",
    "        with torch.no_grad():\n",
    "            obs = obs.unsqueeze(dim=0).to(device)\n",
    "            if normalize_obs:\n",
    "                obs = (obs - obs_mean) / torch.sqrt(obs_var + 1e-8)\n",
    "\n",
    "            if deterministic:\n",
    "                act = agent.actor_mean(obs)\n",
    "            else:\n",
    "                act, _, _ = agent.get_action(obs)\n",
    "            act = act.squeeze()\n",
    "            obs, rew, done, info = env.step(act.cpu())\n",
    "            measures += info['measures']\n",
    "            rollout.append(env.unwrapped._state)\n",
    "            total_reward += rew\n",
    "    if render:\n",
    "        i = HTML(html.render(env.unwrapped._env.sys, [s.qp for s in rollout]))\n",
    "        display(i)\n",
    "    print(f'{total_reward=}')\n",
    "    print(f' Rollout length: {len(rollout)}')\n",
    "    measures /= len(rollout)\n",
    "    print(f'Measures: {measures.cpu().numpy()}')\n",
    "    return total_reward.detach().cpu(), measures.detach().cpu()"
   ]
  },
  {
   "cell_type": "code",
   "execution_count": 19,
   "metadata": {
    "ExecuteTime": {
     "end_time": "2023-05-10T21:10:16.759592Z",
     "start_time": "2023-05-10T21:10:16.715704Z"
    },
    "collapsed": false
   },
   "outputs": [],
   "source": [
    "# diffusion model params\n",
    "latent_diffusion = True\n",
    "use_ddim = True\n",
    "center_data = True\n",
    "use_language = False\n",
    "latent_channels = 4\n",
    "latent_size = 4\n",
    "timesteps = 600\n",
    "\n",
    "cfg_path = '/home/shashank/research/qd/paper_results2/humanoid/diffusion_model/humanoid_diffusion_model_20230505-103651_333/args.json'\n",
    "with open(cfg_path, 'r') as f:\n",
    "    cfg = json.load(f)\n",
    "    cfg = AttrDict(cfg)\n",
    "\n",
    "scale_factor = cfg.scale_factor if latent_diffusion else None\n",
    "\n",
    "device = 'cuda' if torch.cuda.is_available() else 'cpu'\n",
    "\n",
    "betas = cosine_beta_schedule(timesteps)"
   ]
  },
  {
   "cell_type": "code",
   "execution_count": 17,
   "metadata": {
    "ExecuteTime": {
     "end_time": "2023-05-10T21:10:16.759883Z",
     "start_time": "2023-05-10T21:10:16.751645Z"
    },
    "collapsed": false
   },
   "outputs": [],
   "source": [
    "# paths to VAE and diffusion model checkpoint\n",
    "autoencoder_path = '/home/shashank/research/qd/paper_results2/humanoid/autoencoder/humanoid_autoencoder_20230503-082033_333/model_checkpoints/humanoid_autoencoder_20230503-082033_333.pt'\n",
    "model_path = '/home/shashank/research/qd/paper_results2/humanoid/diffusion_model/humanoid_diffusion_model_20230505-103651_333/model_checkpoints/humanoid_diffusion_model_20230505-103651_333.pt'\n",
    "weight_normalizer_path = 'results/humanoid/weight_normalizer.pkl'"
   ]
  },
  {
   "cell_type": "code",
   "execution_count": 20,
   "metadata": {
    "ExecuteTime": {
     "end_time": "2023-05-10T21:10:17.999499Z",
     "start_time": "2023-05-10T21:10:16.755849Z"
    },
    "collapsed": false
   },
   "outputs": [
    {
     "name": "stdout",
     "output_type": "stream",
     "text": [
      "Total size of z is: 64\n"
     ]
    }
   ],
   "source": [
    "# load the diffusion model\n",
    "logvar = torch.full(fill_value=0., size=(timesteps,))\n",
    "if use_language:\n",
    "    model = LangConditionalUNet(\n",
    "        in_channels=latent_channels,\n",
    "        out_channels=latent_channels,\n",
    "        channels=64,\n",
    "        n_res_blocks=1,\n",
    "        attention_levels=[],\n",
    "        channel_multipliers=[1, 2, 4],\n",
    "        n_heads=4,\n",
    "        d_cond=256,\n",
    "        logvar=logvar,\n",
    "        language_model='flan-t5-small'\n",
    "    )\n",
    "else:\n",
    "    model = ConditionalUNet(\n",
    "        in_channels=latent_channels,\n",
    "        out_channels=latent_channels,\n",
    "        channels=64,\n",
    "        n_res_blocks=1,\n",
    "        attention_levels=[],\n",
    "        channel_multipliers=[1, 2, 4],\n",
    "        n_heads=4,\n",
    "        d_cond=256,\n",
    "        logvar=logvar\n",
    "    )\n",
    "autoencoder = AutoEncoder(emb_channels=4,\n",
    "                          z_channels=4,\n",
    "                          obs_shape=obs_shape,\n",
    "                          action_shape=action_shape,\n",
    "                          z_height=4,\n",
    "                          enc_fc_hid=64,\n",
    "                          obsnorm_hid=64,\n",
    "                          ghn_hid=32)\n",
    "autoencoder.load_state_dict(torch.load(autoencoder_path))\n",
    "autoencoder.to(device)\n",
    "autoencoder.eval()\n",
    "\n",
    "gauss_diff = LatentDiffusion(betas, num_timesteps=timesteps, device=device)\n",
    "model.load_state_dict(torch.load(model_path))\n",
    "model.to(device)\n",
    "\n",
    "weight_normalizer = None\n",
    "if center_data:\n",
    "    weight_normalizer = WeightNormalizer(TensorDict({}), TensorDict({}))\n",
    "    weight_normalizer.load(weight_normalizer_path)\n"
   ]
  },
  {
   "cell_type": "code",
   "execution_count": 21,
   "metadata": {
    "ExecuteTime": {
     "end_time": "2023-05-10T21:10:18.046890Z",
     "start_time": "2023-05-10T21:10:18.000648Z"
    },
    "collapsed": false
   },
   "outputs": [],
   "source": [
    "def postprocess_agents(rec_agents: list[Actor], obsnorms: list[dict]):\n",
    "    '''Denormalize outputs of the decoder and return a list of Actors that can be rolled out'''\n",
    "    batch_size = len(rec_agents)\n",
    "    TensorDict(obsnorms)\n",
    "    rec_agents_params = [TensorDict(p.state_dict()) for p in rec_agents]\n",
    "    rec_agents_params = cat_tensordicts(rec_agents_params)\n",
    "    rec_agents_params.update(obsnorms)\n",
    "    # decoder doesn't fill in the logstd param, so we manually set it to default values\n",
    "    actor_logstd = torch.zeros(batch_size, 1, action_shape[0])\n",
    "    actor_logstd = actor_logstd.to(device)\n",
    "    rec_agents_params['actor_logstd'] = actor_logstd\n",
    "    # if data centering was used during training, we need to denormalize the weights\n",
    "    if center_data:\n",
    "        rec_agents_params = weight_normalizer.denormalize(rec_agents_params)\n",
    "\n",
    "    if normalize_obs:\n",
    "        rec_agents_params['obs_normalizer.obs_rms.var'] = torch.exp(rec_agents_params['obs_normalizer.obs_rms.logstd'] * 2)\n",
    "        rec_agents_params['obs_normalizer.obs_rms.count'] = torch.zeros(batch_size, 1).to(device)\n",
    "        del rec_agents_params['obs_normalizer.obs_rms.logstd']\n",
    "\n",
    "    rec_agents = [Actor(obs_shape, action_shape, normalize_obs=normalize_obs).to(device) for _ in range(len(rec_agents_params))]\n",
    "    for i in range(len(rec_agents_params)):\n",
    "        rec_agents[i].load_state_dict(rec_agents_params[i])\n",
    "\n",
    "    return rec_agents"
   ]
  },
  {
   "cell_type": "code",
   "execution_count": 22,
   "metadata": {
    "ExecuteTime": {
     "end_time": "2023-05-10T21:10:18.047039Z",
     "start_time": "2023-05-10T21:10:18.046808Z"
    },
    "collapsed": false
   },
   "outputs": [],
   "source": [
    "ddim_sampler = DDIMSampler(gauss_diff, n_steps=100)"
   ]
  },
  {
   "cell_type": "code",
   "execution_count": 23,
   "metadata": {
    "ExecuteTime": {
     "end_time": "2023-05-10T21:10:18.047110Z",
     "start_time": "2023-05-10T21:10:18.046858Z"
    },
    "collapsed": false
   },
   "outputs": [],
   "source": [
    "def get_agent_with_measure(m):\n",
    "    batch_size = 1\n",
    "    if isinstance(m, list):\n",
    "        cond = torch.Tensor(m).view(1, -1).to(device)\n",
    "    elif isinstance(m, torch.Tensor):\n",
    "        cond = m.view(1, -1).to(device)\n",
    "\n",
    "    shape = [batch_size, latent_channels, latent_size, latent_size]\n",
    "    samples = ddim_sampler.sample(model, shape=shape, cond=cond, classifier_free_guidance=True, classifier_scale=1.0)\n",
    "    samples = samples * (1 / scale_factor)\n",
    "    (rec_agents, obsnorms) = autoencoder.decode(samples)\n",
    "    rec_agents = postprocess_agents(rec_agents, obsnorms)\n",
    "    return rec_agents[0]"
   ]
  },
  {
   "cell_type": "code",
   "execution_count": 24,
   "metadata": {
    "ExecuteTime": {
     "end_time": "2023-05-10T21:10:18.090870Z",
     "start_time": "2023-05-10T21:10:18.046967Z"
    },
    "collapsed": false
   },
   "outputs": [],
   "source": [
    "def get_agent_with_text(t: str):\n",
    "    batch_size = 1\n",
    "    cond = model.text_to_cond([t])\n",
    "    shape = [batch_size, latent_channels, latent_size, latent_size]\n",
    "    samples = ddim_sampler.sample(model, shape=shape, cond=cond, classifier_free_guidance=True, classifier_scale=1.0)\n",
    "    samples = samples * (1 / scale_factor)\n",
    "    (rec_agents, obsnorms) = autoencoder.decode(samples)\n",
    "    rec_agents = postprocess_agents(rec_agents, obsnorms)\n",
    "    return rec_agents[0]"
   ]
  },
  {
   "cell_type": "code",
   "execution_count": 25,
   "metadata": {
    "ExecuteTime": {
     "end_time": "2023-05-04T21:57:52.261329Z",
     "start_time": "2023-05-04T21:57:52.217290Z"
    },
    "collapsed": false
   },
   "outputs": [],
   "source": [
    "batch_size = 1\n",
    "cond = torch.ones((batch_size, 2)) * 0.2\n",
    "cond = cond.to(device)"
   ]
  },
  {
   "cell_type": "code",
   "execution_count": 26,
   "metadata": {
    "ExecuteTime": {
     "end_time": "2023-05-04T14:24:44.388896Z",
     "start_time": "2023-05-04T14:24:43.039525Z"
    },
    "collapsed": false
   },
   "outputs": [],
   "source": [
    "shape = [batch_size, latent_channels, latent_size, latent_size]\n",
    "samples = ddim_sampler.sample(model, shape=shape, cond=cond, classifier_free_guidance=True, classifier_scale=2.0)\n",
    "samples = samples * (1 / scale_factor)\n",
    "(rec_agents, obsnorms) = autoencoder.decode(samples)\n",
    "rec_agents = postprocess_agents(rec_agents, obsnorms)"
   ]
  },
  {
   "cell_type": "markdown",
   "metadata": {
    "collapsed": false
   },
   "source": []
  },
  {
   "cell_type": "code",
   "execution_count": 27,
   "metadata": {
    "ExecuteTime": {
     "end_time": "2023-05-10T21:08:42.102899Z",
     "start_time": "2023-05-10T21:08:30.617796Z"
    },
    "collapsed": false
   },
   "outputs": [
    {
     "ename": "AttributeError",
     "evalue": "'ConditionalUNet' object has no attribute 'text_to_cond'",
     "output_type": "error",
     "traceback": [
      "\u001b[0;31m---------------------------------------------------------------------------\u001b[0m",
      "\u001b[0;31mAttributeError\u001b[0m                            Traceback (most recent call last)",
      "Cell \u001b[0;32mIn[27], line 7\u001b[0m\n\u001b[1;32m      1\u001b[0m \u001b[39m# random_idx = torch.randint(0, batch_size, (1,))\u001b[39;00m\n\u001b[1;32m      2\u001b[0m \u001b[39m# print(f'{random_idx=}')\u001b[39;00m\n\u001b[1;32m      3\u001b[0m \u001b[39m# print(len(obsnorms))\u001b[39;00m\n\u001b[1;32m      4\u001b[0m \u001b[39m# rec_agent = rec_agents[random_idx]\u001b[39;00m\n\u001b[1;32m      5\u001b[0m \u001b[39m# rec_agent = get_agent_with_measure([0.5, 0.5])\u001b[39;00m\n\u001b[1;32m      6\u001b[0m text \u001b[39m=\u001b[39m   \u001b[39m\"\u001b[39m\u001b[39mrun forward on your left foot while lifting your right foot\u001b[39m\u001b[39m\"\u001b[39m\n\u001b[0;32m----> 7\u001b[0m rec_agent \u001b[39m=\u001b[39m get_agent_with_text(text)\n\u001b[1;32m      8\u001b[0m enjoy_brax(rec_agent)\n",
      "Cell \u001b[0;32mIn[24], line 3\u001b[0m, in \u001b[0;36mget_agent_with_text\u001b[0;34m(t)\u001b[0m\n\u001b[1;32m      1\u001b[0m \u001b[39mdef\u001b[39;00m \u001b[39mget_agent_with_text\u001b[39m(t: \u001b[39mstr\u001b[39m):\n\u001b[1;32m      2\u001b[0m     batch_size \u001b[39m=\u001b[39m \u001b[39m1\u001b[39m\n\u001b[0;32m----> 3\u001b[0m     cond \u001b[39m=\u001b[39m model\u001b[39m.\u001b[39;49mtext_to_cond([t])\n\u001b[1;32m      4\u001b[0m     shape \u001b[39m=\u001b[39m [batch_size, latent_channels, latent_size, latent_size]\n\u001b[1;32m      5\u001b[0m     samples \u001b[39m=\u001b[39m ddim_sampler\u001b[39m.\u001b[39msample(model, shape\u001b[39m=\u001b[39mshape, cond\u001b[39m=\u001b[39mcond, classifier_free_guidance\u001b[39m=\u001b[39m\u001b[39mTrue\u001b[39;00m, classifier_scale\u001b[39m=\u001b[39m\u001b[39m1.0\u001b[39m)\n",
      "File \u001b[0;32m~/miniconda3/envs/qd/lib/python3.9/site-packages/torch/nn/modules/module.py:1269\u001b[0m, in \u001b[0;36mModule.__getattr__\u001b[0;34m(self, name)\u001b[0m\n\u001b[1;32m   1267\u001b[0m     \u001b[39mif\u001b[39;00m name \u001b[39min\u001b[39;00m modules:\n\u001b[1;32m   1268\u001b[0m         \u001b[39mreturn\u001b[39;00m modules[name]\n\u001b[0;32m-> 1269\u001b[0m \u001b[39mraise\u001b[39;00m \u001b[39mAttributeError\u001b[39;00m(\u001b[39m\"\u001b[39m\u001b[39m'\u001b[39m\u001b[39m{}\u001b[39;00m\u001b[39m'\u001b[39m\u001b[39m object has no attribute \u001b[39m\u001b[39m'\u001b[39m\u001b[39m{}\u001b[39;00m\u001b[39m'\u001b[39m\u001b[39m\"\u001b[39m\u001b[39m.\u001b[39mformat(\n\u001b[1;32m   1270\u001b[0m     \u001b[39mtype\u001b[39m(\u001b[39mself\u001b[39m)\u001b[39m.\u001b[39m\u001b[39m__name__\u001b[39m, name))\n",
      "\u001b[0;31mAttributeError\u001b[0m: 'ConditionalUNet' object has no attribute 'text_to_cond'"
     ]
    }
   ],
   "source": [
    "# random_idx = torch.randint(0, batch_size, (1,))\n",
    "# print(f'{random_idx=}')\n",
    "# print(len(obsnorms))\n",
    "# rec_agent = rec_agents[random_idx]\n",
    "# rec_agent = get_agent_with_measure([0.5, 0.5])\n",
    "\n",
    "# text =   \"run forward on your left foot while lifting your right foot\"\n",
    "# rec_agent = get_agent_with_text(text)\n",
    "# enjoy_brax(rec_agent)"
   ]
  },
  {
   "cell_type": "code",
   "execution_count": 28,
   "metadata": {
    "ExecuteTime": {
     "end_time": "2023-05-10T21:16:50.538471Z",
     "start_time": "2023-05-10T21:16:50.473784Z"
    },
    "collapsed": false
   },
   "outputs": [],
   "source": [
    "# evaluate an agent on many envs in parallel\n",
    "N = 50\n",
    "multi_env_cfg = AttrDict({\n",
    "    'env_name': env_name,\n",
    "    'env_batch_size': N,\n",
    "    'num_envs': N,\n",
    "    'num_dims': 2,\n",
    "    'seed': seed,\n",
    "    'clip_obs_rew': True,\n",
    "})\n",
    "multi_vec_env = make_vec_env_brax(multi_env_cfg)"
   ]
  },
  {
   "cell_type": "code",
   "execution_count": 29,
   "metadata": {
    "ExecuteTime": {
     "end_time": "2023-05-04T12:16:50.568340Z",
     "start_time": "2023-05-04T12:16:34.349919Z"
    },
    "collapsed": false
   },
   "outputs": [
    {
     "ename": "NameError",
     "evalue": "name 'rec_agent' is not defined",
     "output_type": "error",
     "traceback": [
      "\u001b[0;31m---------------------------------------------------------------------------\u001b[0m",
      "\u001b[0;31mNameError\u001b[0m                                 Traceback (most recent call last)",
      "Cell \u001b[0;32mIn[29], line 1\u001b[0m\n\u001b[0;32m----> 1\u001b[0m rollout_many_agents([rec_agent], multi_env_cfg, multi_vec_env, device, verbose\u001b[39m=\u001b[39m\u001b[39mTrue\u001b[39;00m, normalize_obs\u001b[39m=\u001b[39m\u001b[39mTrue\u001b[39;00m)\n",
      "\u001b[0;31mNameError\u001b[0m: name 'rec_agent' is not defined"
     ]
    }
   ],
   "source": [
    "# rollout_many_agents([rec_agent], multi_env_cfg, multi_vec_env, device, verbose=True, normalize_obs=True)"
   ]
  },
  {
   "cell_type": "code",
   "execution_count": 30,
   "metadata": {
    "ExecuteTime": {
     "end_time": "2023-05-10T21:12:53.552236Z",
     "start_time": "2023-05-10T21:12:53.450708Z"
    },
    "collapsed": false
   },
   "outputs": [],
   "source": [
    "def compose_behaviors(env, device, measures: Optional[torch.Tensor] = None, labels: Optional[list[str]] = None,\n",
    "                      num_envs: int = 1, deterministic: bool = True, render: bool = True):\n",
    "    if num_envs > 1:\n",
    "        render = False\n",
    "    agents = []\n",
    "    assert measures is not None or labels is not None\n",
    "    if measures is not None:\n",
    "        for m in measures:\n",
    "            agent = get_agent_with_measure(m)\n",
    "            agents.append(agent)\n",
    "    else:\n",
    "        for l in labels:\n",
    "            agent = get_agent_with_text(l)\n",
    "            agents.append(agent)\n",
    "\n",
    "    num_chunks = len(agents)\n",
    "\n",
    "    # https://stackoverflow.com/questions/2130016/splitting-a-list-into-n-parts-of-approximately-equal-length\n",
    "    def split(a, n):\n",
    "        k, m = divmod(len(a), n)\n",
    "        return (a[i*k+min(i, m):(i+1)*k+min(i+1, m)] for i in range(n))\n",
    "\n",
    "    time_intervals = list(split(np.arange(0, 1000), num_chunks))\n",
    "\n",
    "    num_steps = 1000\n",
    "    total_reward = torch.zeros(num_envs)\n",
    "    dones = torch.BoolTensor([False for _ in range(num_envs)]).to(device)\n",
    "    all_dones = torch.zeros((num_steps, num_envs)).to(device)\n",
    "    # get the per-chunk measures independent of other chunks\n",
    "    measure_data = [[] for _ in range(num_chunks)]\n",
    "\n",
    "    obs = env.reset()\n",
    "    rollout = [env.unwrapped._state]\n",
    "\n",
    "    t = 0\n",
    "    while not torch.all(dones):\n",
    "        interval_idx = next((i for i, interval in enumerate(time_intervals) if t in interval), None)\n",
    "        agent = agents[interval_idx]\n",
    "        obs_mean, obs_var = agent.obs_normalizer.obs_rms.mean, agent.obs_normalizer.obs_rms.var\n",
    "\n",
    "        obs = (obs - obs_mean) / torch.sqrt(obs_var + 1e-8)\n",
    "\n",
    "        if deterministic:\n",
    "                act = agent.actor_mean(obs)\n",
    "        else:\n",
    "            act, _, _ = agent.get_action(obs)\n",
    "        act = act.squeeze()\n",
    "        obs, rew, next_dones, info = env.step(act.cpu())\n",
    "        measure_t = info['measures'].mean(0)\n",
    "        measure_data[interval_idx].append(measure_t.detach().cpu().numpy())\n",
    "        if num_envs == 1:\n",
    "            rollout.append(env.unwrapped._state)\n",
    "        total_reward += rew.detach().cpu().numpy() * ~dones.cpu().numpy()\n",
    "        dones = torch.logical_or(dones, next_dones)\n",
    "        all_dones[t] = dones.long().clone()\n",
    "        t += 1\n",
    "    if render:\n",
    "        i = HTML(html.render(env.unwrapped._env.sys, [s.qp for s in rollout]))\n",
    "        display(i)\n",
    "\n",
    "    # the first done in each env is where that trajectory ends\n",
    "    traj_lengths = torch.argmax(all_dones, dim=0) + 1\n",
    "\n",
    "    print(f'Total Reward: {total_reward.mean().item()}, Average Trajectory Length: {traj_lengths.float().mean().item()}')\n",
    "    return measure_data, total_reward.mean().item(), traj_lengths.float().mean().item()"
   ]
  },
  {
   "cell_type": "code",
   "execution_count": 39,
   "metadata": {
    "ExecuteTime": {
     "end_time": "2023-05-10T21:17:58.007810Z",
     "start_time": "2023-05-10T21:17:52.789532Z"
    },
    "collapsed": false
   },
   "outputs": [
    {
     "name": "stdout",
     "output_type": "stream",
     "text": [
      "Total Reward: 5298.2099609375, Average Trajectory Length: 631.0599975585938\n"
     ]
    }
   ],
   "source": [
    "measures = [\n",
    "    [0.9, 0.9],\n",
    "    [0.2, 0.2],\n",
    "    [0.5, 0.0],\n",
    "    [0.0, 0.5]\n",
    "]\n",
    "labels = [\n",
    "    \"quickly slide forward on right foot\",\n",
    "    \"quickly run forward using only your left foot\",\n",
    "    \"quickly walk forward while dragging your right foot\",\n",
    "    \"skip forwards on your right foot\"\n",
    "]\n",
    "# measure_data, *_ = compose_behaviors(multi_vec_env, device, labels=labels, num_envs=multi_env_cfg.num_envs, render=False)\n",
    "measure_data, *_ = compose_behaviors(multi_vec_env, device, measures=measures, num_envs=multi_env_cfg.num_envs, render=False)"
   ]
  },
  {
   "cell_type": "code",
   "execution_count": 40,
   "metadata": {
    "ExecuteTime": {
     "end_time": "2023-05-10T21:17:59.893154Z",
     "start_time": "2023-05-10T21:17:59.882320Z"
    },
    "collapsed": false
   },
   "outputs": [
    {
     "name": "stdout",
     "output_type": "stream",
     "text": [
      "interval_measures=[array([0.87176013, 0.7272003 ], dtype=float32), array([0.12992008, 0.27432   ], dtype=float32), array([0.34399983, 0.03031998], dtype=float32), array([0.08761435, 0.47685283], dtype=float32)]\n"
     ]
    }
   ],
   "source": [
    "# get the avg measure for each time interval independent of the other ones. Sanity check\n",
    "interval_measures = []\n",
    "for ms in measure_data:\n",
    "    ms = np.mean(np.array(ms), axis=0)\n",
    "    interval_measures.append(ms)\n",
    "print(f'{interval_measures=}')\n",
    "\n",
    "# get the moving average measures\n",
    "window_size = 50\n",
    "moving_averages = []\n",
    "all_measure_data = np.concatenate(measure_data)\n",
    "t = 0\n",
    "while t < len(all_measure_data) - window_size + 1:\n",
    "    window_average = np.sum(all_measure_data[t: t + window_size], axis=0) / window_size\n",
    "    moving_averages.append(window_average)\n",
    "    t += 1"
   ]
  },
  {
   "cell_type": "code",
   "execution_count": 34,
   "metadata": {
    "ExecuteTime": {
     "end_time": "2023-05-10T21:18:03.755789Z",
     "start_time": "2023-05-10T21:18:03.676735Z"
    },
    "collapsed": false
   },
   "outputs": [
    {
     "data": {
      "text/plain": [
       "[<matplotlib.lines.Line2D at 0x7f95ec6e6d00>]"
      ]
     },
     "execution_count": 34,
     "metadata": {},
     "output_type": "execute_result"
    },
    {
     "data": {
      "image/png": "[encoded data removed]",
      "text/plain": [
       "<Figure size 640x480 with 1 Axes>"
      ]
     },
     "metadata": {},
     "output_type": "display_data"
    }
   ],
   "source": [
    "# plt.plot(np.arange(0, len(moving_averages)), [moving_averages[i][0] for i in range(len(moving_averages))])"
   ]
  },
  {
   "cell_type": "code",
   "execution_count": 55,
   "metadata": {},
   "outputs": [
    {
     "name": "stdout",
     "output_type": "stream",
     "text": [
      "[[0.9 0.9]\n",
      " [0.9 0.9]\n",
      " [0.9 0.9]\n",
      " ...\n",
      " [0.  0.5]\n",
      " [0.  0.5]\n",
      " [0.  0.5]]\n"
     ]
    }
   ],
   "source": [
    "def split(a, n):\n",
    "    k, m = divmod(len(a), n)\n",
    "    return (a[i*k+min(i, m):(i+1)*k+min(i+1, m)] for i in range(n))\n",
    "time_intervals = list(split(np.arange(0, 1000), 4))\n",
    "desired_measures = np.concatenate([np.array([measure]).repeat(len(time_intervals[ind]),0) for ind, measure in enumerate(measures)])\n",
    "print(desired_measures)"
   ]
  },
  {
   "cell_type": "code",
   "execution_count": 60,
   "metadata": {
    "ExecuteTime": {
     "end_time": "2023-05-10T21:18:06.763357Z",
     "start_time": "2023-05-10T21:18:06.692497Z"
    },
    "collapsed": false
   },
   "outputs": [
    {
     "data": {
      "text/plain": [
       "<matplotlib.legend.Legend at 0x7f9568245b50>"
      ]
     },
     "execution_count": 60,
     "metadata": {},
     "output_type": "execute_result"
    },
    {
     "data": {
      "image/png": "[encoded data removed]",
      "text/plain": [
       "<Figure size 1000x600 with 2 Axes>"
      ]
     },
     "metadata": {},
     "output_type": "display_data"
    }
   ],
   "source": [
    "fig, (ax1, ax2) = plt.subplots(2, 1, figsize=(10, 6))\n",
    "# plot reconstructed measures\n",
    "ax1.plot(np.arange(0, len(moving_averages)), [moving_averages[i][0] for i in range(len(moving_averages))], label='Reconstructed')\n",
    "ax2.plot(np.arange(0, len(moving_averages)), [moving_averages[i][1] for i in range(len(moving_averages))], label='Reconstructed')\n",
    "\n",
    "ax1.plot(np.arange(0, len(desired_measures)), [desired_measures[i][0] for i in range(len(desired_measures))], label='Desired')\n",
    "ax2.plot(np.arange(0, len(desired_measures)), [desired_measures[i][1] for i in range(len(desired_measures))], label='Desired')\n",
    "\n",
    "ax1.set_ylabel('Measure 0')\n",
    "ax2.set_ylabel('Measure 1')\n",
    "\n",
    "ax1.set_xlabel('Time')\n",
    "ax2.set_xlabel('Time')\n",
    "\n",
    "ax1.legend()\n",
    "ax2.legend()\n",
    "\n",
    "\n",
    "\n"
   ]
  },
  {
   "cell_type": "code",
   "execution_count": null,
   "metadata": {
    "collapsed": false
   },
   "outputs": [],
   "source": [
    "measures = [\n",
    "    [0.9, 0.9],\n",
    "    [0.2, 0.2],\n",
    "    [0.5, 0.0],\n",
    "    [0.0, 0.5]\n",
    "]"
   ]
  },
  {
   "cell_type": "code",
   "execution_count": null,
   "metadata": {
    "ExecuteTime": {
     "end_time": "2023-05-04T22:20:26.185708Z",
     "start_time": "2023-05-04T22:20:26.141330Z"
    },
    "collapsed": false
   },
   "outputs": [],
   "source": [
    "def behavior_composition_experiments(N: int = 20):\n",
    "    '''Run N behavior composition experiments and report the results'''\n",
    "    avg_rewards, avg_traj_lengths = [], []\n",
    "    for n in range(N):\n",
    "        measures = torch.rand((4, 2))\n",
    "        print(f'Measures: {measures}')\n",
    "        _, avg_rew, avg_traj_len = compose_behaviors(measures, multi_vec_env, device, multi_env_cfg.num_envs)\n",
    "        avg_rewards.append(avg_rew),\n",
    "        avg_traj_lengths.append(avg_traj_len)\n",
    "        print(f'Completed trial {n + 1} of {N}')\n",
    "    successes = [1 if x > 800 else 0 for x in avg_traj_lengths]\n",
    "    success_rate = np.mean(successes)\n",
    "    print(avg_rewards)\n",
    "    print(avg_traj_lengths)\n",
    "    print(success_rate)"
   ]
  },
  {
   "cell_type": "code",
   "execution_count": null,
   "metadata": {
    "ExecuteTime": {
     "end_time": "2023-05-04T22:38:57.876510Z",
     "start_time": "2023-05-04T22:37:39.567674Z"
    },
    "collapsed": false
   },
   "outputs": [],
   "source": [
    "behavior_composition_experiments()"
   ]
  },
  {
   "cell_type": "code",
   "execution_count": null,
   "metadata": {
    "collapsed": false
   },
   "outputs": [],
   "source": []
  }
 ],
 "metadata": {
  "kernelspec": {
   "display_name": "Python 3",
   "language": "python",
   "name": "python3"
  },
  "language_info": {
   "codemirror_mode": {
    "name": "ipython",
    "version": 3
   },
   "file_extension": ".py",
   "mimetype": "text/x-python",
   "name": "python",
   "nbconvert_exporter": "python",
   "pygments_lexer": "ipython3",
   "version": "3.9.0"
  }
 },
 "nbformat": 4,
 "nbformat_minor": 0
}
