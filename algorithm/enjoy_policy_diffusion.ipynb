{
 "cells": [
  {
   "cell_type": "code",
   "execution_count": null,
   "metadata": {
    "collapsed": true,
    "ExecuteTime": {
     "start_time": "2023-05-01T21:03:04.163779Z",
     "end_time": "2023-05-01T21:03:04.164165Z"
    }
   },
   "outputs": [],
   "source": [
    "import os\n",
    "from pathlib import Path\n",
    "project_root = os.path.join(str(Path.home()), 'diffusion_models')\n",
    "os.chdir(project_root)\n",
    "%pwd # should be PPGA root dir"
   ]
  },
  {
   "cell_type": "code",
   "execution_count": null,
   "outputs": [],
   "source": [
    "import torch\n",
    "import pickle\n",
    "import json\n",
    "import numpy as np\n",
    "\n",
    "from diffusion.gaussian_diffusion import cosine_beta_schedule, linear_beta_schedule, GaussianDiffusion\n",
    "from diffusion.latent_diffusion import LatentDiffusion\n",
    "from diffusion.ddim import DDIMSampler\n",
    "from autoencoders.policy.hypernet import HypernetAutoEncoder as AutoEncoder\n",
    "from dataset.shaped_elites_dataset import WeightNormalizer\n",
    "from attrdict import AttrDict\n",
    "from utils.tensor_dict import TensorDict, cat_tensordicts\n",
    "from RL.actor_critic import Actor\n",
    "from utils.normalize import ObsNormalizer\n",
    "from models.cond_unet import ConditionalUNet\n",
    "from envs.brax_custom.brax_env import make_vec_env_brax\n",
    "from IPython.display import HTML, Image\n",
    "from IPython.display import display\n",
    "from brax.io import html, image\n",
    "from utils.brax_utils import shared_params"
   ],
   "metadata": {
    "collapsed": false,
    "ExecuteTime": {
     "start_time": "2023-05-01T21:03:04.163857Z",
     "end_time": "2023-05-01T21:03:06.532375Z"
    }
   }
  },
  {
   "cell_type": "code",
   "execution_count": null,
   "outputs": [],
   "source": [
    "# params to config\n",
    "device = torch.device('cuda')\n",
    "env_name = 'humanoid'\n",
    "seed = 1111\n",
    "normalize_obs = True\n",
    "normalize_rewards = False\n",
    "obs_shape = shared_params[env_name]['obs_dim']\n",
    "action_shape = np.array([shared_params[env_name]['action_dim']])\n",
    "mlp_shape = (128, 128, action_shape)\n",
    "\n",
    "env_cfg = AttrDict({\n",
    "    'env_name': env_name,\n",
    "    'env_batch_size': None,\n",
    "    'num_dims': 2,\n",
    "    'seed': seed,\n",
    "    'num_envs': 1,\n",
    "    'clip_obs_rew': True,\n",
    "})"
   ],
   "metadata": {
    "collapsed": false,
    "ExecuteTime": {
     "start_time": "2023-05-01T21:03:06.533078Z",
     "end_time": "2023-05-01T21:03:06.534716Z"
    }
   }
  },
  {
   "cell_type": "code",
   "execution_count": null,
   "outputs": [],
   "source": [
    "archive_df_path = f'data/{env_name}/archive_100x100.pkl'\n",
    "with open(archive_df_path, 'rb') as f:\n",
    "    archive_df = pickle.load(f)\n",
    "\n",
    "scheduler_path = f'data/{env_name}/scheduler_100x100.pkl'\n",
    "with open(scheduler_path, 'rb') as f:\n",
    "    scheduler = pickle.load(f)"
   ],
   "metadata": {
    "collapsed": false,
    "ExecuteTime": {
     "start_time": "2023-05-01T21:03:06.535574Z",
     "end_time": "2023-05-01T21:03:17.410152Z"
    }
   }
  },
  {
   "cell_type": "code",
   "execution_count": null,
   "outputs": [],
   "source": [
    "# make the env\n",
    "env = make_vec_env_brax(env_cfg)"
   ],
   "metadata": {
    "collapsed": false,
    "ExecuteTime": {
     "start_time": "2023-05-01T21:03:17.419102Z",
     "end_time": "2023-05-01T21:03:17.722525Z"
    }
   }
  },
  {
   "cell_type": "code",
   "execution_count": null,
   "outputs": [],
   "source": [
    "def enjoy_brax(agent, render=True, deterministic=True):\n",
    "    if normalize_obs:\n",
    "        obs_mean, obs_var = agent.obs_normalizer.obs_rms.mean, agent.obs_normalizer.obs_rms.var\n",
    "        print(f'Normalize Obs Enabled')\n",
    "\n",
    "    obs = env.reset()\n",
    "    rollout = [env.unwrapped._state]\n",
    "    total_reward = 0\n",
    "    measures = torch.zeros(env_cfg.num_dims).to(device)\n",
    "    done = False\n",
    "    while not done:\n",
    "        with torch.no_grad():\n",
    "            obs = obs.unsqueeze(dim=0).to(device)\n",
    "            if normalize_obs:\n",
    "                obs = (obs - obs_mean) / torch.sqrt(obs_var + 1e-8)\n",
    "\n",
    "            if deterministic:\n",
    "                act = agent.actor_mean(obs)\n",
    "            else:\n",
    "                act, _, _ = agent.get_action(obs)\n",
    "            act = act.squeeze()\n",
    "            obs, rew, done, info = env.step(act.cpu())\n",
    "            measures += info['measures']\n",
    "            rollout.append(env.unwrapped._state)\n",
    "            total_reward += rew\n",
    "    if render:\n",
    "        i = HTML(html.render(env.unwrapped._env.sys, [s.qp for s in rollout]))\n",
    "        display(i)\n",
    "    print(f'{total_reward=}')\n",
    "    print(f' Rollout length: {len(rollout)}')\n",
    "    measures /= len(rollout)\n",
    "    print(f'Measures: {measures.cpu().numpy()}')\n",
    "    return total_reward.detach().cpu(), measures.detach().cpu()"
   ],
   "metadata": {
    "collapsed": false,
    "ExecuteTime": {
     "start_time": "2023-05-01T21:03:17.725640Z",
     "end_time": "2023-05-01T21:03:17.726802Z"
    }
   }
  },
  {
   "cell_type": "code",
   "execution_count": null,
   "outputs": [],
   "source": [
    "# diffusion model params\n",
    "latent_diffusion = True\n",
    "use_ddim = True\n",
    "center_data = True\n",
    "latent_channels = 4\n",
    "latent_size = 4\n",
    "timesteps = 600\n",
    "\n",
    "cfg_path = 'results/humanoid/diffusion_model/humanoid_diffusion_model_20230501-174628_0/args.json'\n",
    "with open(cfg_path, 'r') as f:\n",
    "    cfg = json.load(f)\n",
    "    cfg = AttrDict(cfg)\n",
    "\n",
    "scale_factor = cfg.scale_factor if latent_diffusion else None\n",
    "\n",
    "device = 'cuda' if torch.cuda.is_available() else 'cpu'\n",
    "\n",
    "betas = cosine_beta_schedule(timesteps)"
   ],
   "metadata": {
    "collapsed": false,
    "ExecuteTime": {
     "start_time": "2023-05-01T21:03:17.727533Z",
     "end_time": "2023-05-01T21:03:17.771096Z"
    }
   }
  },
  {
   "cell_type": "code",
   "execution_count": null,
   "outputs": [],
   "source": [
    "# paths to VAE and diffusion model checkpoint\n",
    "model_path = 'results/humanoid/diffusion_model/humanoid_diffusion_model_20230501-174628_0/model_checkpoints/humanoid_diffusion_model_20230501-174628_0.pt'\n",
    "autoencoder_path = 'results/humanoid/autoencoder/humanoid_autoencoder_20230501-104217/model_checkpoints/humanoid_autoencoder_20230501-104217.pt'\n",
    "weight_normalizer_path = 'results/humanoid/weight_normalizer.pkl'"
   ],
   "metadata": {
    "collapsed": false,
    "ExecuteTime": {
     "start_time": "2023-05-01T21:03:17.771175Z",
     "end_time": "2023-05-01T21:03:17.772400Z"
    }
   }
  },
  {
   "cell_type": "code",
   "execution_count": null,
   "outputs": [],
   "source": [
    "# load the diffusion model\n",
    "logvar = torch.full(fill_value=0., size=(timesteps,))\n",
    "model = ConditionalUNet(\n",
    "    in_channels=latent_channels,\n",
    "    out_channels=latent_channels,\n",
    "    channels=64,\n",
    "    n_res_blocks=1,\n",
    "    attention_levels=[],\n",
    "    channel_multipliers=[1, 2, 4],\n",
    "    n_heads=4,\n",
    "    d_cond=256,\n",
    "    logvar=logvar\n",
    ")\n",
    "autoencoder = AutoEncoder(emb_channels=4,\n",
    "                          z_channels=4,\n",
    "                          obs_shape=obs_shape,\n",
    "                          action_shape=action_shape,\n",
    "                          z_height=4,\n",
    "                          enc_fc_hid=64,\n",
    "                          obsnorm_hid=64,\n",
    "                          ghn_hid=8)\n",
    "autoencoder.load_state_dict(torch.load(autoencoder_path))\n",
    "autoencoder.to(device)\n",
    "autoencoder.eval()\n",
    "\n",
    "gauss_diff = LatentDiffusion(betas, num_timesteps=timesteps, device=device)\n",
    "model.load_state_dict(torch.load(model_path))\n",
    "model.to(device)\n",
    "\n",
    "weight_normalizer = None\n",
    "if center_data:\n",
    "    weight_normalizer = WeightNormalizer(TensorDict({}), TensorDict({}))\n",
    "    weight_normalizer.load(weight_normalizer_path)\n"
   ],
   "metadata": {
    "collapsed": false,
    "ExecuteTime": {
     "start_time": "2023-05-01T21:03:17.774265Z",
     "end_time": "2023-05-01T21:03:17.979353Z"
    }
   }
  },
  {
   "cell_type": "code",
   "execution_count": null,
   "outputs": [],
   "source": [
    "ddim_sampler = DDIMSampler(gauss_diff, n_steps=100)"
   ],
   "metadata": {
    "collapsed": false,
    "ExecuteTime": {
     "start_time": "2023-05-01T21:03:17.978299Z",
     "end_time": "2023-05-01T21:03:17.981639Z"
    }
   }
  },
  {
   "cell_type": "code",
   "execution_count": null,
   "outputs": [],
   "source": [
    "batch_size = 1\n",
    "cond = torch.ones((batch_size, 2)) * 0.5\n",
    "# cond = torch.Tensor([\n",
    "#     [1., 1.],\n",
    "#     [1., 1.],\n",
    "# ]).view(1, 2, 2)\n",
    "cond = cond.to(device)\n",
    "print(cond.shape)"
   ],
   "metadata": {
    "collapsed": false,
    "ExecuteTime": {
     "start_time": "2023-05-01T21:17:56.105767Z",
     "end_time": "2023-05-01T21:17:56.116981Z"
    }
   }
  },
  {
   "cell_type": "code",
   "execution_count": null,
   "outputs": [],
   "source": [
    "shape = [batch_size, latent_channels, latent_size, latent_size]\n",
    "samples = ddim_sampler.sample(model, shape=shape, cond=cond, classifier_free_guidance=True, classifier_scale=1.0)\n",
    "samples = samples * (1 / scale_factor)\n",
    "(rec_agents, obsnorms) = autoencoder.decode(samples)\n",
    "obsnorms = TensorDict(obsnorms)\n",
    "\n",
    "rec_agents_params = [TensorDict(p.state_dict()) for p in rec_agents]\n",
    "rec_agents_params = cat_tensordicts(rec_agents_params)\n",
    "rec_agents_params.update(obsnorms)\n",
    "actor_logstd = torch.zeros(batch_size, 1, 17)\n",
    "actor_logstd = actor_logstd.to(device)\n",
    "rec_agents_params['actor_logstd'] = actor_logstd\n",
    "\n",
    "if center_data:\n",
    "    rec_agents_params = weight_normalizer.denormalize(rec_agents_params)\n",
    "\n",
    "if normalize_obs:\n",
    "    rec_agents_params['obs_normalizer.obs_rms.var'] = torch.exp(rec_agents_params['obs_normalizer.obs_rms.logstd'] * 2)\n",
    "    rec_agents_params['obs_normalizer.obs_rms.count'] = torch.zeros(64, 1).to(device)\n",
    "    del rec_agents_params['obs_normalizer.obs_rms.logstd']\n",
    "\n",
    "rec_agents = [Actor(obs_shape, action_shape, normalize_obs=normalize_obs).to(device) for _ in range(len(rec_agents_params))]\n",
    "for i in range(len(rec_agents_params)):\n",
    "    rec_agents[i].load_state_dict(rec_agents_params[i])"
   ],
   "metadata": {
    "collapsed": false,
    "ExecuteTime": {
     "start_time": "2023-05-01T21:17:56.975735Z",
     "end_time": "2023-05-01T21:17:57.639052Z"
    }
   }
  },
  {
   "cell_type": "code",
   "execution_count": null,
   "outputs": [],
   "source": [
    "random_idx = torch.randint(0, batch_size, (1,))\n",
    "print(f'{random_idx=}')\n",
    "print(len(obsnorms))\n",
    "rec_agent = rec_agents[random_idx]\n",
    "\n",
    "# obsnorm_sd = {\n",
    "#     'obs_rms.mean': obsnorms[random_idx]['obs_normalizer.obs_rms.mean'].flatten(),\n",
    "#     'obs_rms.var': torch.exp(2 * obsnorms[random_idx]['obs_normalizer.obs_rms.logstd']).flatten(),\n",
    "#     'obs_rms.count': torch.zeros(1)\n",
    "# }\n",
    "# obs_normalizer = ObsNormalizer(obs_shape).to(device)\n",
    "# obs_normalizer.load_state_dict(obsnorm_sd)\n",
    "#\n",
    "# rec_agent.obs_normalizer = obs_normalizer\n",
    "enjoy_brax(rec_agent)"
   ],
   "metadata": {
    "collapsed": false,
    "ExecuteTime": {
     "start_time": "2023-05-01T21:17:57.640148Z",
     "end_time": "2023-05-01T21:17:58.598170Z"
    }
   }
  },
  {
   "cell_type": "code",
   "execution_count": null,
   "outputs": [],
   "source": [
    "def rollout_n_times(agent: Actor, N = 20):\n",
    "    rews, measures = [], []\n",
    "    for _ in range(N):\n",
    "        f, m = enjoy_brax(agent, render=False)\n",
    "        rews.append(f)\n",
    "        measures.append(m)\n",
    "\n",
    "    rews = torch.stack(rews)\n",
    "    measures = torch.stack(measures)\n",
    "    print(f'{measures.shape}')\n",
    "    print(f'{measures.mean(0)=}')\n",
    "    m_cond = torch.ones_like(measures) * 0.9\n",
    "    print(m_cond)\n",
    "    mse = torch.nn.functional.mse_loss(measures[:,0], m_cond[:, 0])\n",
    "    mse2 = torch.nn.functional.mse_loss(measures[:,1], m_cond[:, 1])\n",
    "    print(f'{mse=}, {mse2=}')\n"
   ],
   "metadata": {
    "collapsed": false,
    "ExecuteTime": {
     "start_time": "2023-05-01T19:40:05.567831Z",
     "end_time": "2023-05-01T19:40:05.568204Z"
    }
   }
  },
  {
   "cell_type": "code",
   "execution_count": null,
   "outputs": [],
   "source": [],
   "metadata": {
    "collapsed": false
   }
  }
 ],
 "metadata": {
  "kernelspec": {
   "display_name": "Python 3",
   "language": "python",
   "name": "python3"
  },
  "language_info": {
   "codemirror_mode": {
    "name": "ipython",
    "version": 2
   },
   "file_extension": ".py",
   "mimetype": "text/x-python",
   "name": "python",
   "nbconvert_exporter": "python",
   "pygments_lexer": "ipython2",
   "version": "2.7.6"
  }
 },
 "nbformat": 4,
 "nbformat_minor": 0
}
