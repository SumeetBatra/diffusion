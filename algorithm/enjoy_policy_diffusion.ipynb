{
 "cells": [
  {
   "cell_type": "code",
   "execution_count": null,
   "metadata": {
    "collapsed": true,
    "ExecuteTime": {
     "start_time": "2023-05-04T14:24:31.583490Z",
     "end_time": "2023-05-04T14:24:31.584046Z"
    }
   },
   "outputs": [],
   "source": [
    "import os\n",
    "from pathlib import Path\n",
    "project_root = os.path.join(str(Path.home()), 'diffusion_models')\n",
    "os.chdir(project_root)\n",
    "%pwd # should be PPGA root dir"
   ]
  },
  {
   "cell_type": "code",
   "execution_count": null,
   "outputs": [],
   "source": [
    "import torch\n",
    "import pickle\n",
    "import json\n",
    "import numpy as np\n",
    "import matplotlib.pyplot as plt\n",
    "\n",
    "from diffusion.gaussian_diffusion import cosine_beta_schedule, linear_beta_schedule, GaussianDiffusion\n",
    "from diffusion.latent_diffusion import LatentDiffusion\n",
    "from diffusion.ddim import DDIMSampler\n",
    "from autoencoders.policy.hypernet import HypernetAutoEncoder as AutoEncoder\n",
    "from dataset.shaped_elites_dataset import WeightNormalizer\n",
    "from attrdict import AttrDict\n",
    "from utils.tensor_dict import TensorDict, cat_tensordicts\n",
    "from RL.actor_critic import Actor\n",
    "from utils.normalize import ObsNormalizer\n",
    "from models.cond_unet import ConditionalUNet\n",
    "from envs.brax_custom.brax_env import make_vec_env_brax\n",
    "from IPython.display import HTML, Image\n",
    "from IPython.display import display\n",
    "from brax.io import html, image\n",
    "from utils.brax_utils import shared_params, rollout_many_agents"
   ],
   "metadata": {
    "collapsed": false,
    "ExecuteTime": {
     "start_time": "2023-05-04T14:39:05.903057Z",
     "end_time": "2023-05-04T14:39:05.943295Z"
    }
   }
  },
  {
   "cell_type": "code",
   "execution_count": null,
   "outputs": [],
   "source": [
    "# params to config\n",
    "device = torch.device('cuda')\n",
    "env_name = 'humanoid'\n",
    "seed = 1111\n",
    "normalize_obs = True\n",
    "normalize_rewards = False\n",
    "obs_shape = shared_params[env_name]['obs_dim']\n",
    "action_shape = np.array([shared_params[env_name]['action_dim']])\n",
    "mlp_shape = (128, 128, action_shape)\n",
    "\n",
    "env_cfg = AttrDict({\n",
    "    'env_name': env_name,\n",
    "    'env_batch_size': None,\n",
    "    'num_dims': 2,\n",
    "    'seed': seed,\n",
    "    'num_envs': 1,\n",
    "    'clip_obs_rew': True,\n",
    "})"
   ],
   "metadata": {
    "collapsed": false,
    "ExecuteTime": {
     "start_time": "2023-05-04T14:24:33.607252Z",
     "end_time": "2023-05-04T14:24:33.609810Z"
    }
   }
  },
  {
   "cell_type": "code",
   "execution_count": null,
   "outputs": [],
   "source": [
    "archive_df_path = f'data/{env_name}/archive_100x100.pkl'\n",
    "with open(archive_df_path, 'rb') as f:\n",
    "    archive_df = pickle.load(f)\n",
    "\n",
    "scheduler_path = f'data/{env_name}/scheduler_100x100.pkl'\n",
    "with open(scheduler_path, 'rb') as f:\n",
    "    scheduler = pickle.load(f)"
   ],
   "metadata": {
    "collapsed": false,
    "ExecuteTime": {
     "start_time": "2023-05-04T14:24:33.608879Z",
     "end_time": "2023-05-04T14:24:42.462028Z"
    }
   }
  },
  {
   "cell_type": "code",
   "execution_count": null,
   "outputs": [],
   "source": [
    "# make the env\n",
    "env = make_vec_env_brax(env_cfg)"
   ],
   "metadata": {
    "collapsed": false,
    "ExecuteTime": {
     "start_time": "2023-05-04T14:24:42.467188Z",
     "end_time": "2023-05-04T14:24:42.771498Z"
    }
   }
  },
  {
   "cell_type": "code",
   "execution_count": null,
   "outputs": [],
   "source": [
    "def enjoy_brax(agent, render=True, deterministic=True):\n",
    "    if normalize_obs:\n",
    "        obs_mean, obs_var = agent.obs_normalizer.obs_rms.mean, agent.obs_normalizer.obs_rms.var\n",
    "        print(f'Normalize Obs Enabled')\n",
    "\n",
    "    obs = env.reset()\n",
    "    rollout = [env.unwrapped._state]\n",
    "    total_reward = 0\n",
    "    measures = torch.zeros(env_cfg.num_dims).to(device)\n",
    "    done = False\n",
    "    while not done:\n",
    "        with torch.no_grad():\n",
    "            obs = obs.unsqueeze(dim=0).to(device)\n",
    "            if normalize_obs:\n",
    "                obs = (obs - obs_mean) / torch.sqrt(obs_var + 1e-8)\n",
    "\n",
    "            if deterministic:\n",
    "                act = agent.actor_mean(obs)\n",
    "            else:\n",
    "                act, _, _ = agent.get_action(obs)\n",
    "            act = act.squeeze()\n",
    "            obs, rew, done, info = env.step(act.cpu())\n",
    "            measures += info['measures']\n",
    "            rollout.append(env.unwrapped._state)\n",
    "            total_reward += rew\n",
    "    if render:\n",
    "        i = HTML(html.render(env.unwrapped._env.sys, [s.qp for s in rollout]))\n",
    "        display(i)\n",
    "    print(f'{total_reward=}')\n",
    "    print(f' Rollout length: {len(rollout)}')\n",
    "    measures /= len(rollout)\n",
    "    print(f'Measures: {measures.cpu().numpy()}')\n",
    "    return total_reward.detach().cpu(), measures.detach().cpu()"
   ],
   "metadata": {
    "collapsed": false,
    "ExecuteTime": {
     "start_time": "2023-05-04T14:24:42.771168Z",
     "end_time": "2023-05-04T14:24:42.818763Z"
    }
   }
  },
  {
   "cell_type": "code",
   "execution_count": null,
   "outputs": [],
   "source": [
    "# diffusion model params\n",
    "latent_diffusion = True\n",
    "use_ddim = True\n",
    "center_data = True\n",
    "latent_channels = 4\n",
    "latent_size = 4\n",
    "timesteps = 600\n",
    "\n",
    "cfg_path = 'results/humanoid/diffusion_model/humanoid_diffusion_model_paper_111/humanoid_diffusion_model_20230504-041644_111/args.json'\n",
    "with open(cfg_path, 'r') as f:\n",
    "    cfg = json.load(f)\n",
    "    cfg = AttrDict(cfg)\n",
    "\n",
    "scale_factor = cfg.scale_factor if latent_diffusion else None\n",
    "\n",
    "device = 'cuda' if torch.cuda.is_available() else 'cpu'\n",
    "\n",
    "betas = cosine_beta_schedule(timesteps)"
   ],
   "metadata": {
    "collapsed": false,
    "ExecuteTime": {
     "start_time": "2023-05-04T14:24:42.815176Z",
     "end_time": "2023-05-04T14:24:42.859330Z"
    }
   }
  },
  {
   "cell_type": "code",
   "execution_count": null,
   "outputs": [],
   "source": [
    "# paths to VAE and diffusion model checkpoint\n",
    "autoencoder_path = 'results/humanoid/autoencoder/humanoid_autoencoder_paper_111/model_checkpoints/humanoid_autoencoder_20230502-081156_111.pt'\n",
    "model_path = 'results/humanoid/diffusion_model/humanoid_diffusion_model_paper_111/humanoid_diffusion_model_20230504-041644_111/model_checkpoints/humanoid_diffusion_model_20230504-041644_111.pt'\n",
    "weight_normalizer_path = 'results/humanoid/weight_normalizer.pkl'"
   ],
   "metadata": {
    "collapsed": false,
    "ExecuteTime": {
     "start_time": "2023-05-04T14:24:42.859204Z",
     "end_time": "2023-05-04T14:24:42.859507Z"
    }
   }
  },
  {
   "cell_type": "code",
   "execution_count": null,
   "outputs": [],
   "source": [
    "# load the diffusion model\n",
    "logvar = torch.full(fill_value=0., size=(timesteps,))\n",
    "model = ConditionalUNet(\n",
    "    in_channels=latent_channels,\n",
    "    out_channels=latent_channels,\n",
    "    channels=64,\n",
    "    n_res_blocks=1,\n",
    "    attention_levels=[],\n",
    "    channel_multipliers=[1, 2, 4],\n",
    "    n_heads=4,\n",
    "    d_cond=256,\n",
    "    logvar=logvar\n",
    ")\n",
    "autoencoder = AutoEncoder(emb_channels=4,\n",
    "                          z_channels=4,\n",
    "                          obs_shape=obs_shape,\n",
    "                          action_shape=action_shape,\n",
    "                          z_height=4,\n",
    "                          enc_fc_hid=64,\n",
    "                          obsnorm_hid=64,\n",
    "                          ghn_hid=8)\n",
    "autoencoder.load_state_dict(torch.load(autoencoder_path))\n",
    "autoencoder.to(device)\n",
    "autoencoder.eval()\n",
    "\n",
    "gauss_diff = LatentDiffusion(betas, num_timesteps=timesteps, device=device)\n",
    "model.load_state_dict(torch.load(model_path))\n",
    "model.to(device)\n",
    "\n",
    "weight_normalizer = None\n",
    "if center_data:\n",
    "    weight_normalizer = WeightNormalizer(TensorDict({}), TensorDict({}))\n",
    "    weight_normalizer.load(weight_normalizer_path)\n"
   ],
   "metadata": {
    "collapsed": false,
    "ExecuteTime": {
     "start_time": "2023-05-04T14:24:42.859259Z",
     "end_time": "2023-05-04T14:24:42.996464Z"
    }
   }
  },
  {
   "cell_type": "code",
   "execution_count": null,
   "outputs": [],
   "source": [
    "def postprocess_agents(rec_agents: list[Actor], obsnorms: list[dict]):\n",
    "    '''Denormalize outputs of the decoder and return a list of Actors that can be rolled out'''\n",
    "    batch_size = len(rec_agents)\n",
    "    TensorDict(obsnorms)\n",
    "    rec_agents_params = [TensorDict(p.state_dict()) for p in rec_agents]\n",
    "    rec_agents_params = cat_tensordicts(rec_agents_params)\n",
    "    rec_agents_params.update(obsnorms)\n",
    "    # decoder doesn't fill in the logstd param, so we manually set it to default values\n",
    "    actor_logstd = torch.zeros(batch_size, 1, action_shape[0])\n",
    "    actor_logstd = actor_logstd.to(device)\n",
    "    rec_agents_params['actor_logstd'] = actor_logstd\n",
    "    # if data centering was used during training, we need to denormalize the weights\n",
    "    if center_data:\n",
    "        rec_agents_params = weight_normalizer.denormalize(rec_agents_params)\n",
    "\n",
    "    if normalize_obs:\n",
    "        rec_agents_params['obs_normalizer.obs_rms.var'] = torch.exp(rec_agents_params['obs_normalizer.obs_rms.logstd'] * 2)\n",
    "        rec_agents_params['obs_normalizer.obs_rms.count'] = torch.zeros(batch_size, 1).to(device)\n",
    "        del rec_agents_params['obs_normalizer.obs_rms.logstd']\n",
    "\n",
    "    rec_agents = [Actor(obs_shape, action_shape, normalize_obs=normalize_obs).to(device) for _ in range(len(rec_agents_params))]\n",
    "    for i in range(len(rec_agents_params)):\n",
    "        rec_agents[i].load_state_dict(rec_agents_params[i])\n",
    "\n",
    "    return rec_agents"
   ],
   "metadata": {
    "collapsed": false,
    "ExecuteTime": {
     "start_time": "2023-05-04T14:24:42.994975Z",
     "end_time": "2023-05-04T14:24:43.039372Z"
    }
   }
  },
  {
   "cell_type": "code",
   "execution_count": null,
   "outputs": [],
   "source": [
    "ddim_sampler = DDIMSampler(gauss_diff, n_steps=100)"
   ],
   "metadata": {
    "collapsed": false,
    "ExecuteTime": {
     "start_time": "2023-05-04T14:24:43.039270Z",
     "end_time": "2023-05-04T14:24:43.039566Z"
    }
   }
  },
  {
   "cell_type": "code",
   "execution_count": null,
   "outputs": [],
   "source": [
    "def get_agent_with_measure(m: list[float]):\n",
    "    batch_size = 1\n",
    "    cond = torch.Tensor(m).view(1, -1).to(device)\n",
    "    shape = [batch_size, latent_channels, latent_size, latent_size]\n",
    "    samples = ddim_sampler.sample(model, shape=shape, cond=cond, classifier_free_guidance=True, classifier_scale=1.0)\n",
    "    samples = samples * (1 / scale_factor)\n",
    "    (rec_agents, obsnorms) = autoencoder.decode(samples)\n",
    "    rec_agents = postprocess_agents(rec_agents, obsnorms)\n",
    "    return rec_agents[0]"
   ],
   "metadata": {
    "collapsed": false,
    "ExecuteTime": {
     "start_time": "2023-05-04T14:24:43.039331Z",
     "end_time": "2023-05-04T14:24:43.039650Z"
    }
   }
  },
  {
   "cell_type": "code",
   "execution_count": null,
   "outputs": [],
   "source": [
    "batch_size = 1\n",
    "cond = torch.ones((batch_size, 2)) * 0.2\n",
    "cond = cond.to(device)"
   ],
   "metadata": {
    "collapsed": false,
    "ExecuteTime": {
     "start_time": "2023-05-04T14:24:43.039473Z",
     "end_time": "2023-05-04T14:24:43.039734Z"
    }
   }
  },
  {
   "cell_type": "code",
   "execution_count": null,
   "outputs": [],
   "source": [
    "shape = [batch_size, latent_channels, latent_size, latent_size]\n",
    "samples = ddim_sampler.sample(model, shape=shape, cond=cond, classifier_free_guidance=True, classifier_scale=2.0)\n",
    "samples = samples * (1 / scale_factor)\n",
    "(rec_agents, obsnorms) = autoencoder.decode(samples)\n",
    "rec_agents = postprocess_agents(rec_agents, obsnorms)"
   ],
   "metadata": {
    "collapsed": false,
    "ExecuteTime": {
     "start_time": "2023-05-04T14:24:43.039525Z",
     "end_time": "2023-05-04T14:24:44.388896Z"
    }
   }
  },
  {
   "cell_type": "code",
   "execution_count": null,
   "outputs": [],
   "source": [
    "# random_idx = torch.randint(0, batch_size, (1,))\n",
    "# print(f'{random_idx=}')\n",
    "# print(len(obsnorms))\n",
    "# rec_agent = rec_agents[random_idx]\n",
    "rec_agent = get_agent_with_measure([0.5, 0.5])\n",
    "enjoy_brax(rec_agent)"
   ],
   "metadata": {
    "collapsed": false,
    "ExecuteTime": {
     "start_time": "2023-05-04T12:58:26.026334Z",
     "end_time": "2023-05-04T12:58:27.485018Z"
    }
   }
  },
  {
   "cell_type": "code",
   "execution_count": null,
   "outputs": [],
   "source": [
    "# evaluate an agent on many envs in parallel\n",
    "N = 50\n",
    "multi_env_cfg = AttrDict({\n",
    "    'env_name': env_name,\n",
    "    'env_batch_size': N,\n",
    "    'num_envs': N,\n",
    "    'num_dims': 2,\n",
    "    'seed': seed,\n",
    "    'clip_obs_rew': True,\n",
    "})\n",
    "multi_vec_env = make_vec_env_brax(multi_env_cfg)"
   ],
   "metadata": {
    "collapsed": false,
    "ExecuteTime": {
     "start_time": "2023-05-04T12:16:32.984953Z",
     "end_time": "2023-05-04T12:16:33.052623Z"
    }
   }
  },
  {
   "cell_type": "code",
   "execution_count": null,
   "outputs": [],
   "source": [
    "rollout_many_agents([rec_agent], multi_env_cfg, multi_vec_env, device, verbose=True, normalize_obs=True)"
   ],
   "metadata": {
    "collapsed": false,
    "ExecuteTime": {
     "start_time": "2023-05-04T12:16:34.349919Z",
     "end_time": "2023-05-04T12:16:50.568340Z"
    }
   }
  },
  {
   "cell_type": "code",
   "execution_count": null,
   "outputs": [],
   "source": [
    "def compose_behaviors(measures, env, env_cfg, device, deterministic: bool = True, render: bool = True):\n",
    "    num_chunks = len(measures)\n",
    "    agents = []\n",
    "    for m in measures:\n",
    "        agent = get_agent_with_measure(m)\n",
    "        agents.append(agent)\n",
    "\n",
    "    # https://stackoverflow.com/questions/2130016/splitting-a-list-into-n-parts-of-approximately-equal-length\n",
    "    def split(a, n):\n",
    "        k, m = divmod(len(a), n)\n",
    "        return (a[i*k+min(i, m):(i+1)*k+min(i+1, m)] for i in range(n))\n",
    "\n",
    "    time_intervals = list(split(np.arange(0, 1000), num_chunks))\n",
    "\n",
    "    obs = env.reset()\n",
    "    rollout = [env.unwrapped._state]\n",
    "    total_reward = 0\n",
    "    done = False\n",
    "    # get the per-chunk measures independent of other chunks\n",
    "    measure_data = [[] for _ in range(num_chunks)]\n",
    "\n",
    "    t = 0\n",
    "    while not done:\n",
    "        interval_idx = next((i for i, interval in enumerate(time_intervals) if t in interval), None)\n",
    "        agent = agents[interval_idx]\n",
    "        obs_mean, obs_var = agent.obs_normalizer.obs_rms.mean, agent.obs_normalizer.obs_rms.var\n",
    "\n",
    "        obs = (obs - obs_mean) / torch.sqrt(obs_var + 1e-8)\n",
    "\n",
    "        if deterministic:\n",
    "                act = agent.actor_mean(obs)\n",
    "        else:\n",
    "            act, _, _ = agent.get_action(obs)\n",
    "        act = act.squeeze()\n",
    "        obs, rew, done, info = env.step(act.cpu())\n",
    "        measure_t = info['measures']\n",
    "        measure_data[interval_idx].append(measure_t.detach().cpu().numpy())\n",
    "        rollout.append(env.unwrapped._state)\n",
    "        total_reward += rew\n",
    "        t += 1\n",
    "    if render:\n",
    "        i = HTML(html.render(env.unwrapped._env.sys, [s.qp for s in rollout]))\n",
    "        display(i)\n",
    "    print(f'{total_reward=}, Trajectory Length: {t}')\n",
    "    return measure_data"
   ],
   "metadata": {
    "collapsed": false,
    "ExecuteTime": {
     "start_time": "2023-05-04T14:33:45.624170Z",
     "end_time": "2023-05-04T14:33:45.626877Z"
    }
   }
  },
  {
   "cell_type": "code",
   "execution_count": null,
   "outputs": [],
   "source": [
    "measures = [\n",
    "    [0.9, 0.9],\n",
    "    [0.2, 0.2],\n",
    "    [0.5, 0.0],\n",
    "    [0.0, 0.5]\n",
    "]\n",
    "measure_data = compose_behaviors(measures, env, env_cfg, device, render=False)"
   ],
   "metadata": {
    "collapsed": false,
    "ExecuteTime": {
     "start_time": "2023-05-04T14:33:45.917426Z",
     "end_time": "2023-05-04T14:33:49.393331Z"
    }
   }
  },
  {
   "cell_type": "code",
   "execution_count": null,
   "outputs": [],
   "source": [
    "# get the avg measure for each time interval independent of the other ones. Sanity check\n",
    "interval_measures = []\n",
    "for ms in measure_data:\n",
    "    ms = np.mean(np.array(ms), axis=0)\n",
    "    interval_measures.append(ms)\n",
    "print(f'{interval_measures=}')\n",
    "\n",
    "# get the moving average measures\n",
    "window_size = 50\n",
    "moving_averages = []\n",
    "all_measure_data = np.concatenate(measure_data)\n",
    "t = 0\n",
    "while t < len(all_measure_data) - window_size + 1:\n",
    "    window_average = np.sum(all_measure_data[t: t + window_size], axis=0) / window_size\n",
    "    moving_averages.append(window_average)\n",
    "    t += 1"
   ],
   "metadata": {
    "collapsed": false,
    "ExecuteTime": {
     "start_time": "2023-05-04T14:40:02.961437Z",
     "end_time": "2023-05-04T14:40:03.003431Z"
    }
   }
  },
  {
   "cell_type": "code",
   "execution_count": null,
   "outputs": [],
   "source": [
    "plt.plot(np.arange(0, len(moving_averages)), [moving_averages[i][0] for i in range(len(moving_averages))])"
   ],
   "metadata": {
    "collapsed": false,
    "ExecuteTime": {
     "start_time": "2023-05-04T14:40:03.590822Z",
     "end_time": "2023-05-04T14:40:03.640892Z"
    }
   }
  },
  {
   "cell_type": "code",
   "execution_count": null,
   "outputs": [],
   "source": [
    "fig, (ax1, ax2) = plt.subplots(2, 1, figsize=(10, 6))\n",
    "ax1.plot(np.arange(0, len(moving_averages)), [moving_averages[i][0] for i in range(len(moving_averages))])\n",
    "ax2.plot(np.arange(0, len(moving_averages)), [moving_averages[i][1] for i in range(len(moving_averages))])\n",
    "ax1.set_ylabel('Measure 0')\n",
    "ax2.set_ylabel('Measure 1')"
   ],
   "metadata": {
    "collapsed": false,
    "ExecuteTime": {
     "start_time": "2023-05-04T14:43:12.297019Z",
     "end_time": "2023-05-04T14:43:12.382787Z"
    }
   }
  },
  {
   "cell_type": "code",
   "execution_count": null,
   "outputs": [],
   "source": [
    "measures = [\n",
    "    [0.9, 0.9],\n",
    "    [0.2, 0.2],\n",
    "    [0.5, 0.0],\n",
    "    [0.0, 0.5]\n",
    "]"
   ],
   "metadata": {
    "collapsed": false
   }
  }
 ],
 "metadata": {
  "kernelspec": {
   "display_name": "Python 3",
   "language": "python",
   "name": "python3"
  },
  "language_info": {
   "codemirror_mode": {
    "name": "ipython",
    "version": 2
   },
   "file_extension": ".py",
   "mimetype": "text/x-python",
   "name": "python",
   "nbconvert_exporter": "python",
   "pygments_lexer": "ipython2",
   "version": "2.7.6"
  }
 },
 "nbformat": 4,
 "nbformat_minor": 0
}
